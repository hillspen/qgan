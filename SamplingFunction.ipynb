{
 "cells": [
  {
   "cell_type": "code",
   "execution_count": null,
   "id": "b43a5181",
   "metadata": {},
   "outputs": [],
   "source": [
    "# Function that produces sampled measurements from trained generator\n",
    "# This would replace the \"generate_output\" function\n",
    "@qml.qnode(dev)\n",
    "def get_probs():\n",
    "    generator(gen_weights, res)\n",
    "    return qml.probs(wires=[5,6,7,8])\n",
    "\n",
    "def sampled_output(weights,num_shots=1000):\n",
    "    probs = get_probs()\n",
    "    idxs = np.arange(res**2)\n",
    "    samples = np.zeros(res**2)\n",
    "    for i in range(num_shots):\n",
    "        idx = random.choices(idxs,weights=probs)\n",
    "        samples[idx] += 1\n",
    "    return samples/num_shots"
   ]
  }
 ],
 "metadata": {
  "kernelspec": {
   "display_name": "Python 3 (ipykernel)",
   "language": "python",
   "name": "python3"
  },
  "language_info": {
   "codemirror_mode": {
    "name": "ipython",
    "version": 3
   },
   "file_extension": ".py",
   "mimetype": "text/x-python",
   "name": "python",
   "nbconvert_exporter": "python",
   "pygments_lexer": "ipython3",
   "version": "3.9.7"
  }
 },
 "nbformat": 4,
 "nbformat_minor": 5
}
