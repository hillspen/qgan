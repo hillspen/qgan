{
 "cells": [
  {
   "cell_type": "code",
   "execution_count": 1,
   "metadata": {},
   "outputs": [],
   "source": [
    "%matplotlib inline\n",
    "\n",
    "import numpy as np\n",
    "import pandas as pd\n",
    "from matplotlib import pyplot as plt\n",
    "from qiskit import QuantumCircuit, Aer\n",
    "from qiskit.quantum_info import Statevector\n",
    "from qiskit.visualization import plot_bloch_multivector"
   ]
  },
  {
   "cell_type": "markdown",
   "metadata": {},
   "source": [
    "# Variational Quantum Circuit Tutorial\n",
    "\n",
    "## 1 Introduction\n",
    "### 1.1 Preamble\n",
    "\n",
    "The purpose of this tutorial is to introduce you to the idea of variational circuits and give you some experience working with such a circuit.\n",
    "\n",
    "Variational Qunatum Algorithms (VQAs) have become a hot topic recently becasue of their NISQ freindly  architecture and interesting marriage of quantum computing and machine learning. As a result, QMIND's projects this year have been designed around these algorithms. \n",
    "\n",
    "Unfortunately, since this is such a new field, there are few resources out there that give a comprehensive hands-on introduction to VQAs at our desired level of technical detail. This notebook is our attempt to design such an introduction just for you, the incredible QMINDer! However, we are by no means experts in this field so I would like to start by acknowledging the real heavy lifters and while doing so, provide you with some alternative resources to checkout:\n",
    "\n",
    "[[1] Musty Thoughts blogs](https://www.mustythoughts.com/start_here.html): The author has a few posts on [VQE](https://www.mustythoughts.com/variational-quantum-eigensolver-explained) (start with this one), [QAOA](https://www.mustythoughts.com/quantum-approximate-optimization-algorithm-explained), and more. These are really awesome for understanding the intuition and physics behind the algorithms and I highly recommend checking out his entire site.\n",
    "\n",
    "[[2] Xanadu's PennyLane](https://pennylane.ai/): PennyLane is another opensource QC library like Qiskit but really excells in quantum machine learning (QML). They have some fantastic [QML concept explanations](https://pennylane.ai/qml/glossary.html) and I recommend starting [here](https://pennylane.ai/qml/whatisqml.html).\n",
    "\n",
    "[[3] Implementation of VQE using common python libraries](https://github.com/alexander-soare/framework-agnostic-vqe-tutorial): I really like this becuase it gives you an intimate knowledge of the logic behind these off the shelf algorithms from libraries like Qiskit.\n",
    "\n",
    "[[4] IBM's Qiskit](https://qiskit.org/learn): IBM has made an admirable to effort to building the QC community and they have a lot of opensource learning material you can access. Much of this notebook is pulled from thier various events like the Global Quantum Summer School and thier quantum challenges which you should keep an eye out for. Some specifc material you can checkout would be thier [YouTube channel](https://www.youtube.com/qiskit), the last 6 lectures of their [QC course](https://qiskit.org/learn/intro-qc-qh?learnLevel=All%20resources), and the [VQE section of the Qiskit textbook](https://qiskit.org/textbook/ch-applications/vqe-molecules.html). I find you can easily get lost in the math or code in some of the more complex chapters of their textbook so don't get disheartened.\n",
    "\n",
    "So why bother learning about Variational Quantum Circuits when we are going to be building GANs? The basis of Quantum GANs are essentially two competing networks, which are generally built using variational circuits. Understanding the key principles of variational networks will help a lot in understanding QGAN architectures and theory. This paper goes over the sample architecture of a Quantum GAN: https://journals.aps.org/prapplied/pdf/10.1103/PhysRevApplied.16.024051?casa_token=-ZC2lDsnzd0AAAAA%3AUm16Q-A6jjI7Yf8vRqJIkP57MSilghaGWP5qwjXMSWz0APiJibJPiWce17TU3qJyXsMH7XaTrJE-. If you read through the appendices at the end (specifically Appendix B and C) you will see that a lot of the architecture is made up of these so-called \"trainable unitary\" gates. These gates are also the basis of variational circuits!\n",
    "\n",
    "In addition to the practical applications to our project, variational algorithms are really cool and something that is great to have some experience with in the context of Quantum Computing. Most-to-all quantum-classical algorithms (of which most NISQ algorithms are) are formed on the basis of variational circuits. \n",
    "\n",
    "\n",
    "### 1.2 Variational quantum algorithms\n",
    "In the most general sense, a variational quantum circuit is a circuit that depends on a set of parameters $\\theta$. Typically, a variational quantum algorithm queries a quantum computer to sample the output of this parameterized quantum circuit for some fixed parameters and evaluates a given cost function $C(\\theta)$ based on this output. A classical optimizer is then used to update the circuit parameters in order to maximize or minimize the objective function $C$. These steps are repeated in a quantum-classical hybrid loop that eventually terminates when the classical optimization has found optimal parameters $\\theta^*$.\n",
    "\n",
    "<div>\n",
    "<img src=\"./resources/vqa-workflow.jpg\"/>\n",
    "</div>\n",
    "\n",
    "Variational Quantum Algorithms are often seen as a promising method of achieving quantum advantage on near term devices. In a lot of cases they do not require the execution of deep quantum circuits and systematic errors can partly be mitigated by outsourcing the optimization procedure to a classical optimizer. Nevertheless, VQAs also face a number of challenges, in particular the questions of whether they are efficiently trainable and produce solutions that are in fact superior to those obtained by classical algorithms. \n",
    "Despite these challenges, VQAs have been proposed for a variety of problem settings, amongst others the following.\n",
    "\n",
    "- **Variational Quantum Eigensolvers (VQE)**: \n",
    "VQEs attempt to approximate the ground state and corresponding energy of a quantum system described by a Hamiltonian $H$ (i.e. the lowest eigenvalue and eigenvector of the corresponding matrix) (see [below](#1.4-Variational-Quantum-Eigensolvers)).\n",
    "\n",
    "- **QAOA:** An approximate optimization algorithm used for combinatorial optimization problems. QAOA can be seen as a VQE that solves optimization problems by encoding the cost function as a problem Hamiltonian.\n",
    "\n",
    "- **Variational Classifiers**: A variational classifier is a quantum circuit that is trained on a data set to classify unseen data samples, reminiscent of classical machine learning classifiers. \n",
    "\n",
    "- **Variational Quantum Linear Solvers**: VQLS solves systems of linear equations by leveraging the basic ideas behind VQEs.\n",
    "\n",
    "\n",
    "### 1.3 The Variational Method\n",
    "Consider a Hermitian operator $H$, referred to as the **Hamiltonian**, describing the energy of a quantum system with corresponding ground state $\\vert \\psi_0 \\rangle$ and ground state energy $E_0$. The variational method is a technique to approximate $\\vert \\psi_0 \\rangle$ and $E_0$. This is done by choosing a parameterized trial state $\\vert \\psi(\\theta) \\rangle$ (the ansatz or \"guess\"), where $\\theta$ denotes a set of parameters. The energy of the system in the state $\\vert \\psi \\rangle$ is given by its expectation value with respect to $H$\n",
    "$$\n",
    "E = \\langle \\psi \\vert H \\vert \\psi \\rangle\n",
    "$$\n",
    "Since the ground state of the system is the lowest energy eigenstate, by definition it holds that\n",
    "$$\n",
    "E_0 = \\langle \\psi_0 \\vert H \\vert \\psi_0 \\rangle \\leq \\langle \\psi(\\theta) \\vert H \\vert \\psi(\\theta) \\rangle,\n",
    "$$\n",
    "for any parameters $\\theta$. Thus, by minimizing the expectation value of the trial state $\\psi(\\theta)$, that is, finding parameters $\\theta$ for which the expectation value $\\langle \\psi(\\theta) \\vert H \\vert \\psi(\\theta) \\rangle$ becomes as small as possible, we obtain an upper bound on the ground state energy $E_0$ and an approximation of the ground state itself. Naturally, the choice of a good trial state $\\psi(\\theta)$ is principal to the success of the variational method.\n",
    "\n",
    "### 1.4 Variational Quantum Eigensolvers\n",
    "Variational quantum eigensolvers use the variational method to approximate the ground state and minimal eigenvalue of a Hamiltonian $H$. The trial state now corresponds to a quantum state prepared by a variational quantum circuit and the corresponding expectation value is measured by executing the circuit on a quantum computer. A classical optimizer is then used to tune the circuit parameters and minimize the measured expectation value.\n",
    "\n",
    "Apart from being applicable to problems in chemistry or quantum mechanics itself, where we are directly interested in the ground state of a given Hamiltonian, one can also use the concept of variational quantum eigensolvers for optimization problems, by encoding the cost function that should be optimized as a Hamiltonian whose ground state corresponds to the optimal solution of the problem. \n",
    "\n",
    "<div>\n",
    "<img src=\"./resources/hybrid.png\"/>\n",
    "</div>\n",
    "\n",
    "\n",
    "### 1.5 QML vs ML\n",
    "There is a reason why this general field is referred to as QML and it is not just to maximize the number of buzz words in a name. It is becasue it is really just machine learning on a quantum arcitecture. The parameters $\\theta$ which we are varying to find an optimal circuit is analogous to the weights and biases of a classical ML model that we adjust to find an optimal model. In fact, the optimizaiton techniques to find our solution can be eactly the same.\n",
    "\n",
    "So why bother use QML over ML? Well that's a great questions and I don't really have a great answer for you. There are a lot of different justifications that I would be happy to discuss with you sometime but let's just go with the simple fact that building AI with quantum computers is firgging cool."
   ]
  },
  {
   "cell_type": "markdown",
   "metadata": {},
   "source": [
    "## 2 Parameterized Circuits\n",
    "As the name implies and as discussed above, a parameterized circuit differs from the usual circuits that we have seen by the fact that we assign a set of symbolic parameters to the circuit rather than hardcode a set of numbers. The value of these parameters are up to us (more specifically, our optimizer) to set and the parameters themselve typically represent angles of rotation. It is through these different rotations that we can model different functions.\n",
    "\n",
    "Let's look at how these are used in Qiskit.\n",
    "\n",
    "### 2.1 Constructing Parameterized Circuits\n",
    "Creating a quantum circuit with parameters in Qiskit is not much different from creating a standard quantum circuit. We simply initialize parameters using Qiskit's ```Parameter``` class and use them accordingly when appending gates to the constructed circuit. In the following example, we use parameters for the rotation angle of rotational quantum gates."
   ]
  },
  {
   "cell_type": "code",
   "execution_count": 2,
   "metadata": {},
   "outputs": [],
   "source": [
    "from qiskit.circuit import Parameter, ParameterVector"
   ]
  },
  {
   "cell_type": "code",
   "execution_count": 3,
   "metadata": {},
   "outputs": [
    {
     "data": {
      "image/png": "[encoded data removed]",
      "text/plain": [
       "<Figure size 193.726x84.28 with 1 Axes>"
      ]
     },
     "execution_count": 3,
     "metadata": {},
     "output_type": "execute_result"
    }
   ],
   "source": [
    "# Parameters are initialized with a simple string identifier\n",
    "parameter_0 = Parameter('θ[0]')\n",
    "parameter_1 = Parameter('θ[1]')\n",
    "circuit_2param = QuantumCircuit(1)\n",
    "\n",
    "# We can then pass the initialized parameters as the rotation angle argument to the Rx and Ry gates\n",
    "circuit_2param.ry(theta = parameter_0, qubit = 0)\n",
    "circuit_2param.rx(theta = parameter_1, qubit = 0)\n",
    "circuit_2param.draw('mpl')"
   ]
  },
  {
   "cell_type": "markdown",
   "metadata": {},
   "source": [
    "For convenience, there also exists a ```ParameterVector``` class in Qiskit which allows for the creation of multiple parameters at once. Consider the following example of a [RealAmplitudes](https://qiskit.org/documentation/stubs/qiskit.circuit.library.RealAmplitudes.html) circuit, which consists of alternating layers of parameterized $R_Y$ gates and entangling $CX$ gates. "
   ]
  },
  {
   "cell_type": "code",
   "execution_count": 4,
   "metadata": {},
   "outputs": [
    {
     "data": {
      "image/png": "[encoded data removed]",
      "text/plain": [
       "<Figure size 929.397x264.88 with 1 Axes>"
      ]
     },
     "execution_count": 4,
     "metadata": {},
     "output_type": "execute_result"
    }
   ],
   "source": [
    "# Set the number of layers and qubits\n",
    "n=3\n",
    "num_layers = 2\n",
    "\n",
    "# ParameterVectors are initialized with a string identifier and an integer specifying the vector length\n",
    "parameters = ParameterVector('θ', n*(num_layers+1))\n",
    "\n",
    "ra_circuit = QuantumCircuit(n, n)\n",
    "for layer in range(num_layers):\n",
    "    # Appending the parameterized Ry gates using parameters from the vector constructed above\n",
    "    for i in range(n):\n",
    "        ra_circuit.ry(parameters[n*layer+i], i)\n",
    "    ra_circuit.barrier()\n",
    "\n",
    "    # Appending the entangling CNOT gates\n",
    "    for i in range(n):\n",
    "        for j in range(i):\n",
    "                ra_circuit.cx(j,i)\n",
    "    ra_circuit.barrier()\n",
    "\n",
    "# Appending one additional layer of parameterized Ry gates\n",
    "for i in range(n):\n",
    "    ra_circuit.ry(parameters[n*num_layers+i], i)\n",
    "ra_circuit.barrier()\n",
    "\n",
    "ra_circuit.draw('mpl')"
   ]
  },
  {
   "cell_type": "markdown",
   "metadata": {},
   "source": [
    "The [RealAmplitudes](https://qiskit.org/documentation/stubs/qiskit.circuit.library.RealAmplitudes.html) variational circuit above is commonly used for classification in quantum machine learning and can also be found in the [circuit library](https://qiskit.org/documentation/apidoc/circuit_library.html) of Qiskit. Do not worry too much about this yet though, we will get into these circuits in the projects. \n",
    "\n",
    "We can inspect the parameters that are part of a quantum circuit."
   ]
  },
  {
   "cell_type": "code",
   "execution_count": 5,
   "metadata": {},
   "outputs": [
    {
     "name": "stdout",
     "output_type": "stream",
     "text": [
      "ParameterView([ParameterVectorElement(θ[0]), ParameterVectorElement(θ[1]), ParameterVectorElement(θ[2]), ParameterVectorElement(θ[3]), ParameterVectorElement(θ[4]), ParameterVectorElement(θ[5]), ParameterVectorElement(θ[6]), ParameterVectorElement(θ[7]), ParameterVectorElement(θ[8])])\n"
     ]
    }
   ],
   "source": [
    "print(ra_circuit.parameters)"
   ]
  },
  {
   "cell_type": "markdown",
   "metadata": {},
   "source": [
    "### 2.2 Assigning values to parameters\n",
    "So we have essentially just replaced the value of an angle with some symbolic variable. Now let's see how to assign that variable with an actaul value.\n",
    "\n",
    "A parameterized circuit cannot be executed on a quantum backend until the parameters have been assigned fixed values. To do so, we can use the `QuantumCircuit` methods \n",
    "\n",
    "```\n",
    "assign_parameters(parameters, inplace = False)\n",
    "bind_parameters(values)\n",
    "```\n",
    "The two methods are quite similar and we will typically stick with `assign_parameters` but it is worth knowing the difference.\n",
    "`bind_parameters` assigns numeric values to the parameters of the circuit,  yielding a new circuit. With `assign_parameters`, one can assign numeric values or substitute parameters by other parameter expressions. Additionally, with `assign_parameters` it is possible to substitute parameters in place instead of yielding a new circuit. \n",
    "\n",
    "The values or parameter expressions that should be assigned to the circuit parameters can be provided either as a dictionary, where the keys correspond to the circuit parameters and the dictionary values are the values to bind, or as an iterable of values. In the latter case values are assigned to parameters in the same order as parameters were added to the circuit.\n",
    "\n",
    "Let's go back to our 2 gate parameterized circuit first."
   ]
  },
  {
   "cell_type": "code",
   "execution_count": 6,
   "metadata": {},
   "outputs": [
    {
     "data": {
      "image/png": "[encoded data removed]",
      "text/plain": [
       "<Figure size 193.726x84.28 with 1 Axes>"
      ]
     },
     "execution_count": 6,
     "metadata": {},
     "output_type": "execute_result"
    }
   ],
   "source": [
    "bound_circuit = circuit_2param.assign_parameters(\n",
    "    parameters = [np.pi, np.pi/2]\n",
    ")\n",
    "bound_circuit.draw('mpl')"
   ]
  },
  {
   "cell_type": "markdown",
   "metadata": {},
   "source": [
    "And for the RealAmplitudes circuit:"
   ]
  },
  {
   "cell_type": "code",
   "execution_count": 7,
   "metadata": {},
   "outputs": [
    {
     "name": "stdout",
     "output_type": "stream",
     "text": [
      "{ParameterVectorElement(θ[0]): 0.03809, ParameterVectorElement(θ[1]): 0.04381, ParameterVectorElement(θ[2]): 0.95765, ParameterVectorElement(θ[3]): 0.71333, ParameterVectorElement(θ[4]): 0.11467, ParameterVectorElement(θ[5]): 0.40295, ParameterVectorElement(θ[6]): 0.32283, ParameterVectorElement(θ[7]): 0.96848, ParameterVectorElement(θ[8]): 0.37118}\n"
     ]
    },
    {
     "data": {
      "image/png": "[encoded data removed]",
      "text/plain": [
       "<Figure size 1290.6x264.88 with 1 Axes>"
      ]
     },
     "execution_count": 7,
     "metadata": {},
     "output_type": "execute_result"
    }
   ],
   "source": [
    "# Create parameter dictionary with random values to bind\n",
    "param_dict = {parameter: round(np.random.random(), 5) for parameter in parameters}\n",
    "print(param_dict)\n",
    "\n",
    "# Assign parameters using the assign_parameters method\n",
    "bound_circuit = ra_circuit.assign_parameters(\n",
    "    parameters = param_dict\n",
    ")\n",
    "bound_circuit.draw('mpl')"
   ]
  },
  {
   "cell_type": "markdown",
   "metadata": {},
   "source": [
    "And finally note that we can substitute parameters of the original circuit with others."
   ]
  },
  {
   "cell_type": "code",
   "execution_count": 8,
   "metadata": {},
   "outputs": [
    {
     "data": {
      "image/png": "[encoded data removed]",
      "text/plain": [
       "<Figure size 929.397x264.88 with 1 Axes>"
      ]
     },
     "execution_count": 8,
     "metadata": {},
     "output_type": "execute_result"
    }
   ],
   "source": [
    "new_parameters = ParameterVector('Ψ',9)\n",
    "new_circuit = ra_circuit.assign_parameters(parameters = [k*new_parameters[k] for k in range(9)])\n",
    "new_circuit.draw('mpl')"
   ]
  },
  {
   "cell_type": "markdown",
   "metadata": {},
   "source": [
    "The bound version of the circuit can now be executed on a quantum device. Attempting to execute a parameterized quantum circuit with non-assigned parameters will throw an error."
   ]
  },
  {
   "cell_type": "markdown",
   "metadata": {},
   "source": [
    "### 2.3 Visualizations\n",
    "\n",
    "Recall that the entire point of these parameterized gates are to help us learn unkown functions/states. As a result, we want to design our circuits to maximize the likelihood that they will be able approximate our function. This typically means enhancing our access to the quantum system's Hilbert space or using some domain knowledge to guess the structure of the solution we are trying to find. That is to say, we either want to make our circuit general enough that $|\\psi_0\\rangle$ is likely in our space of possible states or we use an educated guess at the structure of $|\\psi_0\\rangle$ to narrow our serach.\n",
    "This is an active area of research and a big part of our project so I will only breifly touch on it. \n",
    "\n",
    "Consider the single-gate ciruit below and take a look at how much of the bloch sphere it covers"
   ]
  },
  {
   "cell_type": "code",
   "execution_count": 9,
   "metadata": {},
   "outputs": [
    {
     "data": {
      "image/png": "[encoded data removed]",
      "text/plain": [
       "<Figure size 133.526x84.28 with 1 Axes>"
      ]
     },
     "execution_count": 9,
     "metadata": {},
     "output_type": "execute_result"
    }
   ],
   "source": [
    "# Parameters are initialized with a simple string identifier\n",
    "parameter = Parameter('θ')\n",
    "qc = QuantumCircuit(1)\n",
    "\n",
    "# We can then pass the initialized parameters as the rotation angle argument to the Rx and Ry gates\n",
    "qc.ry(parameter, 0)\n",
    "qc.draw('mpl')"
   ]
  },
  {
   "cell_type": "markdown",
   "metadata": {},
   "source": [
    "![fbasiscounting](resources/blochvector-1ax.gif)\n",
    "\n",
    "Now consider the two-gate circuit below."
   ]
  },
  {
   "cell_type": "code",
   "execution_count": 10,
   "metadata": {},
   "outputs": [
    {
     "data": {
      "image/png": "[encoded data removed]",
      "text/plain": [
       "<Figure size 193.726x84.28 with 1 Axes>"
      ]
     },
     "execution_count": 10,
     "metadata": {},
     "output_type": "execute_result"
    }
   ],
   "source": [
    "# Parameters are initialized with a simple string identifier\n",
    "parameter_0 = Parameter('θ[0]')\n",
    "parameter_1 = Parameter('θ[1]')\n",
    "qc = QuantumCircuit(1)\n",
    "\n",
    "# We can then pass the initialized parameters as the rotation angle argument to the Rx and Ry gates\n",
    "qc.ry(theta = parameter_0, qubit = 0)\n",
    "qc.rx(theta = parameter_1, qubit = 0)\n",
    "qc.draw('mpl')"
   ]
  },
  {
   "cell_type": "markdown",
   "metadata": {},
   "source": [
    "![fbasiscounting](resources/blochvector-2ax.gif)\n",
    "\n",
    "This may be obvious but it is important to understand when we are researching ansatzes.\n",
    "\n",
    "\n",
    "## 3 Expectation Values\n",
    "\n",
    "So now we have the foundations to build quantum circuits that we can tune and use to learn - that is, we can now define $\\vert\\psi (\\theta)\\rangle$. Next I want to touch on how to pull some sort of result/measurement from these circuits - that is, let's now define the Hamiltonian $H$ (recall the notation from the variational method in [section 1.3](#1.3-The-Variational-Method)). In quantum mechanics, the Hamiltonian describes the energy of the system and its time evolution as defined by the [Schrodinger equation](https://en.wikipedia.org/wiki/Schr%C3%B6dinger_equation) but here we generalize the meaning to encode whatever quantity we are trying to minimize. \n",
    "\n",
    "We evaluate the Hamiltonian by computing what is called the *expectation value*. If you are not familiar with the term, an expectation value is just the average value of a given observable:\n",
    "$$\n",
    "\\langle\\psi(\\theta) | H | \\psi(\\theta)\\rangle\n",
    "$$ \n",
    "For those of you with an ML background, the expectaiton value of the Hamiltonian in QML is the function we use to compute the output of the model  and we use it to define our loss function and compute the gradient.\n",
    "\n",
    "### 3.1 Defining the Hamiltonian\n",
    "\n",
    "The Hamiltonian is built by combining a bunch of Pauli operators through linear combinations of tensor products. So for a two qubit circuit you could have something like:\n",
    "$$\n",
    "H = Z \\otimes Z + 2 * I \\otimes Y + X \\otimes Z\n",
    "$$\n",
    "This is arbitrary but Hamiltonians are built based on the problem you are trying to solve. For the [protien folding problem](https://www.nature.com/articles/s41534-021-00368-4), the Hamiltonian of the algorithm is designed based on the structure of the protien and the constraints on how it can fold. For QML, it is common to use a simple Hamiltonian since there isn't much physical meaning in the problem and it is often reasonable to assume that the structure of the Hamlitonian is learned in the variational section of the circuit.\n",
    "\n",
    "In Qiskit Hamiltonians are easily defined using the `qiskit.opflow` module ([this](https://qiskit.org/documentation/tutorials/operators/01_operator_flow.html) in an indepth overview of the modules functionality) where operators can be tensored using the `^` operator:"
   ]
  },
  {
   "cell_type": "code",
   "execution_count": 11,
   "metadata": {},
   "outputs": [],
   "source": [
    "from qiskit.opflow import I, X, Y, Z, StateFn"
   ]
  },
  {
   "cell_type": "code",
   "execution_count": 12,
   "metadata": {},
   "outputs": [
    {
     "name": "stdout",
     "output_type": "stream",
     "text": [
      "ZZ\n"
     ]
    }
   ],
   "source": [
    "hamiltonian = Z ^ Z\n",
    "print(hamiltonian)"
   ]
  },
  {
   "cell_type": "code",
   "execution_count": 13,
   "metadata": {},
   "outputs": [
    {
     "name": "stdout",
     "output_type": "stream",
     "text": [
      "1.0 * ZX\n",
      "+ 1.0 * XZ\n"
     ]
    }
   ],
   "source": [
    "hamiltonian = (Z ^ X) +  (X ^ Z)\n",
    "print(hamiltonian)"
   ]
  },
  {
   "cell_type": "markdown",
   "metadata": {},
   "source": [
    "Try to make the Hamiltonian: $H = Z \\otimes Z + 2 * I \\otimes Y + X \\otimes Z$"
   ]
  },
  {
   "cell_type": "code",
   "execution_count": 14,
   "metadata": {},
   "outputs": [
    {
     "ename": "SyntaxError",
     "evalue": "invalid syntax (<ipython-input-14-d77b96247555>, line 1)",
     "output_type": "error",
     "traceback": [
      "\u001b[0;36m  File \u001b[0;32m\"<ipython-input-14-d77b96247555>\"\u001b[0;36m, line \u001b[0;32m1\u001b[0m\n\u001b[0;31m    hamiltonian =\u001b[0m\n\u001b[0m                  ^\u001b[0m\n\u001b[0;31mSyntaxError\u001b[0m\u001b[0;31m:\u001b[0m invalid syntax\n"
     ]
    }
   ],
   "source": [
    "hamiltonian = \n",
    "print(hamiltonian)"
   ]
  },
  {
   "cell_type": "markdown",
   "metadata": {},
   "source": [
    "### 3.2 Computing the expectation value\n",
    "Again with the ``qiskit.opflow`` module, we can write and evaluate expectation values. The general structure for an expectation value where the state is prepared by a circuit is\n",
    "\n",
    "    expectation = StateFn(hamiltonian, is_measurement=True) @ StateFn(circuit)\n",
    "    result = expectation.eval()\n",
    "    \n",
    "The above code uses plain matrix multiplication to evaluate the expected value, which is inefficient for large numbers of qubits. Instead, we can use a simulator (or a real quantum device) to evaluate the circuits by using a ``CircuitSampler`` in conjunction with an expectation converter like ``PauliExpectation``:\n",
    "\n",
    "    sampler = CircuitSampler(q_instance)  # q_instance is our quantum simulator or device\n",
    "    expectation = StateFn(hamiltonian, is_measurement=True) @ StateFn(circuit)\n",
    "    in_pauli_basis = PauliExpectation().convert(expectation)\n",
    "    result = sampler.convert(in_pauli_basis).eval()\n",
    "    \n",
    "Calculate the expected value of the following Hamiltonian ``H`` and state prepared by the circuit ``U`` with plain matrix multiplication."
   ]
  },
  {
   "cell_type": "code",
   "execution_count": 19,
   "metadata": {},
   "outputs": [],
   "source": [
    "H = X ^ X\n",
    "\n",
    "U = QuantumCircuit(2)\n",
    "U.h(0)\n",
    "U.cx(0, 1)\n",
    "\n",
    "# YOUR CODE HERE\n",
    "\n",
    "\n",
    "print(result)"
   ]
  },
  {
   "cell_type": "markdown",
   "metadata": {},
   "source": [
    "### 3.3 Combining it all together\n",
    "We can then use the expectation and our parameterized circuits to build model that we can use to learn a task. To give you an idea of what this might look like, let's go back to our two-gate parameterized circuit:"
   ]
  },
  {
   "cell_type": "code",
   "execution_count": 20,
   "metadata": {},
   "outputs": [
    {
     "data": {
      "image/png": "[encoded data removed]",
      "text/plain": [
       "<Figure size 193.726x84.28 with 1 Axes>"
      ]
     },
     "execution_count": 20,
     "metadata": {},
     "output_type": "execute_result"
    }
   ],
   "source": [
    "circuit_2param.draw('mpl')"
   ]
  },
  {
   "cell_type": "markdown",
   "metadata": {},
   "source": [
    "Now we can build our expectation value and a general function that takes some parameters values and uses those to compute the expectation value. We can then use a gradient approximation technique like [finite difference](https://en.wikipedia.org/wiki/Finite_difference):\n",
    "$$\n",
    "\\nabla f(\\theta) \\approx \\frac{f(\\theta+\\epsilon) - f\\theta-\\epsilon)}{2\\epsilon}\n",
    "$$\n",
    "Since we have a paremeter vector, we compute this by each component:\n",
    "$$\n",
    "\\frac{\\partial f(\\vec\\theta)}{\\partial \\theta_i} \\approx \\frac{f(\\vec\\theta+\\epsilon\\hat e_i) - f(\\vec\\theta-\\epsilon\\hat e_i)}{2\\epsilon}\n",
    "$$"
   ]
  },
  {
   "cell_type": "code",
   "execution_count": 21,
   "metadata": {},
   "outputs": [],
   "source": [
    "H = Z\n",
    "ansatz = circuit_2param\n",
    "\n",
    "expectation = StateFn(H, is_measurement=True) @ StateFn(ansatz)\n",
    "\n",
    "def evaluate_expectation(theta):\n",
    "    value_dict = dict(zip(ansatz.parameters, theta))  # dictionary with parameter values\n",
    "    expectation_bound = expectation.assign_parameters(value_dict)\n",
    "    result = expectation_bound.eval()  \n",
    "    return np.real(result)"
   ]
  },
  {
   "cell_type": "code",
   "execution_count": 22,
   "metadata": {},
   "outputs": [
    {
     "name": "stdout",
     "output_type": "stream",
     "text": [
      "-0.4932835780080136\n"
     ]
    }
   ],
   "source": [
    "eps = 0.002\n",
    "e_i = np.array([0, 1])  # only vary one component of theta at a time\n",
    "\n",
    "theta = np.random.rand(2)\n",
    "\n",
    "plus = theta + eps * e_i\n",
    "minus = theta - eps * e_i\n",
    "\n",
    "grad = (evaluate_expectation(plus) - evaluate_expectation(minus)) / (2 * eps)\n",
    "\n",
    "print(grad)"
   ]
  },
  {
   "cell_type": "markdown",
   "metadata": {},
   "source": [
    "Using this approximation of the gradient, we can then use gradient descent to adjust our parameters and converge to some local minimum which represents our solution. And that's it! We can now (sort of) build a QML model! \n",
    "\n",
    "This may have been a particularly breif explanation of how we can make quantum circuits learn but I just wanted to expose you to some of the ideas we will be exploring in our project. So don't worry if you are confused about how to actually design a variational quantum algorithm - that's what we will be exploring in the next few months!"
   ]
  }
 ],
 "metadata": {
  "kernelspec": {
   "display_name": "Python 3",
   "language": "python",
   "name": "python3"
  },
  "language_info": {
   "codemirror_mode": {
    "name": "ipython",
    "version": 3
   },
   "file_extension": ".py",
   "mimetype": "text/x-python",
   "name": "python",
   "nbconvert_exporter": "python",
   "pygments_lexer": "ipython3",
   "version": "3.8.3"
  }
 },
 "nbformat": 4,
 "nbformat_minor": 4
}
