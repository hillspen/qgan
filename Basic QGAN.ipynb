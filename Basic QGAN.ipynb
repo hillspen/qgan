{
 "cells": [
  {
   "cell_type": "markdown",
   "metadata": {},
   "source": [
    "# Basic QGAN\n",
    "\n",
    "Quantum Generative Adversarial Network capable of generating a fixed state of a single qubit. Implemented following https://arxiv.org/pdf/1804.08641.pdf by Cameron Estabrooks, Jacob Ewaniuk, Adam Grace, Spencer Hill, and Joshua Otten.\n"
   ]
  },
  {
   "cell_type": "markdown",
   "metadata": {},
   "source": [
    "# Imports"
   ]
  },
  {
   "cell_type": "code",
   "execution_count": 16,
   "metadata": {},
   "outputs": [],
   "source": [
    "import numpy as np\n",
    "from numpy import pi\n",
    "import qiskit\n",
    "from qiskit import QuantumCircuit, transpile, assemble, Aer, IBMQ\n",
    "from qiskit.providers.ibmq import least_busy\n",
    "from qiskit.tools.monitor import job_monitor\n",
    "from qiskit.visualization import plot_histogram, plot_bloch_multivector\n",
    "from qiskit.algorithms.optimizers import SPSA\n",
    "import scipy\n",
    "from numpy import linalg as la\n",
    "from qiskit.quantum_info import Statevector\n",
    "from tensorflow import keras\n",
    "np.random.seed(0)"
   ]
  },
  {
   "cell_type": "markdown",
   "metadata": {},
   "source": [
    "# Real Data"
   ]
  },
  {
   "cell_type": "code",
   "execution_count": 25,
   "metadata": {},
   "outputs": [],
   "source": [
    "def real(qc, angles):\n",
    "    assert len(angles == 3)\n",
    "    qc.h(0)\n",
    "    qc.u(angles[0], angles[1], angles[2], 0)"
   ]
  },
  {
   "cell_type": "markdown",
   "metadata": {},
   "source": [
    "# Generator Function\n",
    "\n",
    "Meant to create a universal ansatz capable of mimicking any single-qubit gate and entanglement. Weights are available for optimization. "
   ]
  },
  {
   "cell_type": "code",
   "execution_count": 3,
   "metadata": {},
   "outputs": [],
   "source": [
    "def generator(weights, circ):\n",
    "    circ.h(0)\n",
    "    circ.rx(weights[0], 0)\n",
    "    circ.rx(weights[1], 1)\n",
    "    circ.ry(weights[2], 0)\n",
    "    circ.ry(weights[3], 1)\n",
    "    circ.rz(weights[4], 0)\n",
    "    circ.rz(weights[5], 1)\n",
    "    circ.cnot(0, 1)\n",
    "    circ.rx(weights[6], 0)\n",
    "    circ.ry(weights[7], 0)\n",
    "    circ.rz(weights[8], 0)\n",
    "    "
   ]
  },
  {
   "cell_type": "markdown",
   "metadata": {},
   "source": [
    "# Discriminator Function"
   ]
  },
  {
   "cell_type": "code",
   "execution_count": 4,
   "metadata": {},
   "outputs": [],
   "source": [
    "def discriminator(w, circuit):\n",
    "    circuit.h(0)\n",
    "    circuit.rx(w[0], 0)\n",
    "    circuit.rx(w[1], 2)\n",
    "    circuit.ry(w[2], 0)\n",
    "    circuit.ry(w[3], 2)\n",
    "    circuit.rz(w[4], 0)\n",
    "    circuit.rz(w[5], 2)\n",
    "    circuit.cx(0, 2)\n",
    "    circuit.rx(w[6], 2)\n",
    "    circuit.ry(w[7], 2)\n",
    "    circuit.rz(w[8], 2)\n",
    "    circuit.measure(2,0)"
   ]
  },
  {
   "cell_type": "markdown",
   "metadata": {},
   "source": [
    "# Cost Functions"
   ]
  },
  {
   "cell_type": "code",
   "execution_count": 5,
   "metadata": {},
   "outputs": [],
   "source": [
    "# Circuit functions for real and fake data\n",
    "def real_disc_circuit(angles, local_disc_weights):\n",
    "    qc = QuantumCircuit(3, 1)\n",
    "    real(qc, angles)\n",
    "    discriminator(local_disc_weights, qc)\n",
    "    return qc\n",
    "\n",
    "def gen_disc_circuit(local_gen_weights, local_disc_weights):\n",
    "    qc = QuantumCircuit(3, 1)\n",
    "    generator(local_gen_weights, qc)\n",
    "    discriminator(local_disc_weights, qc)\n",
    "    return qc"
   ]
  },
  {
   "cell_type": "code",
   "execution_count": 6,
   "metadata": {},
   "outputs": [],
   "source": [
    "def disc_cost(local_disc_weights, shots=1024, sim=Aer.get_backend('aer_simulator')):\n",
    "    qc = real_disc_circuit(angs, local_disc_weights)\n",
    "    circ_trans = transpile(qc.compose(qc), sim)\n",
    "    memory = sim.run(qc.compose(circ_trans), shots=shots, memory=True).result().get_memory(qc)\n",
    "    ones = memory.count('1')\n",
    "    zeros = memory.count('0')\n",
    "    prob_disc = ones/(zeros+ones)\n",
    "    \n",
    "    qc = gen_disc_circuit(gen_weights, disc_weights)\n",
    "    circ_trans = transpile(qc.compose(qc), sim)\n",
    "    memory = sim.run(qc.compose(circ_trans), shots=shots, memory=True).result().get_memory(qc)\n",
    "    ones = memory.count('1')\n",
    "    zeros = memory.count('0')\n",
    "    prob_gen = ones/(zeros+ones)\n",
    "    return prob_gen - prob_disc\n",
    "\n",
    "def gen_cost(local_gen_weights, shots=1024, sim=Aer.get_backend('aer_simulator')):\n",
    "    qc = gen_disc_circuit(local_gen_weights, disc_weights)\n",
    "    circ_trans = transpile(qc.compose(qc), sim)\n",
    "    memory = sim.run(qc.compose(circ_trans), shots=shots, memory=True).result().get_memory(qc)\n",
    "    ones = memory.count('1')\n",
    "    zeros = memory.count('0')\n",
    "    prob_gen = ones/(zeros+ones)\n",
    "    return -prob_gen"
   ]
  },
  {
   "cell_type": "markdown",
   "metadata": {},
   "source": [
    "# QGAN Training"
   ]
  },
  {
   "cell_type": "code",
   "execution_count": 12,
   "metadata": {},
   "outputs": [],
   "source": [
    "# Discriminator Training Routine/Function\n",
    "def disc_train(disc_cost_function, local_disc_weights, hp=None):\n",
    "    \"\"\"\n",
    "    Trains the QGAN discriminator\n",
    "    :param disc_cost_fun: Cost function for discriminator\n",
    "    :param disc_weights: Weights/parameters for discriminator\n",
    "    :param hp: A dictionary of hyperparameters: \"steps_per_epoch\", \"learn_rate\"\n",
    "    :return:\n",
    "    \"\"\"\n",
    "    \n",
    "    if hp is None:\n",
    "        hp = {\"steps_per_epoch\": 50, \"learn_rate\": 0.001}\n",
    "    for step in range(hp[\"steps_per_epoch\"]):\n",
    "        if step % 2 == 0:\n",
    "            print(\"Step: \", step, \"Disc Loss: \", disc_cost(local_disc_weights))\n",
    "        spsa = SPSA(maxiter=300)\n",
    "        result = spsa.optimize(len(local_disc_weights), disc_cost_function, initial_point=local_disc_weights)\n",
    "        local_disc_weights = result[0]\n",
    "    return local_disc_weights"
   ]
  },
  {
   "cell_type": "code",
   "execution_count": 13,
   "metadata": {},
   "outputs": [],
   "source": [
    "# Generator Training Routine/Fuction\n",
    "def gen_train(gen_cost_function, local_gen_weights, hp=None):\n",
    "    \"\"\"\n",
    "    Trains the QGAN discriminator\n",
    "    :param gen_cost_fun: Cost function for generator\n",
    "    :param gen_weights: Weights/parameters for generator\n",
    "    :param hp: A dictionary of hyperparameters: \"steps_per_epoch\", \"learn_rate\"\n",
    "    :return:\n",
    "    \"\"\"\n",
    "    \n",
    "    if hp is None:\n",
    "        hp = {\"steps_per_epoch\": 10, \"learn_rate\": 0.001}\n",
    "    for step in range(hp[\"steps_per_epoch\"]):\n",
    "        if step % 2 == 0:\n",
    "            print(\"Step: \", step, \"Gen Loss: \", gen_cost(local_gen_weights))\n",
    "        spsa = SPSA(maxiter=300)\n",
    "        result = spsa.optimize(len(local_gen_weights), gen_cost_function, initial_point=local_gen_weights)\n",
    "        local_gen_weights = result[0]\n",
    "    return local_gen_weights\n",
    "#     opt = keras.optimizers.Nadam(learning_rate=hp[\"learn_rate\"])\n",
    "#     for step in range(hp[\"steps_per_epoch\"]):\n",
    "#         opt.minimize(gen_cost_function, gen_weights)"
   ]
  },
  {
   "cell_type": "code",
   "execution_count": 9,
   "metadata": {},
   "outputs": [],
   "source": [
    "# Full Training Heuristics\n",
    "def train(disc_cost_fun, gen_cost_fun, hp=None):\n",
    "    \"\"\"\n",
    "    Trains the QGAN\n",
    "    :param disc_cost_fun: Cost function for discriminator\n",
    "    :param gen_cost_fun: Cost function for generator\n",
    "    :param disc_weights: Weights/parameters for discriminator\n",
    "    :param gen_weights: Weights/parameters for generator\n",
    "    :param hp: A dictionary of hyperparameters: \"epochs\", \"steps_per_epoch\", \"learn_rate\"\n",
    "    :return:\n",
    "    \"\"\"\n",
    "    global gen_weights\n",
    "    global disc_weights\n",
    "    if hp is None:\n",
    "        hp = {\"epochs\": 1, \"steps_per_epoch\": 10, \"learn_rate\": 0.001}\n",
    "    for epoch in range(hp[\"epochs\"]):\n",
    "        disc_weights = disc_train(disc_cost_fun, disc_weights, hp)\n",
    "        gen_weights = gen_train(gen_cost_fun, gen_weights, hp)"
   ]
  },
  {
   "cell_type": "markdown",
   "metadata": {},
   "source": [
    "# Testing"
   ]
  },
  {
   "cell_type": "code",
   "execution_count": 23,
   "metadata": {},
   "outputs": [],
   "source": [
    "def compare(real_circuit, generator_circuit):\n",
    "    global angs\n",
    "    global gen_weights\n",
    "    qc_real = QuantumCircuit(1)\n",
    "    real_circuit(qc_real, angs)\n",
    "    qc_fake = QuantumCircuit(3,1)\n",
    "    generator_circuit(gen_weights, qc_fake)\n",
    "    return Statevector.from_instruction(qc_real), Statevector.from_instruction(qc_fake)"
   ]
  },
  {
   "cell_type": "code",
   "execution_count": 14,
   "metadata": {},
   "outputs": [
    {
     "name": "stdout",
     "output_type": "stream",
     "text": [
      "Original Weights: \n",
      "Discriminator:  [ 0.6536186   0.8644362  -0.74216502  2.26975462 -1.45436567  0.04575852\n",
      " -0.18718385  1.53277921  1.46935877]\n",
      "Generator:  [ 3.14314213e+00  3.78162520e-03 -8.87785748e-03 -1.98079647e-02\n",
      " -3.47912149e-03  1.56348969e-03  1.23029068e-02  1.20237985e-02\n",
      " -3.87326817e-03]\n",
      "Step:  0 Disc Loss:  -0.0126953125\n",
      "Step:  2 Disc Loss:  -0.4111328125\n",
      "Step:  4 Disc Loss:  -0.4345703125\n",
      "Step:  6 Disc Loss:  -0.431640625\n",
      "Step:  8 Disc Loss:  -0.4189453125\n",
      "Step:  0 Gen Loss:  -0.99609375\n",
      "Step:  2 Gen Loss:  -0.9990234375\n",
      "Step:  4 Gen Loss:  -1.0\n",
      "Step:  6 Gen Loss:  -0.9990234375\n",
      "Step:  8 Gen Loss:  -0.9990234375\n",
      "Trained Weights: \n",
      "Discriminator:  [ -3.41809413 -14.1323331  -28.48113143  -0.12317608 -16.31772143\n",
      "  17.35705172   4.33076467  14.07201074   6.93941813]\n",
      "Generator:  [ -0.23655427  -6.75047505  14.2364156  -14.03488057   3.13190102\n",
      "  21.0275211    1.90615101 -16.12890305   5.12380073]\n"
     ]
    }
   ],
   "source": [
    "# Initialize random fixed state\n",
    "disc_weights = np.random.normal(size=(9,))\n",
    "gen_weights = np.array([np.pi] + [0] * 8) + \\\n",
    "               np.random.normal(scale=1e-2, size=(9,))\n",
    "angs = np.random.normal(size=(3,))\n",
    "\n",
    "# Train the disc and generator \n",
    "train(disc_cost, gen_cost)\n",
    "\n",
    "# Print trained weights\n",
    "print(\"Trained Weights: \")\n",
    "print(\"Discriminator: \", disc_weights)\n",
    "print(\"Generator: \", gen_weights)"
   ]
  },
  {
   "cell_type": "code",
   "execution_count": 36,
   "metadata": {},
   "outputs": [
    {
     "name": "stdout",
     "output_type": "stream",
     "text": [
      "Real Statevector:  [ 0.71503777-0.10526565j -0.59972387-0.34346966j]\n",
      "Generated Statevector:  [-0.41425477-0.08738008j -0.45068986-0.26884937j]\n"
     ]
    }
   ],
   "source": [
    "real_state, fake_state = compare(real, generator)\n",
    "\n",
    "print(\"Real Statevector: \", real_state._data)\n",
    "print(\"Generated Statevector: \", fake_state._data[:2])"
   ]
  }
 ],
 "metadata": {
  "kernelspec": {
   "display_name": "Python 3",
   "language": "python",
   "name": "python3"
  },
  "language_info": {
   "codemirror_mode": {
    "name": "ipython",
    "version": 3
   },
   "file_extension": ".py",
   "mimetype": "text/x-python",
   "name": "python",
   "nbconvert_exporter": "python",
   "pygments_lexer": "ipython3",
   "version": "3.8.3"
  }
 },
 "nbformat": 4,
 "nbformat_minor": 4
}
