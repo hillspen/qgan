{
 "cells": [
  {
   "cell_type": "markdown",
   "metadata": {},
   "source": [
    "# QGAN\n",
    "Quantum Generative Adversarial Network capable of generating novel MNIST images. Created by QMIND's Disruptive Technology team consisting of Cameron Estabrooks, Jacob Ewaniuk, Adam Grace, Spencer Hill, and Joshua Otten. "
   ]
  },
  {
   "cell_type": "code",
   "execution_count": 2,
   "metadata": {},
   "outputs": [],
   "source": [
    "# Imports\n",
    "import tensorflow as tf\n",
    "from tensorflow import keras\n",
    "from matplotlib import pyplot as plt\n",
    "\n",
    "from pennylane import numpy as np\n",
    "from numpy import pi\n",
    "from numpy import linalg as la\n",
    "\n",
    "import pennylane as qml\n",
    "import cirq\n",
    "import math as m\n",
    "\n",
    "from sklearn.preprocessing import MinMaxScaler\n",
    "\n",
    "res = 4\n",
    "numQubits = 2 * res + 1\n",
    "numWeights = 3 * res - 1\n",
    "dev = qml.device('cirq.simulator', wires=numQubits)"
   ]
  },
  {
   "cell_type": "markdown",
   "metadata": {},
   "source": [
    "# Data Loading and Preparation\n",
    "Load MNIST data, normalize it, and create new arrays with only the 3 and 9 digits"
   ]
  },
  {
   "cell_type": "code",
   "execution_count": 3,
   "metadata": {},
   "outputs": [],
   "source": [
    "# Utility function to display images \n",
    "def display_image(X_data, image_num, Y_labels=None):\n",
    "    plt.figure(figsize=(10,10))\n",
    "    for i in range(image_num):\n",
    "        plt.subplot(5,5,i+1)\n",
    "        plt.xticks([])\n",
    "        plt.yticks([])\n",
    "        plt.grid(False)\n",
    "        plt.imshow(X_data[i], cmap='Greys')\n",
    "        # The CIFAR labels happen to be arrays, \n",
    "        # which is why you need the extra index\n",
    "        if Y_labels is not None:\n",
    "            plt.xlabel(Y_labels[i])\n",
    "    plt.show()"
   ]
  },
  {
   "cell_type": "code",
   "execution_count": 193,
   "metadata": {},
   "outputs": [
    {
     "data": {
      "image/png": "[encoded data removed]",
      "text/plain": [
       "<Figure size 720x720 with 25 Axes>"
      ]
     },
     "metadata": {},
     "output_type": "display_data"
    }
   ],
   "source": [
    "# Prepare and Load Data\n",
    "(X_train, Y_train), (X_test, Y_test) = tf.keras.datasets.mnist.load_data()\n",
    "full_X = np.concatenate((X_train, X_test))\n",
    "full_Y = np.concatenate((Y_train, Y_test))\n",
    "full_X = full_X / 255\n",
    "other_X = full_X[:10000] # Paper only uses first 10000 images for training\n",
    "other_Y = full_Y[:10000]\n",
    "# Select only 3s and 8s\n",
    "X = []\n",
    "Y = []\n",
    "for i in range(len(other_X)):\n",
    "    if other_Y[i] == 3 or other_Y[i] == 8:\n",
    "        X.append(other_X[i])\n",
    "        Y.append(other_Y[i])\n",
    "X = np.array(X)\n",
    "Y = np.array(Y)\n",
    "\n",
    "# Display select images\n",
    "display_image(X, 25, Y)"
   ]
  },
  {
   "cell_type": "markdown",
   "metadata": {},
   "source": [
    "# Image Encoding\n",
    "Define functions to encode and decode MNSIST images. Methods available include a trained Variational Autoencoder and the Principle Component Analysis (PCA) algorithm."
   ]
  },
  {
   "cell_type": "code",
   "execution_count": 194,
   "metadata": {},
   "outputs": [
    {
     "name": "stdout",
     "output_type": "stream",
     "text": [
      "Model: \"model\"\n",
      "_________________________________________________________________\n",
      " Layer (type)                Output Shape              Param #   \n",
      "=================================================================\n",
      " input_1 (InputLayer)        [(None, 784)]             0         \n",
      "                                                                 \n",
      " dense (Dense)               (None, 256)               200960    \n",
      "                                                                 \n",
      " dense_1 (Dense)             (None, 64)                16448     \n",
      "                                                                 \n",
      " dense_2 (Dense)             (None, 4)                 260       \n",
      "                                                                 \n",
      " dense_3 (Dense)             (None, 64)                320       \n",
      "                                                                 \n",
      " dense_4 (Dense)             (None, 256)               16640     \n",
      "                                                                 \n",
      " dense_5 (Dense)             (None, 784)               201488    \n",
      "                                                                 \n",
      "=================================================================\n",
      "Total params: 436,116\n",
      "Trainable params: 436,116\n",
      "Non-trainable params: 0\n",
      "_________________________________________________________________\n",
      "None\n",
      "Model: \"model_2\"\n",
      "_________________________________________________________________\n",
      " Layer (type)                Output Shape              Param #   \n",
      "=================================================================\n",
      " Encoder Input (InputLayer)  [(None, 784)]             0         \n",
      "                                                                 \n",
      " dense (Dense)               (None, 256)               200960    \n",
      "                                                                 \n",
      " dense_1 (Dense)             (None, 64)                16448     \n",
      "                                                                 \n",
      " dense_2 (Dense)             (None, 4)                 260       \n",
      "                                                                 \n",
      "=================================================================\n",
      "Total params: 217,668\n",
      "Trainable params: 217,668\n",
      "Non-trainable params: 0\n",
      "_________________________________________________________________\n",
      "None\n",
      "Model: \"model_3\"\n",
      "_________________________________________________________________\n",
      " Layer (type)                Output Shape              Param #   \n",
      "=================================================================\n",
      " Decoder Input (InputLayer)  [(None, 4)]               0         \n",
      "                                                                 \n",
      " input_1 (InputLayer)        multiple                  0         \n",
      "                                                                 \n",
      " dense_3 (Dense)             (None, 64)                320       \n",
      "                                                                 \n",
      " dense_4 (Dense)             (None, 256)               16640     \n",
      "                                                                 \n",
      " dense_5 (Dense)             (None, 784)               201488    \n",
      "                                                                 \n",
      "=================================================================\n",
      "Total params: 218,448\n",
      "Trainable params: 218,448\n",
      "Non-trainable params: 0\n",
      "_________________________________________________________________\n",
      "None\n"
     ]
    }
   ],
   "source": [
    "# Load the trained autoencoder\n",
    "def load_autoencoder():\n",
    "    model = keras.models.load_model('mnist_enc/mnist_enc/')\n",
    "    print(model.summary())\n",
    "    layer = model.get_layer('dense_2')\n",
    "    bottom_input = keras.layers.Input(model.input_shape[1:], name=\"Encoder Input\")\n",
    "    bottom_output = bottom_input\n",
    "#     bottom_output = keras.layers.Input(model.input_shape[1:])\n",
    "    top_input = keras.layers.Input(layer.output_shape[1:], name=\"Decoder Input\")\n",
    "    top_output = top_input\n",
    "\n",
    "    bottom = True\n",
    "    for layer in model.layers:\n",
    "        if bottom and layer.name != 'input_1':\n",
    "            bottom_output = layer(bottom_output)\n",
    "        else:\n",
    "            top_output = layer(top_output)\n",
    "        if layer.name == 'dense_2':\n",
    "            bottom = False\n",
    "\n",
    "    enc_model = keras.Model(bottom_input, bottom_output)\n",
    "    dec_model = keras.Model(top_input, top_output)\n",
    "    return enc_model, dec_model\n",
    "\n",
    "enc, dec = load_autoencoder()\n",
    "print(enc.summary())\n",
    "print(dec.summary())"
   ]
  },
  {
   "cell_type": "code",
   "execution_count": 195,
   "metadata": {},
   "outputs": [],
   "source": [
    "# Encodes MNIST data into rotations. Return encoded data and the MinMaxScaler used to \n",
    "# normalize it (so it can be used to decode the compressed data)\n",
    "def encode(encoder, data):\n",
    "    encoded = encoder.predict(data.reshape(-1, 784))\n",
    "    scaler = MinMaxScaler()\n",
    "    scaler.fit(encoded)\n",
    "    scaled_encoded = scaler.transform(encoded)\n",
    "    qubitized_data = 2*np.arcsin(np.sqrt(scaled_encoded)) # Should play around with\n",
    "    return qubitized_data, scaler\n",
    "\n",
    "# Decodes compressed data\n",
    "def decode(decoder, data, scaler):\n",
    "    unscaled = scaler.inverse_transform(data)\n",
    "    return decoder.predict(unscaled).reshape(-1,28,28)"
   ]
  },
  {
   "cell_type": "code",
   "execution_count": 196,
   "metadata": {},
   "outputs": [],
   "source": [
    "encoded_data, scaler = encode(enc, X)"
   ]
  },
  {
   "cell_type": "code",
   "execution_count": 197,
   "metadata": {},
   "outputs": [
    {
     "name": "stdout",
     "output_type": "stream",
     "text": [
      "[0.88842392 1.11443758 1.50425386 1.15859258]\n"
     ]
    }
   ],
   "source": [
    "print(encoded_data[1])"
   ]
  },
  {
   "cell_type": "markdown",
   "metadata": {},
   "source": [
    "# Generator and Discriminator Models\n"
   ]
  },
  {
   "cell_type": "code",
   "execution_count": 9,
   "metadata": {},
   "outputs": [],
   "source": [
    "def generator(thetas, res):\n",
    "    for i in range(res):\n",
    "        qml.RY(thetas[i], wires=i+1+res)\n",
    "\n",
    "    for i in range(res-1):\n",
    "        qml.IsingYY(thetas[i+res], wires=[i+1+res, i+2+res])\n",
    "    \n",
    "    for i in range(res):\n",
    "        if (i+2)%res == 0:\n",
    "            qml.CRY(thetas[i+2*res-1], wires=[i+1+res, 2*res])\n",
    "        else:\n",
    "            qml.CRY(thetas[i+2*res-1], wires=[i+1+res, ((i+2)%res)+res])"
   ]
  },
  {
   "cell_type": "code",
   "execution_count": 10,
   "metadata": {},
   "outputs": [],
   "source": [
    "def discriminator(thetas, res):\n",
    "    for i in range(res):\n",
    "        qml.RY(thetas[i], wires=i+1)\n",
    "    \n",
    "    for i in range(res-1):\n",
    "        qml.IsingYY(thetas[i+res], wires=[i+1, i+2])\n",
    "    \n",
    "    for i in range(res):\n",
    "        if (i+2)%res == 0:\n",
    "            qml.CRY(thetas[i+2*res-1], wires=[i+1, res])\n",
    "        else:\n",
    "            qml.CRY(thetas[i+2*res-1], wires=[i+1, (i+2)%res])"
   ]
  },
  {
   "cell_type": "markdown",
   "metadata": {},
   "source": [
    "# Full QGAN Circuit"
   ]
  },
  {
   "cell_type": "code",
   "execution_count": 198,
   "metadata": {},
   "outputs": [],
   "source": [
    "@qml.qnode(dev, interface=\"tf\")\n",
    "def createCircuit(disc_weights, gen_weights, res, real=False, real_data=None):\n",
    "    qml.Hadamard(wires=0)\n",
    "    discriminator(disc_weights, res)\n",
    "    if not real:\n",
    "        generator(gen_weights, res)\n",
    "        \n",
    "    if real:\n",
    "        # Encode real data into Quantum Circuit\n",
    "        for i in range(0, res):\n",
    "            qml.RY(real_data[i], wires=i+1+res)\n",
    "            \n",
    "    for i in range(res):\n",
    "        qml.CSWAP(wires=[0, i+1, i+1+res])\n",
    "    qml.Hadamard(wires=0)\n",
    "\n",
    "    return qml.expval(qml.PauliZ(0))"
   ]
  },
  {
   "cell_type": "markdown",
   "metadata": {},
   "source": [
    "# Cost Functions"
   ]
  },
  {
   "cell_type": "code",
   "execution_count": 51,
   "metadata": {},
   "outputs": [],
   "source": [
    "# def disc_cost(disc_weights, gen_weights, res):\n",
    "#     real_fidelity = genCircuit(disc_weights, gen_weights, res)\n",
    "#     gen_fidelity = genCircuit(disc_weights, gen_weights, res, real=False)\n",
    "#     print(real_fidelity, gen_fidelity)\n",
    "# #     return m.log(real_fidelity) + m.log(1-gen_fidelity)\n",
    "#     return tf.math.log(real_fidelity) + tf.math.log(1-gen_fidelity)\n",
    "\n",
    "# def gen_cost(disc_weights, gen_weights, res):\n",
    "#     gen_fidelity = genCircuit(disc_weights, gen_weights, res, real=False)\n",
    "# #     return m.log(gen_fidelity)\n",
    "#     return tf.math.log(gen_fidelity)\n",
    "\n",
    "def real_disc_cost(expectation):\n",
    "    if expectation <= 0.005: # They did in the paper\n",
    "        expectation = 0.005\n",
    "    return -tf.math.log(expectation)\n",
    "\n",
    "def fake_disc_cost(expectation):\n",
    "    if expectation <= 0.005:\n",
    "        expectation = 0.005\n",
    "    return -tf.math.log(1-expectation)\n",
    "    \n",
    "def gen_cost(expectation):\n",
    "    if expectation <= 0.005:\n",
    "        expectation = 0.005\n",
    "    return -tf.math.log(expectation) # Maybe incorrect?"
   ]
  },
  {
   "cell_type": "code",
   "execution_count": 157,
   "metadata": {},
   "outputs": [],
   "source": [
    "def parameter_shift_term(cost, i, params=None):\n",
    "    if params is None:\n",
    "        # disc_model (boolean) : which parameters are being shifted, generator's if False.\n",
    "        # real (boolean) : whether real data is being used\n",
    "        params = {\"disc_model\" : True, \"real\" : False, \"real_data\" : None}\n",
    "    if params[\"disc_model\"]:\n",
    "        shifted = disc_weights.numpy().copy()\n",
    "        shifted[i] += np.pi/2\n",
    "        exp = createCircuit(shifted, gen_weights, res, real=params[\"real\"], real_data=params[\"real_data\"])\n",
    "    else:\n",
    "        shifted = gen_weights.numpy().copy()\n",
    "        shifted[i] += np.pi/2\n",
    "        exp = createCircuit(disc_weights, shifted, res, real=False, real_data=None)\n",
    "    forward = cost(exp)  # forward evaluation\n",
    "    \n",
    "    if params[\"disc_model\"]:\n",
    "        shifted[i] -= np.pi\n",
    "        exp = createCircuit(shifted, gen_weights, res, real=params[\"real\"], real_data=params[\"real_data\"])\n",
    "    else:\n",
    "        shifted[i] -= np.pi/2\n",
    "        exp = createCircuit(disc_weights, shifted, res, real=False, real_data=None)\n",
    "    backward = cost(exp) # backward evaluation\n",
    "\n",
    "    return (0.5 * (forward.numpy() - backward.numpy()))"
   ]
  },
  {
   "cell_type": "code",
   "execution_count": 53,
   "metadata": {},
   "outputs": [],
   "source": [
    "def calc_gradient(cost, params):\n",
    "    grad = [0] * numWeights\n",
    "    for i in range(numWeights):\n",
    "        grad[i] = parameter_shift_term(cost, i, params=params)\n",
    "    return np.array(grad)"
   ]
  },
  {
   "cell_type": "code",
   "execution_count": 202,
   "metadata": {},
   "outputs": [
    {
     "name": "stdout",
     "output_type": "stream",
     "text": [
      "0.0003213326863525136\n"
     ]
    }
   ],
   "source": [
    "params = {\"disc_model\" : True, \"real\" : True, \"real_data\" : encoded_data[0]}\n",
    "grad = parameter_shift_term(fake_disc_cost, 0, params)\n",
    "print(grad)"
   ]
  },
  {
   "cell_type": "code",
   "execution_count": 203,
   "metadata": {},
   "outputs": [
    {
     "name": "stdout",
     "output_type": "stream",
     "text": [
      "[ 3.21332686e-04  2.32243463e-03  1.54682790e-02 -7.69602379e-03\n",
      " -8.00306604e-02  1.82859672e-05  5.06285759e-02  1.14978582e-02\n",
      "  9.38091222e-03  4.95318548e-02  2.79414350e-02]\n"
     ]
    }
   ],
   "source": [
    "grad = calc_gradient(fake_disc_cost, params)\n",
    "print(grad)"
   ]
  },
  {
   "cell_type": "code",
   "execution_count": 62,
   "metadata": {
    "scrolled": true
   },
   "outputs": [
    {
     "name": "stdout",
     "output_type": "stream",
     "text": [
      " 0: ──H───────────────────────────────────────────────────────────────────────────────────────────────╭C─────╭C─────╭C─────╭C─────H──┤ ⟨Z⟩ \n",
      " 1: ──RY(1.48)───╭IsingYY(1.86)───────────────────╭C─────────────────────────────────────╭RY(1.02)────├SWAP──│──────│──────│─────────┤     \n",
      " 2: ──RY(2.97)───╰IsingYY(1.86)───╭IsingYY(2.23)──╰RY(1.47)────────╭C────────────────────│────────────│──────├SWAP──│──────│─────────┤     \n",
      " 3: ──RY(0.453)───────────────────╰IsingYY(2.23)──╭IsingYY(0.641)──╰RY(0.54)──╭C─────────│────────────│──────│──────├SWAP──│─────────┤     \n",
      " 4: ──RY(2.82)────────────────────────────────────╰IsingYY(0.641)─────────────╰RY(2.45)──╰C───────────│──────│──────│──────├SWAP─────┤     \n",
      " 5: ──RY(0.267)──╭IsingYY(0.812)──────────────────╭C─────────────────────────────────────╭RY(0.0115)──╰SWAP──│──────│──────│─────────┤     \n",
      " 6: ──RY(3.13)───╰IsingYY(0.812)──╭IsingYY(1.55)──╰RY(2.4)─────────╭C────────────────────│───────────────────╰SWAP──│──────│─────────┤     \n",
      " 7: ──RY(2.36)────────────────────╰IsingYY(1.55)──╭IsingYY(3.07)───╰RY(1.29)──╭C─────────│──────────────────────────╰SWAP──│─────────┤     \n",
      " 8: ──RY(0.259)───────────────────────────────────╰IsingYY(3.07)──────────────╰RY(1.34)──╰C────────────────────────────────╰SWAP─────┤     \n",
      "\n"
     ]
    }
   ],
   "source": [
    "drawer = qml.draw(createCircuit)\n",
    "print(drawer(disc_weights, gen_weights, res, real=False))"
   ]
  },
  {
   "cell_type": "markdown",
   "metadata": {},
   "source": [
    "# Training Functions"
   ]
  },
  {
   "cell_type": "code",
   "execution_count": 204,
   "metadata": {},
   "outputs": [],
   "source": [
    "def train_step(real_data, hp=None):\n",
    "    if hp is None:\n",
    "        # R (int) : Disc - Gen train count\n",
    "        hp = {\"R\" : len(encoded_data), \"I\" : len(encoded_data) // 10, \"batch_size\" : 1, \"learning_rate\" : 0.01}\n",
    "    # Discriminator on real data\n",
    "    for i in range(len(real_data)// hp[\"batch_size\"]): \n",
    "        average_grad = np.array([0] * numWeights)\n",
    "        for image in real_data[i*hp[\"batch_size\"]:(i+1)*hp[\"batch_size\"]]:\n",
    "            params = {\"disc_model\" : True, \"real\" : True, \"real_data\" : image}\n",
    "            gradient = calc_gradient(real_disc_cost, params) # Have to find the actual format for gradient to use tf.apply_gradients\n",
    "            average_grad = average_grad + gradient\n",
    "        average_grad /= hp[\"batch_size\"]\n",
    "        \n",
    "        # Apply gradient\n",
    "        disc_weights = disc_weights - hp[\"learning_rate\"]*average_grad\n",
    "    # Discriminator on fake data\n",
    "    for _ in range(hp[\"R\"]):\n",
    "        print(\"Discriminator\")\n",
    "        params = {\"disc_model\" : True, \"real\" : False, \"real_data\" : None}\n",
    "        gradient = calc_gradient(fake_disc_cost, params)\n",
    "        \n",
    "        # Apply gradient\n",
    "        disc_weights = disc_weights - hp[\"learning_rate\"]*gradient\n",
    "        \n",
    "    for _ in range(hp[\"I\"]):\n",
    "        print(\"Generator\")\n",
    "        params = {\"disc_model\" : False, \"real\" : False, \"real_data\" : None}\n",
    "        gradient = calc_gradient(gen_cost, params)\n",
    "        \n",
    "        gen_weights = gen_weights - 2.5*hp[\"learning_rate\"]*gradient\n",
    "        # They use 10 times less t\"raining steps for generator but a 2.5 times higher learning rate.\n",
    "        # Apply gradient\n",
    "    \n",
    "   "
   ]
  },
  {
   "cell_type": "code",
   "execution_count": 17,
   "metadata": {},
   "outputs": [],
   "source": [
    "def train(real_data, epochs=25, hp=None):\n",
    "    for i in range(epochs):\n",
    "        train_step(real_data, hp)\n",
    "        # Printing out loss/visualizing examples at certain training steps.\n",
    "    "
   ]
  },
  {
   "cell_type": "code",
   "execution_count": 158,
   "metadata": {
    "scrolled": false
   },
   "outputs": [
    {
     "name": "stdout",
     "output_type": "stream",
     "text": [
      "[-0.43345883 -0.53681176 -0.66632178 -0.30907147  1.33072802  0.08295516\n",
      " -0.24618449 -0.29774903 -0.21251331 -0.69409358 -0.44163251]\n",
      "[-7.92935682e-01 -8.53826833e-01 -9.75167002e-01 -5.21879274e-01\n",
      "  1.29530602e+00 -1.99060181e-04 -2.16680611e-01 -4.11496888e-01\n",
      " -2.68997897e-01 -7.57029029e-01 -4.84943948e-01]\n",
      "Discriminator\n",
      "[-2.50665823e-01  9.61912494e-02 -4.60944532e-02 -7.96545486e-03\n",
      " -1.07785387e-01 -2.02707129e-04 -4.16967283e-02  5.93773550e-02\n",
      "  1.27640614e-01  5.50234082e-03 -1.01636751e-01]\n",
      "Discriminator\n",
      "[-2.50665823e-01  9.61912494e-02 -4.60944532e-02 -7.96545486e-03\n",
      " -1.07785387e-01 -2.02707129e-04 -4.16967283e-02  5.93773550e-02\n",
      "  1.27640614e-01  5.50234082e-03 -1.01636751e-01]\n",
      "Discriminator\n",
      "[-2.50665823e-01  9.61912494e-02 -4.60944532e-02 -7.96545486e-03\n",
      " -1.07785387e-01 -2.02707129e-04 -4.16967283e-02  5.93773550e-02\n",
      "  1.27640614e-01  5.50234082e-03 -1.01636751e-01]\n",
      "Discriminator\n",
      "[-2.50665823e-01  9.61912494e-02 -4.60944532e-02 -7.96545486e-03\n",
      " -1.07785387e-01 -2.02707129e-04 -4.16967283e-02  5.93773550e-02\n",
      "  1.27640614e-01  5.50234082e-03 -1.01636751e-01]\n",
      "Discriminator\n",
      "[-2.50665823e-01  9.61912494e-02 -4.60944532e-02 -7.96545486e-03\n",
      " -1.07785387e-01 -2.02707129e-04 -4.16967283e-02  5.93773550e-02\n",
      "  1.27640614e-01  5.50234082e-03 -1.01636751e-01]\n",
      "Generator\n",
      "[-0.26267423  0.30209445  0.09627738  0.14915535 -0.16109842  0.26451646\n",
      "  0.01000423  0.04988143  0.52978497 -0.01522835 -0.13408745]\n",
      "Generator\n",
      "[-0.26267423  0.30209445  0.09627738  0.14915535 -0.16109842  0.26451646\n",
      "  0.01000423  0.04988143  0.52978497 -0.01522835 -0.13408745]\n",
      "Generator\n",
      "[-0.26267423  0.30209445  0.09627738  0.14915535 -0.16109842  0.26451646\n",
      "  0.01000423  0.04988143  0.52978497 -0.01522835 -0.13408745]\n",
      "Generator\n",
      "[-0.26267423  0.30209445  0.09627738  0.14915535 -0.16109842  0.26451646\n",
      "  0.01000423  0.04988143  0.52978497 -0.01522835 -0.13408745]\n",
      "Generator\n",
      "[-0.26267423  0.30209445  0.09627738  0.14915535 -0.16109842  0.26451646\n",
      "  0.01000423  0.04988143  0.52978497 -0.01522835 -0.13408745]\n"
     ]
    }
   ],
   "source": [
    "train_step(encoded_data[:10], hp={\"R\" : 5, \"I\" : 5, \"batch_size\" : 5})"
   ]
  },
  {
   "cell_type": "code",
   "execution_count": 18,
   "metadata": {},
   "outputs": [
    {
     "name": "stdout",
     "output_type": "stream",
     "text": [
      "<tf.Variable 'Variable:0' shape=(11,) dtype=float64, numpy=\n",
      "array([1.47731786, 2.9726452 , 0.45328896, 2.82418876, 1.85830345,\n",
      "       2.23265894, 0.64093057, 1.46704379, 0.53999347, 2.45077757,\n",
      "       1.02415956])>\n",
      "<tf.Variable 'Variable:0' shape=(11,) dtype=float64, numpy=\n",
      "array([0.26716281, 3.13181749, 2.35561045, 0.25854468, 0.81224163,\n",
      "       1.55139217, 3.06865823, 2.39943034, 1.28755722, 1.33627915,\n",
      "       0.01151287])>\n"
     ]
    }
   ],
   "source": [
    "disc_weights = tf.Variable(np.pi * np.random.uniform(size=(numWeights,)))\n",
    "gen_weights = tf.Variable(np.pi * np.random.uniform(size=(numWeights,)))\n",
    "\n",
    "print(disc_weights)\n",
    "print(gen_weights)"
   ]
  },
  {
   "cell_type": "markdown",
   "metadata": {},
   "source": [
    "# Generate Output\n",
    "Use trained generator to generate MNIST images. "
   ]
  },
  {
   "cell_type": "code",
   "execution_count": 70,
   "metadata": {},
   "outputs": [],
   "source": [
    "# Function that produces average measurements from trained generator\n",
    "@qml.qnode(dev)\n",
    "def generate_output(weights):\n",
    "    generator(weights, res)\n",
    "    return [qml.expval(qml.PauliZ(i+res+1)) for i in range(res)]"
   ]
  },
  {
   "cell_type": "code",
   "execution_count": 191,
   "metadata": {},
   "outputs": [
    {
     "name": "stdout",
     "output_type": "stream",
     "text": [
      "[0.848 0.46  0.582 0.202]\n"
     ]
    }
   ],
   "source": [
    "num_shots = 500\n",
    "data = (generate_output(gen_weights, shots=num_shots) + 1) / 2\n",
    "print(data)\n",
    "image = decode(dec, data.reshape(1,-1), scaler)"
   ]
  },
  {
   "cell_type": "code",
   "execution_count": 192,
   "metadata": {},
   "outputs": [
    {
     "data": {
      "image/png": "[encoded data removed]",
      "text/plain": [
       "<Figure size 720x720 with 1 Axes>"
      ]
     },
     "metadata": {},
     "output_type": "display_data"
    }
   ],
   "source": [
    "display_image(image, 1)"
   ]
  }
 ],
 "metadata": {
  "kernelspec": {
   "display_name": "Python 3",
   "language": "python",
   "name": "python3"
  },
  "language_info": {
   "codemirror_mode": {
    "name": "ipython",
    "version": 3
   },
   "file_extension": ".py",
   "mimetype": "text/x-python",
   "name": "python",
   "nbconvert_exporter": "python",
   "pygments_lexer": "ipython3",
   "version": "3.8.3"
  }
 },
 "nbformat": 4,
 "nbformat_minor": 4
}
