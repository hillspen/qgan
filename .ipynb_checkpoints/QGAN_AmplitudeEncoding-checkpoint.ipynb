{
 "cells": [
  {
   "cell_type": "markdown",
   "metadata": {},
   "source": [
    "# QGAN\n",
    "Quantum Generative Adversarial Network capable of generating novel MNIST images. Created by QMIND's Disruptive Technology team consisting of Cameron Estabrooks, Jacob Ewaniuk, Adam Grace, Spencer Hill, and Joshua Otten. "
   ]
  },
  {
   "cell_type": "code",
   "execution_count": 1,
   "metadata": {},
   "outputs": [],
   "source": [
    "# Imports\n",
    "import tensorflow as tf\n",
    "from tensorflow import keras\n",
    "from matplotlib import pyplot as plt\n",
    "\n",
    "from pennylane import numpy as np\n",
    "from numpy import pi\n",
    "from numpy import linalg as la\n",
    "\n",
    "import pennylane as qml\n",
    "import cirq\n",
    "import math as m\n",
    "import numpy as np\n",
    "from tqdm import tqdm # library for showing progress bars\n",
    "\n",
    "from sklearn.preprocessing import MinMaxScaler\n",
    "\n",
    "res = 4\n",
    "numQubits = 2 * res + 1\n",
    "numWeights = 3 * res - 1\n",
    "dev = qml.device('cirq.simulator', wires=numQubits)"
   ]
  },
  {
   "cell_type": "markdown",
   "metadata": {},
   "source": [
    "# Data Loading and Preparation\n",
    "Load MNIST data, normalize it, and create new arrays with only the 3 and 9 digits"
   ]
  },
  {
   "cell_type": "code",
   "execution_count": 2,
   "metadata": {},
   "outputs": [],
   "source": [
    "# Utility function to display images \n",
    "def display_image(X_data, image_num, Y_labels=None):\n",
    "    plt.figure(figsize=(10,10))\n",
    "    for i in range(image_num):\n",
    "        plt.subplot(5,5,i+1)\n",
    "        plt.xticks([])\n",
    "        plt.yticks([])\n",
    "        plt.grid(False)\n",
    "        plt.imshow(X_data[i], cmap='Greys')\n",
    "        # The CIFAR labels happen to be arrays, \n",
    "        # which is why you need the extra index\n",
    "        if Y_labels is not None:\n",
    "            plt.xlabel(Y_labels[i])\n",
    "    plt.show()"
   ]
  },
  {
   "cell_type": "code",
   "execution_count": 3,
   "metadata": {},
   "outputs": [
    {
     "data": {
      "image/png": "[encoded data removed]",
      "text/plain": [
       "<Figure size 720x720 with 25 Axes>"
      ]
     },
     "metadata": {},
     "output_type": "display_data"
    }
   ],
   "source": [
    "# Prepare and Load Data\n",
    "(X_train, Y_train), (X_test, Y_test) = tf.keras.datasets.mnist.load_data()\n",
    "full_X = np.concatenate((X_train, X_test))\n",
    "full_Y = np.concatenate((Y_train, Y_test))\n",
    "full_X = full_X / 255\n",
    "other_X = full_X[:10000] # Paper only uses first 10000 images for training\n",
    "other_Y = full_Y[:10000]\n",
    "# Select only 3s and 8s\n",
    "X = []\n",
    "Y = []\n",
    "for i in range(len(other_X)):\n",
    "    if other_Y[i] == 3 or other_Y[i] == 8:\n",
    "        X.append(other_X[i])\n",
    "        Y.append(other_Y[i])\n",
    "X = np.array(X)\n",
    "Y = np.array(Y)\n",
    "\n",
    "# Display select images\n",
    "display_image(X, 25, Y)"
   ]
  },
  {
   "cell_type": "markdown",
   "metadata": {},
   "source": [
    "# Image Encoding\n",
    "Define functions to encode and decode MNSIST images. Methods available include a trained Variational Autoencoder and the Principle Component Analysis (PCA) algorithm."
   ]
  },
  {
   "cell_type": "code",
   "execution_count": 6,
   "metadata": {},
   "outputs": [
    {
     "name": "stdout",
     "output_type": "stream",
     "text": [
      "epoch : 1/10, loss = 0.050592\n",
      "epoch : 2/10, loss = 0.037817\n",
      "epoch : 3/10, loss = 0.034570\n",
      "epoch : 4/10, loss = 0.032853\n",
      "epoch : 5/10, loss = 0.031347\n",
      "epoch : 6/10, loss = 0.029915\n",
      "epoch : 7/10, loss = 0.028857\n",
      "epoch : 8/10, loss = 0.028194\n",
      "epoch : 9/10, loss = 0.027740\n",
      "epoch : 10/10, loss = 0.027374\n"
     ]
    }
   ],
   "source": [
    "# Autoencoder. Needs to be trained to use (saving not implemented).\n",
    "#encoder and decoder are the models of interest. Note that both require an input of a torch tensor, so remember\n",
    "# that you can convert using [numpy array].from_numpy() and [torch tensor].detach().to_numpy()\n",
    "import torch\n",
    "import torchvision\n",
    "import numpy as np\n",
    "import pandas as pd\n",
    "import matplotlib.pyplot as plt\n",
    "import torch.nn as nn\n",
    "from torchvision.transforms import transforms\n",
    "import torch.nn.functional as F\n",
    "\n",
    "class Encoder(nn.Module):\n",
    "    def __init__(self, **kwargs):\n",
    "        super().__init__()\n",
    "        self.encoder_hidden_layer = nn.Linear(in_features=kwargs[\"input_shape\"], out_features=128)\n",
    "        self.encoder_output_layer = nn.Linear(in_features=128, out_features=16)\n",
    "    def forward(self, features):\n",
    "        activation = self.encoder_hidden_layer(features)\n",
    "        activation = torch.relu(activation)\n",
    "        code = self.encoder_output_layer(activation)\n",
    "        code = torch.relu(code)\n",
    "        code = torch.nn.functional.normalize(code, p=2.0, dim=1) # Normalize the latent vector\n",
    "        return code\n",
    "    \n",
    "class Decoder(nn.Module):\n",
    "    def __init__(self, **kwargs):\n",
    "        super().__init__()\n",
    "        self.decoder_hidden_layer = nn.Linear(in_features=16, out_features=128)\n",
    "        self.decoder_output_layer = nn.Linear(in_features=128, out_features=kwargs[\"input_shape\"])\n",
    "\n",
    "    def forward(self, code):\n",
    "        activation = self.decoder_hidden_layer(code)\n",
    "        activation = torch.relu(activation)\n",
    "        activation = self.decoder_output_layer(activation)\n",
    "        reconstructed = torch.relu(activation)\n",
    "        return reconstructed\n",
    "\n",
    "class AE(nn.Module):\n",
    "    def __init__(self, **kwargs):\n",
    "        super().__init__()\n",
    "        self.encoder = Encoder(input_shape=784)\n",
    "        self.decoder = Decoder(input_shape=784)\n",
    "    def forward(self, x):\n",
    "        encoded = self.encoder(x)\n",
    "        return self.decoder(encoded)\n",
    "        \n",
    "device = torch.device(\"cuda\" if torch.cuda.is_available() else \"cpu\")\n",
    "encoder = Encoder(input_shape=784).to(device)\n",
    "decoder = Decoder(input_shape=784).to(device)\n",
    "model = AE(input_shape=784).to(device)\n",
    "optimizer = torch.optim.Adam(model.parameters(), lr=1e-3)\n",
    "criterion = nn.MSELoss()\n",
    "\n",
    "transform = torchvision.transforms.Compose([torchvision.transforms.ToTensor()])\n",
    "\n",
    "train_dataset = torchvision.datasets.MNIST(root=\"~/torch_datasets\", train=True, transform=transform, download=True)\n",
    "test_dataset = torchvision.datasets.MNIST(root=\"~/torch_datasets\", train=False, transform=transform, download=True)\n",
    "\n",
    "train_loader = torch.utils.data.DataLoader(train_dataset, batch_size=128, shuffle=True, num_workers=4, pin_memory=True)\n",
    "test_loader = torch.utils.data.DataLoader(test_dataset, batch_size=32, shuffle=False, num_workers=4)\n",
    "\n",
    "epochs = 10\n",
    "for epoch in range(epochs):\n",
    "    loss = 0\n",
    "    for batch_features, _ in train_loader:\n",
    "        batch_features = batch_features.view(-1, 784).to(device)\n",
    "        optimizer.zero_grad()\n",
    "        outputs = model(batch_features)\n",
    "        train_loss = criterion(outputs, batch_features)\n",
    "        train_loss.backward()\n",
    "        optimizer.step()\n",
    "        loss += train_loss.item()\n",
    "    loss = loss / len(train_loader)\n",
    "    print(\"epoch : {}/{}, loss = {:.6f}\".format(epoch + 1, epochs, loss))"
   ]
  },
  {
   "cell_type": "code",
   "execution_count": 20,
   "metadata": {},
   "outputs": [],
   "source": [
    "# Creating the encoded data\n",
    "data = torch.from_numpy(X)\n",
    "encoded = encoder(data.reshape(-1, 784).float())\n",
    "X_encoded = encoded.detahc().numpy()"
   ]
  },
  {
   "cell_type": "markdown",
   "metadata": {},
   "source": [
    "## Initialize weights"
   ]
  },
  {
   "cell_type": "code",
   "execution_count": 26,
   "metadata": {},
   "outputs": [
    {
     "name": "stdout",
     "output_type": "stream",
     "text": [
      "<tf.Variable 'Variable:0' shape=(11,) dtype=float64, numpy=\n",
      "array([0.76370124, 0.6068429 , 2.51026663, 1.45755783, 1.54759558,\n",
      "       2.1599163 , 3.11173793, 2.34200271, 1.91673939, 0.06226392,\n",
      "       1.37803777])>\n",
      "<tf.Variable 'Variable:0' shape=(11,) dtype=float64, numpy=\n",
      "array([1.07269238, 1.77350574, 0.79360471, 1.5765973 , 1.31792107,\n",
      "       1.20887658, 1.96301461, 1.57984755, 1.00050051, 1.83131918,\n",
      "       1.62150458])>\n"
     ]
    }
   ],
   "source": [
    "disc_weights = tf.Variable(np.pi * np.random.uniform(size=(numWeights,)))\n",
    "gen_weights = tf.Variable(np.pi * np.random.uniform(size=(numWeights,)))\n",
    "\n",
    "print(disc_weights)\n",
    "print(gen_weights)"
   ]
  },
  {
   "cell_type": "markdown",
   "metadata": {},
   "source": [
    "# Generator and Discriminator Models\n"
   ]
  },
  {
   "cell_type": "code",
   "execution_count": 29,
   "metadata": {},
   "outputs": [],
   "source": [
    "def generator(thetas, res):\n",
    "    for i in range(res):\n",
    "        qml.RY(thetas[i], wires=i+1+res)\n",
    "\n",
    "    for i in range(res-1):\n",
    "        qml.IsingYY(thetas[i+res], wires=[i+1+res, i+2+res])\n",
    "    \n",
    "    for i in range(res):\n",
    "        if (i+2)%res == 0:\n",
    "            qml.CRY(thetas[i+2*res-1], wires=[i+1+res, 2*res])\n",
    "        else:\n",
    "            qml.CRY(thetas[i+2*res-1], wires=[i+1+res, ((i+2)%res)+res])"
   ]
  },
  {
   "cell_type": "code",
   "execution_count": 30,
   "metadata": {},
   "outputs": [],
   "source": [
    "def discriminator(thetas, res):\n",
    "    for i in range(res):\n",
    "        qml.RY(thetas[i], wires=i+1)\n",
    "    \n",
    "    for i in range(res-1):\n",
    "        qml.IsingYY(thetas[i+res], wires=[i+1, i+2])\n",
    "    \n",
    "    for i in range(res):\n",
    "        if (i+2)%res == 0:\n",
    "            qml.CRY(thetas[i+2*res-1], wires=[i+1, res])\n",
    "        else:\n",
    "            qml.CRY(thetas[i+2*res-1], wires=[i+1, (i+2)%res])"
   ]
  },
  {
   "cell_type": "markdown",
   "metadata": {},
   "source": [
    "# Full QGAN Circuit"
   ]
  },
  {
   "cell_type": "code",
   "execution_count": 32,
   "metadata": {},
   "outputs": [],
   "source": [
    "@qml.qnode(dev, interface=\"tf\")\n",
    "def createCircuit(disc_weights, gen_weights, res, real=False, real_data=None):\n",
    "    qml.Hadamard(wires=0)\n",
    "    discriminator(disc_weights, res)\n",
    "    if not real:\n",
    "        generator(gen_weights, res)\n",
    "        \n",
    "    if real:\n",
    "        # Encode real data into Quantum Circuit using amplitude embedding (this is new)\n",
    "        qml.AmplitudeEmbedding(features=real_data, wires=[res, res+1, res+2, res+3])\n",
    "            \n",
    "    for i in range(res):\n",
    "        qml.CSWAP(wires=[0, i+1, i+1+res])\n",
    "    qml.Hadamard(wires=0)\n",
    "\n",
    "    return qml.expval(qml.PauliZ(0))"
   ]
  },
  {
   "cell_type": "code",
   "execution_count": 33,
   "metadata": {},
   "outputs": [
    {
     "data": {
      "text/plain": [
       "<tf.Tensor: shape=(), dtype=float64, numpy=0.035294532775878906>"
      ]
     },
     "execution_count": 33,
     "metadata": {},
     "output_type": "execute_result"
    }
   ],
   "source": [
    "createCircuit(disc_weights, gen_weights, res, real=True, real_data=X_encoded[0])"
   ]
  },
  {
   "cell_type": "markdown",
   "metadata": {},
   "source": [
    "# Cost Functions"
   ]
  },
  {
   "cell_type": "code",
   "execution_count": 37,
   "metadata": {},
   "outputs": [],
   "source": [
    "# def disc_cost(disc_weights, gen_weights, res):\n",
    "#     real_fidelity = genCircuit(disc_weights, gen_weights, res)\n",
    "#     gen_fidelity = genCircuit(disc_weights, gen_weights, res, real=False)\n",
    "#     print(real_fidelity, gen_fidelity)\n",
    "# #     return m.log(real_fidelity) + m.log(1-gen_fidelity)\n",
    "#     return tf.math.log(real_fidelity) + tf.math.log(1-gen_fidelity)\n",
    "\n",
    "# def gen_cost(disc_weights, gen_weights, res):\n",
    "#     gen_fidelity = genCircuit(disc_weights, gen_weights, res, real=False)\n",
    "# #     return m.log(gen_fidelity)\n",
    "#     return tf.math.log(gen_fidelity)\n",
    "\n",
    "def real_disc_cost(expectation):\n",
    "    if expectation <= 0.005: # They did in the paper\n",
    "        expectation = 0.005\n",
    "    return -tf.math.log(expectation)\n",
    "\n",
    "def fake_disc_cost(expectation):\n",
    "    if expectation <= 0.005:\n",
    "        expectation = 0.005\n",
    "    return -tf.math.log(1-expectation)\n",
    "    \n",
    "def gen_cost(expectation):\n",
    "    if expectation <= 0.005:\n",
    "        expectation = 0.005\n",
    "    return -tf.math.log(expectation) # Maybe incorrect?"
   ]
  },
  {
   "cell_type": "code",
   "execution_count": 38,
   "metadata": {},
   "outputs": [],
   "source": [
    "def parameter_shift_term(cost, i, params=None):\n",
    "    if params is None:\n",
    "        # disc_model (boolean) : which parameters are being shifted, generator's if False.\n",
    "        # real (boolean) : whether real data is being used\n",
    "        params = {\"disc_model\" : True, \"real\" : False, \"real_data\" : None}\n",
    "    if params[\"disc_model\"]:\n",
    "        shifted = disc_weights.numpy().copy()\n",
    "        shifted[i] += np.pi/2\n",
    "        exp = createCircuit(shifted, gen_weights, res, real=params[\"real\"], real_data=params[\"real_data\"])\n",
    "    else:\n",
    "        shifted = gen_weights.numpy().copy()\n",
    "        shifted[i] += np.pi/2\n",
    "        exp = createCircuit(disc_weights, shifted, res, real=False, real_data=None)\n",
    "    forward = cost(exp)  # forward evaluation\n",
    "    \n",
    "    if params[\"disc_model\"]:\n",
    "        shifted[i] -= np.pi\n",
    "        exp = createCircuit(shifted, gen_weights, res, real=params[\"real\"], real_data=params[\"real_data\"])\n",
    "    else:\n",
    "        shifted[i] -= np.pi/2\n",
    "        exp = createCircuit(disc_weights, shifted, res, real=False, real_data=None)\n",
    "    backward = cost(exp) # backward evaluation\n",
    "\n",
    "    return (0.5 * (forward.numpy() - backward.numpy()))"
   ]
  },
  {
   "cell_type": "code",
   "execution_count": 39,
   "metadata": {},
   "outputs": [],
   "source": [
    "def calc_gradient(cost, params):\n",
    "    grad = [0] * numWeights\n",
    "    for i in range(numWeights):\n",
    "        grad[i] = parameter_shift_term(cost, i, params=params)\n",
    "    return np.array(grad)"
   ]
  },
  {
   "cell_type": "code",
   "execution_count": 42,
   "metadata": {},
   "outputs": [
    {
     "name": "stdout",
     "output_type": "stream",
     "text": [
      "0.016484682873423383\n"
     ]
    }
   ],
   "source": [
    "params = {\"disc_model\" : True, \"real\" : True, \"real_data\" : X_encoded[1]}\n",
    "grad = parameter_shift_term(fake_disc_cost, 0, params)\n",
    "print(grad)"
   ]
  },
  {
   "cell_type": "code",
   "execution_count": 43,
   "metadata": {},
   "outputs": [
    {
     "name": "stdout",
     "output_type": "stream",
     "text": [
      "[ 0.01648468  0.00125767  0.03615734 -0.00115139  0.00616835 -0.01879713\n",
      "  0.02060907 -0.01781551  0.04560966  0.01321976  0.        ]\n"
     ]
    }
   ],
   "source": [
    "grad = calc_gradient(fake_disc_cost, params)\n",
    "print(grad)"
   ]
  },
  {
   "cell_type": "code",
   "execution_count": 36,
   "metadata": {
    "scrolled": true
   },
   "outputs": [
    {
     "name": "stdout",
     "output_type": "stream",
     "text": [
      " 0: ──H──────────────────────────────────────────────────────────────────────────────────────────────────────────────────────╭C─────╭C─────╭C─────╭C─────H──┤ ⟨Z⟩ \n",
      " 1: ──RY(0.764)──╭IsingYY(1.55)──────────────────╭C──────────────────────────────────────╭RY(1.38)───────────────────────────├SWAP──│──────│──────│─────────┤     \n",
      " 2: ──RY(0.607)──╰IsingYY(1.55)──╭IsingYY(2.16)──╰RY(2.34)───────╭C──────────────────────│───────────────────────────────────│──────├SWAP──│──────│─────────┤     \n",
      " 3: ──RY(2.51)───────────────────╰IsingYY(2.16)──╭IsingYY(3.11)──╰RY(1.92)──╭C───────────│───────────────────────────────────│──────│──────├SWAP──│─────────┤     \n",
      " 4: ──RY(1.46)───────────────────────────────────╰IsingYY(3.11)─────────────╰RY(0.0623)──╰C─────────╭AmplitudeEmbedding(M0)──│──────│──────│──────├SWAP─────┤     \n",
      " 5: ────────────────────────────────────────────────────────────────────────────────────────────────├AmplitudeEmbedding(M0)──╰SWAP──│──────│──────│─────────┤     \n",
      " 6: ────────────────────────────────────────────────────────────────────────────────────────────────├AmplitudeEmbedding(M0)─────────╰SWAP──│──────│─────────┤     \n",
      " 7: ────────────────────────────────────────────────────────────────────────────────────────────────╰AmplitudeEmbedding(M0)────────────────╰SWAP──│─────────┤     \n",
      " 8: ──────────────────────────────────────────────────────────────────────────────────────────────────────────────────────────────────────────────╰SWAP─────┤     \n",
      "M0 =\n",
      "[0.16356093+0.j 0.        +0.j 0.25553116+0.j 0.47687393+0.j\n",
      " 0.        +0.j 0.        +0.j 0.        +0.j 0.22070186+0.j\n",
      " 0.16421644+0.j 0.        +0.j 0.59116858+0.j 0.41087735+0.j\n",
      " 0.        +0.j 0.24490039+0.j 0.16306384+0.j 0.        +0.j]\n",
      "\n"
     ]
    }
   ],
   "source": [
    "drawer = qml.draw(createCircuit)\n",
    "print(drawer(disc_weights, gen_weights, res, real=True, real_data=X_encoded[0]))"
   ]
  },
  {
   "cell_type": "markdown",
   "metadata": {},
   "source": [
    "# Training Functions"
   ]
  },
  {
   "cell_type": "code",
   "execution_count": 53,
   "metadata": {},
   "outputs": [],
   "source": [
    "# Function that produces average measurements from trained generator. Note the use here of qml.probs instead of expval\n",
    "@qml.qnode(dev)\n",
    "def generate_output(weights):\n",
    "    generator(weights, res)\n",
    "    # Change the measurement to probs to get the relative amplitudes of the different states\n",
    "    return qml.probs(wires=[res, res+1, res+2, res+3])"
   ]
  },
  {
   "cell_type": "code",
   "execution_count": 45,
   "metadata": {},
   "outputs": [],
   "source": [
    "@qml.qnode(dev, interface=\"tf\")\n",
    "def gen_loss():\n",
    "    generator(gen_weights, res)\n",
    "    return gen_cost(qml.expval(qml.PauliZ(0)))\n",
    "\n",
    "def train_step(real_data, hp=None):\n",
    "    global disc_weights, gen_weights\n",
    "    if hp is None:\n",
    "        # R (int) : Disc - Gen train count\n",
    "        hp = {\"R\" : len(encoded_data), \"I\" : len(encoded_data) // 10, \"batch_size\" : 1, \"learning_rate\" : 0.01}\n",
    "    # Discriminator on real data\n",
    "    print(\"Discriminator on real\")\n",
    "    for i in tqdm(range(len(real_data)// hp[\"batch_size\"])): \n",
    "        average_grad = np.array([0] * numWeights, dtype=\"float64\")\n",
    "        for image in real_data[i*hp[\"batch_size\"]:(i+1)*hp[\"batch_size\"]]:\n",
    "            params = {\"disc_model\" : True, \"real\" : True, \"real_data\" : image}\n",
    "            gradient = calc_gradient(real_disc_cost, params) # Have to find the actual format for gradient to use tf.apply_gradients\n",
    "            average_grad = average_grad + gradient\n",
    "        average_grad /= hp[\"batch_size\"]\n",
    "        \n",
    "        # Apply gradient\n",
    "        disc_weights = disc_weights - hp[\"learning_rate\"]*average_grad\n",
    "    # Discriminator on fake data\n",
    "    print(\"Discriminator on fake\")\n",
    "    for _ in tqdm(range(hp[\"R\"])):\n",
    "        params = {\"disc_model\" : True, \"real\" : False, \"real_data\" : None}\n",
    "        gradient = calc_gradient(fake_disc_cost, params)\n",
    "        # Apply gradient\n",
    "        disc_weights = disc_weights - hp[\"learning_rate\"]*gradient\n",
    "        \n",
    "    print(\"Generator\")\n",
    "    for _ in tqdm(range(hp[\"I\"])):\n",
    "        params = {\"disc_model\" : False, \"real\" : False, \"real_data\" : None}\n",
    "        gradient = calc_gradient(gen_cost, params)\n",
    "        \n",
    "        gen_weights = gen_weights - 2.5*hp[\"learning_rate\"]*gradient\n",
    "        # They use 10 times less t\"raining steps for generator but a 2.5 times higher learning rate.\n",
    "        # Apply gradient\n",
    "    \n",
    "   "
   ]
  },
  {
   "cell_type": "code",
   "execution_count": 49,
   "metadata": {},
   "outputs": [],
   "source": [
    "def train(real_data, epochs=25, hp=None, reset=True, num_shots=30):\n",
    "    global disc_weights, gen_weights\n",
    "    if reset:\n",
    "        disc_weights = tf.Variable(np.pi * np.random.uniform(size=(numWeights,)))\n",
    "        gen_weights = tf.Variable(np.pi * np.random.uniform(size=(numWeights,)))\n",
    "        v_gen = 0\n",
    "        v_disc = 0\n",
    "    \n",
    "    for i in range(epochs):\n",
    "        print(\"Epoch {} of {}\".format(i+1, epochs))\n",
    "        train_step(real_data, hp)\n",
    "        # Printing out loss/visualizing examples at certain training steps.\n",
    "        print(\"Cost: {}\".format(gen_cost(createCircuit(disc_weights, gen_weights, res, real=False))))\n",
    "#         data = (generate_output(gen_weights, shots=num_shots) + 1) / 2\n",
    "#         image = decode(dec, data.reshape(1,-1), scaler)\n",
    "#         display_image(image, 1)"
   ]
  },
  {
   "cell_type": "code",
   "execution_count": 63,
   "metadata": {},
   "outputs": [
    {
     "name": "stderr",
     "output_type": "stream",
     "text": [
      "\r",
      "  0%|          | 0/20 [00:00<?, ?it/s]"
     ]
    },
    {
     "name": "stdout",
     "output_type": "stream",
     "text": [
      "Epoch 1 of 25\n",
      "Discriminator on real\n"
     ]
    },
    {
     "name": "stderr",
     "output_type": "stream",
     "text": [
      "100%|██████████| 20/20 [00:41<00:00,  2.06s/it]\n",
      "  0%|          | 0/100 [00:00<?, ?it/s]"
     ]
    },
    {
     "name": "stdout",
     "output_type": "stream",
     "text": [
      "Discriminator on fake\n"
     ]
    },
    {
     "name": "stderr",
     "output_type": "stream",
     "text": [
      "100%|██████████| 100/100 [01:06<00:00,  1.51it/s]\n",
      "  0%|          | 0/10 [00:00<?, ?it/s]"
     ]
    },
    {
     "name": "stdout",
     "output_type": "stream",
     "text": [
      "Generator\n"
     ]
    },
    {
     "name": "stderr",
     "output_type": "stream",
     "text": [
      "100%|██████████| 10/10 [00:05<00:00,  1.76it/s]\n",
      "  0%|          | 0/20 [00:00<?, ?it/s]"
     ]
    },
    {
     "name": "stdout",
     "output_type": "stream",
     "text": [
      "Cost: 5.2983174324035645\n",
      "Epoch 2 of 25\n",
      "Discriminator on real\n"
     ]
    },
    {
     "name": "stderr",
     "output_type": "stream",
     "text": [
      "100%|██████████| 20/20 [00:26<00:00,  1.35s/it]\n",
      "  0%|          | 0/100 [00:00<?, ?it/s]"
     ]
    },
    {
     "name": "stdout",
     "output_type": "stream",
     "text": [
      "Discriminator on fake\n"
     ]
    },
    {
     "name": "stderr",
     "output_type": "stream",
     "text": [
      "100%|██████████| 100/100 [00:55<00:00,  1.81it/s]\n",
      "  0%|          | 0/10 [00:00<?, ?it/s]"
     ]
    },
    {
     "name": "stdout",
     "output_type": "stream",
     "text": [
      "Generator\n"
     ]
    },
    {
     "name": "stderr",
     "output_type": "stream",
     "text": [
      "100%|██████████| 10/10 [00:03<00:00,  2.56it/s]\n",
      "  0%|          | 0/20 [00:00<?, ?it/s]"
     ]
    },
    {
     "name": "stdout",
     "output_type": "stream",
     "text": [
      "Cost: 2.8605802630490067\n",
      "Epoch 3 of 25\n",
      "Discriminator on real\n"
     ]
    },
    {
     "name": "stderr",
     "output_type": "stream",
     "text": [
      "100%|██████████| 20/20 [00:27<00:00,  1.37s/it]\n",
      "  0%|          | 0/100 [00:00<?, ?it/s]"
     ]
    },
    {
     "name": "stdout",
     "output_type": "stream",
     "text": [
      "Discriminator on fake\n"
     ]
    },
    {
     "name": "stderr",
     "output_type": "stream",
     "text": [
      "100%|██████████| 100/100 [00:49<00:00,  2.03it/s]\n",
      "  0%|          | 0/10 [00:00<?, ?it/s]"
     ]
    },
    {
     "name": "stdout",
     "output_type": "stream",
     "text": [
      "Generator\n"
     ]
    },
    {
     "name": "stderr",
     "output_type": "stream",
     "text": [
      "100%|██████████| 10/10 [00:08<00:00,  1.12it/s]\n",
      "  0%|          | 0/20 [00:00<?, ?it/s]"
     ]
    },
    {
     "name": "stdout",
     "output_type": "stream",
     "text": [
      "Cost: 2.426127350281056\n",
      "Epoch 4 of 25\n",
      "Discriminator on real\n"
     ]
    },
    {
     "name": "stderr",
     "output_type": "stream",
     "text": [
      "100%|██████████| 20/20 [00:33<00:00,  1.67s/it]\n",
      "  0%|          | 0/100 [00:00<?, ?it/s]"
     ]
    },
    {
     "name": "stdout",
     "output_type": "stream",
     "text": [
      "Discriminator on fake\n"
     ]
    },
    {
     "name": "stderr",
     "output_type": "stream",
     "text": [
      "100%|██████████| 100/100 [00:49<00:00,  2.01it/s]\n",
      "  0%|          | 0/10 [00:00<?, ?it/s]"
     ]
    },
    {
     "name": "stdout",
     "output_type": "stream",
     "text": [
      "Generator\n"
     ]
    },
    {
     "name": "stderr",
     "output_type": "stream",
     "text": [
      "100%|██████████| 10/10 [00:09<00:00,  1.11it/s]\n",
      "  0%|          | 0/20 [00:00<?, ?it/s]"
     ]
    },
    {
     "name": "stdout",
     "output_type": "stream",
     "text": [
      "Cost: 2.294309115570594\n",
      "Epoch 5 of 25\n",
      "Discriminator on real\n"
     ]
    },
    {
     "name": "stderr",
     "output_type": "stream",
     "text": [
      "100%|██████████| 20/20 [00:47<00:00,  2.36s/it]\n",
      "  0%|          | 0/100 [00:00<?, ?it/s]"
     ]
    },
    {
     "name": "stdout",
     "output_type": "stream",
     "text": [
      "Discriminator on fake\n"
     ]
    },
    {
     "name": "stderr",
     "output_type": "stream",
     "text": [
      "100%|██████████| 100/100 [01:06<00:00,  1.50it/s]\n",
      "  0%|          | 0/10 [00:00<?, ?it/s]"
     ]
    },
    {
     "name": "stdout",
     "output_type": "stream",
     "text": [
      "Generator\n"
     ]
    },
    {
     "name": "stderr",
     "output_type": "stream",
     "text": [
      "100%|██████████| 10/10 [00:05<00:00,  1.71it/s]\n",
      "  0%|          | 0/20 [00:00<?, ?it/s]"
     ]
    },
    {
     "name": "stdout",
     "output_type": "stream",
     "text": [
      "Cost: 2.2098973008755944\n",
      "Epoch 6 of 25\n",
      "Discriminator on real\n"
     ]
    },
    {
     "name": "stderr",
     "output_type": "stream",
     "text": [
      "100%|██████████| 20/20 [00:34<00:00,  1.72s/it]\n",
      "  0%|          | 0/100 [00:00<?, ?it/s]"
     ]
    },
    {
     "name": "stdout",
     "output_type": "stream",
     "text": [
      "Discriminator on fake\n"
     ]
    },
    {
     "name": "stderr",
     "output_type": "stream",
     "text": [
      "100%|██████████| 100/100 [01:02<00:00,  1.61it/s]\n",
      "  0%|          | 0/10 [00:00<?, ?it/s]"
     ]
    },
    {
     "name": "stdout",
     "output_type": "stream",
     "text": [
      "Generator\n"
     ]
    },
    {
     "name": "stderr",
     "output_type": "stream",
     "text": [
      "100%|██████████| 10/10 [00:06<00:00,  1.61it/s]\n",
      "  0%|          | 0/20 [00:00<?, ?it/s]"
     ]
    },
    {
     "name": "stdout",
     "output_type": "stream",
     "text": [
      "Cost: 2.1206813129390123\n",
      "Epoch 7 of 25\n",
      "Discriminator on real\n"
     ]
    },
    {
     "name": "stderr",
     "output_type": "stream",
     "text": [
      "100%|██████████| 20/20 [00:34<00:00,  1.71s/it]\n",
      "  0%|          | 0/100 [00:00<?, ?it/s]"
     ]
    },
    {
     "name": "stdout",
     "output_type": "stream",
     "text": [
      "Discriminator on fake\n"
     ]
    },
    {
     "name": "stderr",
     "output_type": "stream",
     "text": [
      "100%|██████████| 100/100 [00:58<00:00,  1.72it/s]\n",
      "  0%|          | 0/10 [00:00<?, ?it/s]"
     ]
    },
    {
     "name": "stdout",
     "output_type": "stream",
     "text": [
      "Generator\n"
     ]
    },
    {
     "name": "stderr",
     "output_type": "stream",
     "text": [
      "100%|██████████| 10/10 [00:06<00:00,  1.60it/s]\n",
      "  0%|          | 0/20 [00:00<?, ?it/s]"
     ]
    },
    {
     "name": "stdout",
     "output_type": "stream",
     "text": [
      "Cost: 2.0001754263696587\n",
      "Epoch 8 of 25\n",
      "Discriminator on real\n"
     ]
    },
    {
     "name": "stderr",
     "output_type": "stream",
     "text": [
      "100%|██████████| 20/20 [00:38<00:00,  1.92s/it]\n",
      "  0%|          | 0/100 [00:00<?, ?it/s]"
     ]
    },
    {
     "name": "stdout",
     "output_type": "stream",
     "text": [
      "Discriminator on fake\n"
     ]
    },
    {
     "name": "stderr",
     "output_type": "stream",
     "text": [
      "100%|██████████| 100/100 [01:15<00:00,  1.32it/s]\n",
      "  0%|          | 0/10 [00:00<?, ?it/s]"
     ]
    },
    {
     "name": "stdout",
     "output_type": "stream",
     "text": [
      "Generator\n"
     ]
    },
    {
     "name": "stderr",
     "output_type": "stream",
     "text": [
      "100%|██████████| 10/10 [00:04<00:00,  2.37it/s]\n",
      "  0%|          | 0/20 [00:00<?, ?it/s]"
     ]
    },
    {
     "name": "stdout",
     "output_type": "stream",
     "text": [
      "Cost: 1.811688742956031\n",
      "Epoch 9 of 25\n",
      "Discriminator on real\n"
     ]
    },
    {
     "name": "stderr",
     "output_type": "stream",
     "text": [
      "100%|██████████| 20/20 [00:35<00:00,  1.76s/it]\n",
      "  0%|          | 0/100 [00:00<?, ?it/s]"
     ]
    },
    {
     "name": "stdout",
     "output_type": "stream",
     "text": [
      "Discriminator on fake\n"
     ]
    },
    {
     "name": "stderr",
     "output_type": "stream",
     "text": [
      "100%|██████████| 100/100 [01:02<00:00,  1.60it/s]\n",
      "  0%|          | 0/10 [00:00<?, ?it/s]"
     ]
    },
    {
     "name": "stdout",
     "output_type": "stream",
     "text": [
      "Generator\n"
     ]
    },
    {
     "name": "stderr",
     "output_type": "stream",
     "text": [
      "100%|██████████| 10/10 [00:05<00:00,  1.68it/s]\n",
      "  0%|          | 0/20 [00:00<?, ?it/s]"
     ]
    },
    {
     "name": "stdout",
     "output_type": "stream",
     "text": [
      "Cost: 1.5758994586936086\n",
      "Epoch 10 of 25\n",
      "Discriminator on real\n"
     ]
    },
    {
     "name": "stderr",
     "output_type": "stream",
     "text": [
      "100%|██████████| 20/20 [00:34<00:00,  1.74s/it]\n",
      "  0%|          | 0/100 [00:00<?, ?it/s]"
     ]
    },
    {
     "name": "stdout",
     "output_type": "stream",
     "text": [
      "Discriminator on fake\n"
     ]
    },
    {
     "name": "stderr",
     "output_type": "stream",
     "text": [
      "100%|██████████| 100/100 [00:59<00:00,  1.68it/s]\n",
      "  0%|          | 0/10 [00:00<?, ?it/s]"
     ]
    },
    {
     "name": "stdout",
     "output_type": "stream",
     "text": [
      "Generator\n"
     ]
    },
    {
     "name": "stderr",
     "output_type": "stream",
     "text": [
      "100%|██████████| 10/10 [00:06<00:00,  1.46it/s]\n",
      "  0%|          | 0/20 [00:00<?, ?it/s]"
     ]
    },
    {
     "name": "stdout",
     "output_type": "stream",
     "text": [
      "Cost: 1.4212390940517172\n",
      "Epoch 11 of 25\n",
      "Discriminator on real\n"
     ]
    },
    {
     "name": "stderr",
     "output_type": "stream",
     "text": [
      "100%|██████████| 20/20 [00:33<00:00,  1.68s/it]\n",
      "  0%|          | 0/100 [00:00<?, ?it/s]"
     ]
    },
    {
     "name": "stdout",
     "output_type": "stream",
     "text": [
      "Discriminator on fake\n"
     ]
    },
    {
     "name": "stderr",
     "output_type": "stream",
     "text": [
      "100%|██████████| 100/100 [00:58<00:00,  1.70it/s]\n",
      "  0%|          | 0/10 [00:00<?, ?it/s]"
     ]
    },
    {
     "name": "stdout",
     "output_type": "stream",
     "text": [
      "Generator\n"
     ]
    },
    {
     "name": "stderr",
     "output_type": "stream",
     "text": [
      "100%|██████████| 10/10 [00:05<00:00,  1.78it/s]\n",
      "  0%|          | 0/20 [00:00<?, ?it/s]"
     ]
    },
    {
     "name": "stdout",
     "output_type": "stream",
     "text": [
      "Cost: 1.41366783477929\n",
      "Epoch 12 of 25\n",
      "Discriminator on real\n"
     ]
    },
    {
     "name": "stderr",
     "output_type": "stream",
     "text": [
      "100%|██████████| 20/20 [00:33<00:00,  1.70s/it]\n",
      "  0%|          | 0/100 [00:00<?, ?it/s]"
     ]
    },
    {
     "name": "stdout",
     "output_type": "stream",
     "text": [
      "Discriminator on fake\n"
     ]
    },
    {
     "name": "stderr",
     "output_type": "stream",
     "text": [
      "100%|██████████| 100/100 [00:58<00:00,  1.70it/s]\n",
      "  0%|          | 0/10 [00:00<?, ?it/s]"
     ]
    },
    {
     "name": "stdout",
     "output_type": "stream",
     "text": [
      "Generator\n"
     ]
    },
    {
     "name": "stderr",
     "output_type": "stream",
     "text": [
      "100%|██████████| 10/10 [00:05<00:00,  1.78it/s]\n",
      "  0%|          | 0/20 [00:00<?, ?it/s]"
     ]
    },
    {
     "name": "stdout",
     "output_type": "stream",
     "text": [
      "Cost: 1.5375513334040558\n",
      "Epoch 13 of 25\n",
      "Discriminator on real\n"
     ]
    },
    {
     "name": "stderr",
     "output_type": "stream",
     "text": [
      "100%|██████████| 20/20 [00:33<00:00,  1.69s/it]\n",
      "  0%|          | 0/100 [00:00<?, ?it/s]"
     ]
    },
    {
     "name": "stdout",
     "output_type": "stream",
     "text": [
      "Discriminator on fake\n"
     ]
    },
    {
     "name": "stderr",
     "output_type": "stream",
     "text": [
      "100%|██████████| 100/100 [01:02<00:00,  1.61it/s]\n",
      "  0%|          | 0/10 [00:00<?, ?it/s]"
     ]
    },
    {
     "name": "stdout",
     "output_type": "stream",
     "text": [
      "Generator\n"
     ]
    },
    {
     "name": "stderr",
     "output_type": "stream",
     "text": [
      "100%|██████████| 10/10 [00:06<00:00,  1.57it/s]\n",
      "  0%|          | 0/20 [00:00<?, ?it/s]"
     ]
    },
    {
     "name": "stdout",
     "output_type": "stream",
     "text": [
      "Cost: 1.741086481994527\n",
      "Epoch 14 of 25\n",
      "Discriminator on real\n"
     ]
    },
    {
     "name": "stderr",
     "output_type": "stream",
     "text": [
      "100%|██████████| 20/20 [00:32<00:00,  1.64s/it]\n",
      "  0%|          | 0/100 [00:00<?, ?it/s]"
     ]
    },
    {
     "name": "stdout",
     "output_type": "stream",
     "text": [
      "Discriminator on fake\n"
     ]
    },
    {
     "name": "stderr",
     "output_type": "stream",
     "text": [
      "100%|██████████| 100/100 [00:54<00:00,  1.85it/s]\n",
      "  0%|          | 0/10 [00:00<?, ?it/s]"
     ]
    },
    {
     "name": "stdout",
     "output_type": "stream",
     "text": [
      "Generator\n"
     ]
    },
    {
     "name": "stderr",
     "output_type": "stream",
     "text": [
      "100%|██████████| 10/10 [00:05<00:00,  1.84it/s]\n",
      "  0%|          | 0/20 [00:00<?, ?it/s]"
     ]
    },
    {
     "name": "stdout",
     "output_type": "stream",
     "text": [
      "Cost: 1.964034916862011\n",
      "Epoch 15 of 25\n",
      "Discriminator on real\n"
     ]
    },
    {
     "name": "stderr",
     "output_type": "stream",
     "text": [
      "100%|██████████| 20/20 [00:22<00:00,  1.11s/it]\n",
      "  0%|          | 0/100 [00:00<?, ?it/s]"
     ]
    },
    {
     "name": "stdout",
     "output_type": "stream",
     "text": [
      "Discriminator on fake\n"
     ]
    },
    {
     "name": "stderr",
     "output_type": "stream",
     "text": [
      "100%|██████████| 100/100 [01:00<00:00,  1.65it/s]\n",
      "  0%|          | 0/10 [00:00<?, ?it/s]"
     ]
    },
    {
     "name": "stdout",
     "output_type": "stream",
     "text": [
      "Generator\n"
     ]
    },
    {
     "name": "stderr",
     "output_type": "stream",
     "text": [
      "100%|██████████| 10/10 [00:06<00:00,  1.56it/s]\n",
      "  0%|          | 0/20 [00:00<?, ?it/s]"
     ]
    },
    {
     "name": "stdout",
     "output_type": "stream",
     "text": [
      "Cost: 2.152350364091919\n",
      "Epoch 16 of 25\n",
      "Discriminator on real\n"
     ]
    },
    {
     "name": "stderr",
     "output_type": "stream",
     "text": [
      "100%|██████████| 20/20 [00:33<00:00,  1.68s/it]\n",
      "  0%|          | 0/100 [00:00<?, ?it/s]"
     ]
    },
    {
     "name": "stdout",
     "output_type": "stream",
     "text": [
      "Discriminator on fake\n"
     ]
    },
    {
     "name": "stderr",
     "output_type": "stream",
     "text": [
      "100%|██████████| 100/100 [00:59<00:00,  1.68it/s]\n",
      "  0%|          | 0/10 [00:00<?, ?it/s]"
     ]
    },
    {
     "name": "stdout",
     "output_type": "stream",
     "text": [
      "Generator\n"
     ]
    },
    {
     "name": "stderr",
     "output_type": "stream",
     "text": [
      "100%|██████████| 10/10 [00:06<00:00,  1.58it/s]\n",
      "  0%|          | 0/20 [00:00<?, ?it/s]"
     ]
    },
    {
     "name": "stdout",
     "output_type": "stream",
     "text": [
      "Cost: 2.2597490605056687\n",
      "Epoch 17 of 25\n",
      "Discriminator on real\n"
     ]
    },
    {
     "name": "stderr",
     "output_type": "stream",
     "text": [
      "100%|██████████| 20/20 [00:36<00:00,  1.83s/it]\n",
      "  0%|          | 0/100 [00:00<?, ?it/s]"
     ]
    },
    {
     "name": "stdout",
     "output_type": "stream",
     "text": [
      "Discriminator on fake\n"
     ]
    },
    {
     "name": "stderr",
     "output_type": "stream",
     "text": [
      "100%|██████████| 100/100 [00:57<00:00,  1.73it/s]\n",
      "  0%|          | 0/10 [00:00<?, ?it/s]"
     ]
    },
    {
     "name": "stdout",
     "output_type": "stream",
     "text": [
      "Generator\n"
     ]
    },
    {
     "name": "stderr",
     "output_type": "stream",
     "text": [
      "100%|██████████| 10/10 [00:05<00:00,  1.79it/s]\n",
      "  0%|          | 0/20 [00:00<?, ?it/s]"
     ]
    },
    {
     "name": "stdout",
     "output_type": "stream",
     "text": [
      "Cost: 2.267790903313782\n",
      "Epoch 18 of 25\n",
      "Discriminator on real\n"
     ]
    },
    {
     "name": "stderr",
     "output_type": "stream",
     "text": [
      "100%|██████████| 20/20 [00:33<00:00,  1.68s/it]\n",
      "  0%|          | 0/100 [00:00<?, ?it/s]"
     ]
    },
    {
     "name": "stdout",
     "output_type": "stream",
     "text": [
      "Discriminator on fake\n"
     ]
    },
    {
     "name": "stderr",
     "output_type": "stream",
     "text": [
      "100%|██████████| 100/100 [00:58<00:00,  1.71it/s]\n",
      "  0%|          | 0/10 [00:00<?, ?it/s]"
     ]
    },
    {
     "name": "stdout",
     "output_type": "stream",
     "text": [
      "Generator\n"
     ]
    },
    {
     "name": "stderr",
     "output_type": "stream",
     "text": [
      "100%|██████████| 10/10 [00:05<00:00,  1.70it/s]\n",
      "  0%|          | 0/20 [00:00<?, ?it/s]"
     ]
    },
    {
     "name": "stdout",
     "output_type": "stream",
     "text": [
      "Cost: 2.211033407972324\n",
      "Epoch 19 of 25\n",
      "Discriminator on real\n"
     ]
    },
    {
     "name": "stderr",
     "output_type": "stream",
     "text": [
      "100%|██████████| 20/20 [00:33<00:00,  1.65s/it]\n",
      "  0%|          | 0/100 [00:00<?, ?it/s]"
     ]
    },
    {
     "name": "stdout",
     "output_type": "stream",
     "text": [
      "Discriminator on fake\n"
     ]
    },
    {
     "name": "stderr",
     "output_type": "stream",
     "text": [
      "100%|██████████| 100/100 [01:01<00:00,  1.64it/s]\n",
      "  0%|          | 0/10 [00:00<?, ?it/s]"
     ]
    },
    {
     "name": "stdout",
     "output_type": "stream",
     "text": [
      "Generator\n"
     ]
    },
    {
     "name": "stderr",
     "output_type": "stream",
     "text": [
      "100%|██████████| 10/10 [00:06<00:00,  1.60it/s]\n",
      "  0%|          | 0/20 [00:00<?, ?it/s]"
     ]
    },
    {
     "name": "stdout",
     "output_type": "stream",
     "text": [
      "Cost: 2.1413417412375644\n",
      "Epoch 20 of 25\n",
      "Discriminator on real\n"
     ]
    },
    {
     "name": "stderr",
     "output_type": "stream",
     "text": [
      "100%|██████████| 20/20 [00:37<00:00,  1.87s/it]\n",
      "  0%|          | 0/100 [00:00<?, ?it/s]"
     ]
    },
    {
     "name": "stdout",
     "output_type": "stream",
     "text": [
      "Discriminator on fake\n"
     ]
    },
    {
     "name": "stderr",
     "output_type": "stream",
     "text": [
      "100%|██████████| 100/100 [00:52<00:00,  1.91it/s]\n",
      "  0%|          | 0/10 [00:00<?, ?it/s]"
     ]
    },
    {
     "name": "stdout",
     "output_type": "stream",
     "text": [
      "Generator\n"
     ]
    },
    {
     "name": "stderr",
     "output_type": "stream",
     "text": [
      "100%|██████████| 10/10 [00:03<00:00,  2.64it/s]\n",
      "  0%|          | 0/20 [00:00<?, ?it/s]"
     ]
    },
    {
     "name": "stdout",
     "output_type": "stream",
     "text": [
      "Cost: 2.0833961319330037\n",
      "Epoch 21 of 25\n",
      "Discriminator on real\n"
     ]
    },
    {
     "name": "stderr",
     "output_type": "stream",
     "text": [
      "100%|██████████| 20/20 [00:21<00:00,  1.09s/it]\n",
      "  0%|          | 0/100 [00:00<?, ?it/s]"
     ]
    },
    {
     "name": "stdout",
     "output_type": "stream",
     "text": [
      "Discriminator on fake\n"
     ]
    },
    {
     "name": "stderr",
     "output_type": "stream",
     "text": [
      "100%|██████████| 100/100 [00:38<00:00,  2.59it/s]\n",
      "  0%|          | 0/10 [00:00<?, ?it/s]"
     ]
    },
    {
     "name": "stdout",
     "output_type": "stream",
     "text": [
      "Generator\n"
     ]
    },
    {
     "name": "stderr",
     "output_type": "stream",
     "text": [
      "100%|██████████| 10/10 [00:03<00:00,  2.63it/s]\n",
      "  0%|          | 0/20 [00:00<?, ?it/s]"
     ]
    },
    {
     "name": "stdout",
     "output_type": "stream",
     "text": [
      "Cost: 2.0461844045953756\n",
      "Epoch 22 of 25\n",
      "Discriminator on real\n"
     ]
    },
    {
     "name": "stderr",
     "output_type": "stream",
     "text": [
      "100%|██████████| 20/20 [00:22<00:00,  1.13s/it]\n",
      "  0%|          | 0/100 [00:00<?, ?it/s]"
     ]
    },
    {
     "name": "stdout",
     "output_type": "stream",
     "text": [
      "Discriminator on fake\n"
     ]
    },
    {
     "name": "stderr",
     "output_type": "stream",
     "text": [
      "100%|██████████| 100/100 [00:39<00:00,  2.54it/s]\n",
      "  0%|          | 0/10 [00:00<?, ?it/s]"
     ]
    },
    {
     "name": "stdout",
     "output_type": "stream",
     "text": [
      "Generator\n"
     ]
    },
    {
     "name": "stderr",
     "output_type": "stream",
     "text": [
      "100%|██████████| 10/10 [00:03<00:00,  2.63it/s]\n",
      "  0%|          | 0/20 [00:00<?, ?it/s]"
     ]
    },
    {
     "name": "stdout",
     "output_type": "stream",
     "text": [
      "Cost: 2.0321159308033314\n",
      "Epoch 23 of 25\n",
      "Discriminator on real\n"
     ]
    },
    {
     "name": "stderr",
     "output_type": "stream",
     "text": [
      "100%|██████████| 20/20 [00:22<00:00,  1.11s/it]\n",
      "  0%|          | 0/100 [00:00<?, ?it/s]"
     ]
    },
    {
     "name": "stdout",
     "output_type": "stream",
     "text": [
      "Discriminator on fake\n"
     ]
    },
    {
     "name": "stderr",
     "output_type": "stream",
     "text": [
      "100%|██████████| 100/100 [00:38<00:00,  2.60it/s]\n",
      "  0%|          | 0/10 [00:00<?, ?it/s]"
     ]
    },
    {
     "name": "stdout",
     "output_type": "stream",
     "text": [
      "Generator\n"
     ]
    },
    {
     "name": "stderr",
     "output_type": "stream",
     "text": [
      "100%|██████████| 10/10 [00:03<00:00,  2.61it/s]\n",
      "  0%|          | 0/20 [00:00<?, ?it/s]"
     ]
    },
    {
     "name": "stdout",
     "output_type": "stream",
     "text": [
      "Cost: 2.038627023994173\n",
      "Epoch 24 of 25\n",
      "Discriminator on real\n"
     ]
    },
    {
     "name": "stderr",
     "output_type": "stream",
     "text": [
      "100%|██████████| 20/20 [00:22<00:00,  1.11s/it]\n",
      "  0%|          | 0/100 [00:00<?, ?it/s]"
     ]
    },
    {
     "name": "stdout",
     "output_type": "stream",
     "text": [
      "Discriminator on fake\n"
     ]
    },
    {
     "name": "stderr",
     "output_type": "stream",
     "text": [
      "100%|██████████| 100/100 [01:20<00:00,  1.24it/s]\n",
      "  0%|          | 0/10 [00:00<?, ?it/s]"
     ]
    },
    {
     "name": "stdout",
     "output_type": "stream",
     "text": [
      "Generator\n"
     ]
    },
    {
     "name": "stderr",
     "output_type": "stream",
     "text": [
      "100%|██████████| 10/10 [00:04<00:00,  2.12it/s]\n",
      "  0%|          | 0/20 [00:00<?, ?it/s]"
     ]
    },
    {
     "name": "stdout",
     "output_type": "stream",
     "text": [
      "Cost: 2.061692374745578\n",
      "Epoch 25 of 25\n",
      "Discriminator on real\n"
     ]
    },
    {
     "name": "stderr",
     "output_type": "stream",
     "text": [
      "100%|██████████| 20/20 [00:27<00:00,  1.37s/it]\n",
      "  0%|          | 0/100 [00:00<?, ?it/s]"
     ]
    },
    {
     "name": "stdout",
     "output_type": "stream",
     "text": [
      "Discriminator on fake\n"
     ]
    },
    {
     "name": "stderr",
     "output_type": "stream",
     "text": [
      "100%|██████████| 100/100 [00:41<00:00,  2.43it/s]\n",
      "  0%|          | 0/10 [00:00<?, ?it/s]"
     ]
    },
    {
     "name": "stdout",
     "output_type": "stream",
     "text": [
      "Generator\n"
     ]
    },
    {
     "name": "stderr",
     "output_type": "stream",
     "text": [
      "100%|██████████| 10/10 [00:04<00:00,  2.43it/s]"
     ]
    },
    {
     "name": "stdout",
     "output_type": "stream",
     "text": [
      "Cost: 2.0968821488459226\n"
     ]
    },
    {
     "name": "stderr",
     "output_type": "stream",
     "text": [
      "\n"
     ]
    }
   ],
   "source": [
    "train(X_encoded[:100], epochs=25, hp={\"R\" : 100, \"I\" : 10, \"batch_size\" : 5, \"learning_rate\" : 0.01})"
   ]
  },
  {
   "cell_type": "markdown",
   "metadata": {},
   "source": [
    "# Generate Output\n",
    "Use trained generator to generate MNIST images. This is different because of the amplitude encoding."
   ]
  },
  {
   "cell_type": "code",
   "execution_count": 64,
   "metadata": {},
   "outputs": [
    {
     "name": "stdout",
     "output_type": "stream",
     "text": [
      "[0.06415628 0.22710289 0.06037784 0.15578198 0.09434958 0.20774424\n",
      " 0.05164604 0.13884127 0.         0.         0.         0.\n",
      " 0.         0.         0.         0.        ]\n"
     ]
    }
   ],
   "source": [
    "data = (generate_output(gen_weights))"
   ]
  },
  {
   "cell_type": "code",
   "execution_count": 65,
   "metadata": {},
   "outputs": [],
   "source": [
    "new_data = torch.from_numpy(data)"
   ]
  },
  {
   "cell_type": "code",
   "execution_count": 66,
   "metadata": {},
   "outputs": [],
   "source": [
    "decoded = decoder(new_data)"
   ]
  },
  {
   "cell_type": "code",
   "execution_count": 67,
   "metadata": {},
   "outputs": [
    {
     "data": {
      "image/png": "[encoded data removed]",
      "text/plain": [
       "<Figure size 432x288 with 1 Axes>"
      ]
     },
     "metadata": {
      "needs_background": "light"
     },
     "output_type": "display_data"
    }
   ],
   "source": [
    "plt.imshow(decoded.detach().numpy().reshape(28, 28))\n",
    "plt.gray()"
   ]
  },
  {
   "cell_type": "code",
   "execution_count": 87,
   "metadata": {},
   "outputs": [
    {
     "data": {
      "image/png": "[encoded data removed]",
      "text/plain": [
       "<Figure size 720x720 with 1 Axes>"
      ]
     },
     "metadata": {},
     "output_type": "display_data"
    }
   ],
   "source": [
    "display_image(image, 1)"
   ]
  },
  {
   "cell_type": "code",
   "execution_count": 100,
   "metadata": {},
   "outputs": [
    {
     "data": {
      "image/png": "[encoded data removed]",
      "text/plain": [
       "<Figure size 720x720 with 25 Axes>"
      ]
     },
     "metadata": {},
     "output_type": "display_data"
    }
   ],
   "source": [
    "images = []\n",
    "outputs = []\n",
    "for i in range(25):\n",
    "    outputs.append((generate_output(gen_weights, shots=10) + 1) / 2)\n",
    "images = [decode(dec, x.reshape(1, -1), scaler).reshape((28, 28)) for x in outputs]\n",
    "display_image(images, 25)"
   ]
  },
  {
   "cell_type": "markdown",
   "metadata": {},
   "source": [
    "# Evalutation"
   ]
  },
  {
   "cell_type": "code",
   "execution_count": 1,
   "metadata": {},
   "outputs": [
    {
     "name": "stdout",
     "output_type": "stream",
     "text": [
      "0.15049827134518493\n"
     ]
    }
   ],
   "source": [
    "# --------- Can use for quantum or classical data -----------\n",
    "# Takes two probability distributions (two arrays where all the numbers in each array sum to one)\n",
    "def hellinger_distance(pDistribution, qDistribution):\n",
    "    hDistance = 0\n",
    "    for pVal,qVal in zip(pDistribution,qDistribution):\n",
    "        hDistance += (pVal**0.5 - qVal**0.5)**2\n",
    "    hDistance = (1/(2**0.5))*(hDistance**0.5) \n",
    "    return hDistance\n",
    "\n",
    "# Testing the function with basic example (it works)\n",
    "print(hellinger_distance([0.36, 0.48, 0.16], [0.3333333, 0.3333333, 0.3333333]))\n"
   ]
  },
  {
   "cell_type": "code",
   "execution_count": null,
   "metadata": {},
   "outputs": [],
   "source": []
  }
 ],
 "metadata": {
  "kernelspec": {
   "display_name": "Python 3",
   "language": "python",
   "name": "python3"
  },
  "language_info": {
   "codemirror_mode": {
    "name": "ipython",
    "version": 3
   },
   "file_extension": ".py",
   "mimetype": "text/x-python",
   "name": "python",
   "nbconvert_exporter": "python",
   "pygments_lexer": "ipython3",
   "version": "3.8.3"
  }
 },
 "nbformat": 4,
 "nbformat_minor": 4
}
