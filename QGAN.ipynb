{
 "cells": [
  {
   "cell_type": "markdown",
   "metadata": {},
   "source": [
    "# QGAN\n",
    "Quantum Generative Adversarial Network capable of generating novel MNIST images. Created by QMIND's Disruptive Technology team consisting of Cameron Estabrooks, Jacob Ewaniuk, Adam Grace, Spencer Hill, and Joshua Otten. "
   ]
  },
  {
   "cell_type": "code",
   "execution_count": 1,
   "metadata": {},
   "outputs": [],
   "source": [
    "# Imports\n",
    "import tensorflow as tf\n",
    "from tensorflow import keras\n",
    "from matplotlib import pyplot as plt\n",
    "\n",
    "from pennylane import numpy as np\n",
    "from numpy import pi\n",
    "from numpy import linalg as la\n",
    "\n",
    "import pennylane as qml\n",
    "import cirq\n",
    "import math as m\n",
    "import numpy as np\n",
    "\n",
    "from sklearn.preprocessing import MinMaxScaler\n",
    "\n",
    "res = 4\n",
    "numQubits = 2 * res + 1\n",
    "numWeights = 3 * res - 1\n",
    "dev = qml.device('cirq.simulator', wires=numQubits)"
   ]
  },
  {
   "cell_type": "markdown",
   "metadata": {},
   "source": [
    "# Data Loading and Preparation\n",
    "Load MNIST data, normalize it, and create new arrays with only the 3 and 9 digits"
   ]
  },
  {
   "cell_type": "code",
   "execution_count": 2,
   "metadata": {},
   "outputs": [],
   "source": [
    "# Utility function to display images \n",
    "def display_image(X_data, image_num, Y_labels=None):\n",
    "    plt.figure(figsize=(10,10))\n",
    "    for i in range(image_num):\n",
    "        plt.subplot(5,5,i+1)\n",
    "        plt.xticks([])\n",
    "        plt.yticks([])\n",
    "        plt.grid(False)\n",
    "        plt.imshow(X_data[i], cmap='Greys')\n",
    "        # The CIFAR labels happen to be arrays, \n",
    "        # which is why you need the extra index\n",
    "        if Y_labels is not None:\n",
    "            plt.xlabel(Y_labels[i])\n",
    "    plt.show()"
   ]
  },
  {
   "cell_type": "code",
   "execution_count": 3,
   "metadata": {},
   "outputs": [
    {
     "data": {
      "image/png": "[encoded data removed]",
      "text/plain": [
       "<Figure size 720x720 with 25 Axes>"
      ]
     },
     "metadata": {},
     "output_type": "display_data"
    }
   ],
   "source": [
    "# Prepare and Load Data\n",
    "(X_train, Y_train), (X_test, Y_test) = tf.keras.datasets.mnist.load_data()\n",
    "full_X = np.concatenate((X_train, X_test))\n",
    "full_Y = np.concatenate((Y_train, Y_test))\n",
    "full_X = full_X / 255\n",
    "other_X = full_X[:10000] # Paper only uses first 10000 images for training\n",
    "other_Y = full_Y[:10000]\n",
    "# Select only 3s and 8s\n",
    "X = []\n",
    "Y = []\n",
    "for i in range(len(other_X)):\n",
    "    if other_Y[i] == 3 or other_Y[i] == 8:\n",
    "        X.append(other_X[i])\n",
    "        Y.append(other_Y[i])\n",
    "X = np.array(X)\n",
    "Y = np.array(Y)\n",
    "\n",
    "# Display select images\n",
    "display_image(X, 25, Y)"
   ]
  },
  {
   "cell_type": "markdown",
   "metadata": {},
   "source": [
    "# Image Encoding\n",
    "Define functions to encode and decode MNSIST images. Methods available include a trained Variational Autoencoder and the Principle Component Analysis (PCA) algorithm."
   ]
  },
  {
   "cell_type": "code",
   "execution_count": 4,
   "metadata": {},
   "outputs": [
    {
     "name": "stdout",
     "output_type": "stream",
     "text": [
      "Model: \"model\"\n",
      "_________________________________________________________________\n",
      " Layer (type)                Output Shape              Param #   \n",
      "=================================================================\n",
      " input_1 (InputLayer)        [(None, 784)]             0         \n",
      "                                                                 \n",
      " dense (Dense)               (None, 256)               200960    \n",
      "                                                                 \n",
      " dense_1 (Dense)             (None, 64)                16448     \n",
      "                                                                 \n",
      " dense_2 (Dense)             (None, 4)                 260       \n",
      "                                                                 \n",
      " dense_3 (Dense)             (None, 64)                320       \n",
      "                                                                 \n",
      " dense_4 (Dense)             (None, 256)               16640     \n",
      "                                                                 \n",
      " dense_5 (Dense)             (None, 784)               201488    \n",
      "                                                                 \n",
      "=================================================================\n",
      "Total params: 436,116\n",
      "Trainable params: 436,116\n",
      "Non-trainable params: 0\n",
      "_________________________________________________________________\n",
      "None\n",
      "Model: \"model\"\n",
      "_________________________________________________________________\n",
      " Layer (type)                Output Shape              Param #   \n",
      "=================================================================\n",
      " Encoder Input (InputLayer)  [(None, 784)]             0         \n",
      "                                                                 \n",
      " dense (Dense)               (None, 256)               200960    \n",
      "                                                                 \n",
      " dense_1 (Dense)             (None, 64)                16448     \n",
      "                                                                 \n",
      " dense_2 (Dense)             (None, 4)                 260       \n",
      "                                                                 \n",
      "=================================================================\n",
      "Total params: 217,668\n",
      "Trainable params: 217,668\n",
      "Non-trainable params: 0\n",
      "_________________________________________________________________\n",
      "None\n",
      "Model: \"model_1\"\n",
      "_________________________________________________________________\n",
      " Layer (type)                Output Shape              Param #   \n",
      "=================================================================\n",
      " Decoder Input (InputLayer)  [(None, 4)]               0         \n",
      "                                                                 \n",
      " input_1 (InputLayer)        multiple                  0         \n",
      "                                                                 \n",
      " dense_3 (Dense)             (None, 64)                320       \n",
      "                                                                 \n",
      " dense_4 (Dense)             (None, 256)               16640     \n",
      "                                                                 \n",
      " dense_5 (Dense)             (None, 784)               201488    \n",
      "                                                                 \n",
      "=================================================================\n",
      "Total params: 218,448\n",
      "Trainable params: 218,448\n",
      "Non-trainable params: 0\n",
      "_________________________________________________________________\n",
      "None\n"
     ]
    }
   ],
   "source": [
    "# Load the trained autoencoder\n",
    "def load_autoencoder():\n",
    "    model = keras.models.load_model('mnist_enc/mnist_enc/')\n",
    "    print(model.summary())\n",
    "    layer = model.get_layer('dense_2')\n",
    "    bottom_input = keras.layers.Input(model.input_shape[1:], name=\"Encoder Input\")\n",
    "    bottom_output = bottom_input\n",
    "#     bottom_output = keras.layers.Input(model.input_shape[1:])\n",
    "    top_input = keras.layers.Input(layer.output_shape[1:], name=\"Decoder Input\")\n",
    "    top_output = top_input\n",
    "\n",
    "    bottom = True\n",
    "    for layer in model.layers:\n",
    "        if bottom and layer.name != 'input_1':\n",
    "            bottom_output = layer(bottom_output)\n",
    "        else:\n",
    "            top_output = layer(top_output)\n",
    "        if layer.name == 'dense_2':\n",
    "            bottom = False\n",
    "\n",
    "    enc_model = keras.Model(bottom_input, bottom_output)\n",
    "    dec_model = keras.Model(top_input, top_output)\n",
    "    return enc_model, dec_model\n",
    "\n",
    "enc, dec = load_autoencoder()\n",
    "print(enc.summary())\n",
    "print(dec.summary())"
   ]
  },
  {
   "cell_type": "code",
   "execution_count": 92,
   "metadata": {},
   "outputs": [],
   "source": [
    "# Encodes MNIST data into rotations. Return encoded data and the MinMaxScaler used to \n",
    "# normalize it (so it can be used to decode the compressed data)\n",
    "def encode(encoder, data):\n",
    "    encoded = encoder.predict(data.reshape(-1, 784))\n",
    "    scaler = MinMaxScaler()\n",
    "    scaler.fit(encoded)\n",
    "    scaled_encoded = scaler.transform(encoded)\n",
    "    qubitized_data = 2*np.arcsin(np.sqrt(scaled_encoded)) # Should play around with\n",
    "    return qubitized_data, scaler\n",
    "\n",
    "# Decodes compressed data\n",
    "def decode(decoder, data, scaler):\n",
    "    unscaled = scaler.inverse_transform(np.sin(data / 2) ** 2)\n",
    "    return decoder.predict(unscaled).reshape(-1,28,28)"
   ]
  },
  {
   "cell_type": "code",
   "execution_count": 93,
   "metadata": {},
   "outputs": [],
   "source": [
    "encoded_data, scaler = encode(enc, X)"
   ]
  },
  {
   "cell_type": "code",
   "execution_count": 94,
   "metadata": {},
   "outputs": [
    {
     "name": "stdout",
     "output_type": "stream",
     "text": [
      "[0.888424  1.1144377 1.504254  1.1585927]\n"
     ]
    },
    {
     "data": {
      "image/png": "[encoded data removed]",
      "text/plain": [
       "<Figure size 720x720 with 25 Axes>"
      ]
     },
     "metadata": {},
     "output_type": "display_data"
    }
   ],
   "source": [
    "print(encoded_data[1])\n",
    "test = decode(dec, encoded_data, scaler)\n",
    "display_image(test, 25)"
   ]
  },
  {
   "cell_type": "code",
   "execution_count": 95,
   "metadata": {},
   "outputs": [
    {
     "data": {
      "image/png": "[encoded data removed]",
      "text/plain": [
       "<Figure size 720x720 with 25 Axes>"
      ]
     },
     "metadata": {},
     "output_type": "display_data"
    }
   ],
   "source": [
    "@qml.qnode(dev, interface=\"tf\")\n",
    "def test_circ(res, data):\n",
    "    for i in range(0, res):\n",
    "        qml.RY(data[i], wires=i)\n",
    "    return [qml.expval(qml.PauliZ(i)) for i in range(4)]\n",
    "\n",
    "test_data = [test_circ(res, encoded_data[i]) for i in range(25)]\n",
    "test_img = decode(dec, encoded_data, scaler)\n",
    "display_image(test_img, 25)"
   ]
  },
  {
   "cell_type": "markdown",
   "metadata": {},
   "source": [
    "## Initialize weights"
   ]
  },
  {
   "cell_type": "code",
   "execution_count": 112,
   "metadata": {},
   "outputs": [
    {
     "name": "stdout",
     "output_type": "stream",
     "text": [
      "<tf.Variable 'Variable:0' shape=(11,) dtype=float64, numpy=\n",
      "array([0.26654991, 1.50381068, 2.97191966, 0.85620008, 1.29697511,\n",
      "       1.87150805, 1.42525187, 1.00968071, 0.5856022 , 1.15106965,\n",
      "       1.69551557])>\n",
      "<tf.Variable 'Variable:0' shape=(11,) dtype=float64, numpy=\n",
      "array([0.5311134 , 2.45053771, 1.11193063, 1.98688636, 0.33470774,\n",
      "       3.03146223, 2.79557441, 1.75182553, 1.57570817, 1.41816683,\n",
      "       0.56705082])>\n"
     ]
    }
   ],
   "source": [
    "disc_weights = tf.Variable(np.pi * np.random.uniform(size=(numWeights,)))\n",
    "gen_weights = tf.Variable(np.pi * np.random.uniform(size=(numWeights,)))\n",
    "\n",
    "print(disc_weights)\n",
    "print(gen_weights)"
   ]
  },
  {
   "cell_type": "markdown",
   "metadata": {},
   "source": [
    "# Generator and Discriminator Models\n"
   ]
  },
  {
   "cell_type": "code",
   "execution_count": 97,
   "metadata": {},
   "outputs": [],
   "source": [
    "def generator(thetas, res):\n",
    "    for i in range(res):\n",
    "        qml.RY(thetas[i], wires=i+1+res)\n",
    "\n",
    "    for i in range(res-1):\n",
    "        qml.IsingYY(thetas[i+res], wires=[i+1+res, i+2+res])\n",
    "    \n",
    "    for i in range(res):\n",
    "        if (i+2)%res == 0:\n",
    "            qml.CRY(thetas[i+2*res-1], wires=[i+1+res, 2*res])\n",
    "        else:\n",
    "            qml.CRY(thetas[i+2*res-1], wires=[i+1+res, ((i+2)%res)+res])"
   ]
  },
  {
   "cell_type": "code",
   "execution_count": 98,
   "metadata": {},
   "outputs": [],
   "source": [
    "def discriminator(thetas, res):\n",
    "    for i in range(res):\n",
    "        qml.RY(thetas[i], wires=i+1)\n",
    "    \n",
    "    for i in range(res-1):\n",
    "        qml.IsingYY(thetas[i+res], wires=[i+1, i+2])\n",
    "    \n",
    "    for i in range(res):\n",
    "        if (i+2)%res == 0:\n",
    "            qml.CRY(thetas[i+2*res-1], wires=[i+1, res])\n",
    "        else:\n",
    "            qml.CRY(thetas[i+2*res-1], wires=[i+1, (i+2)%res])"
   ]
  },
  {
   "cell_type": "markdown",
   "metadata": {},
   "source": [
    "# Full QGAN Circuit"
   ]
  },
  {
   "cell_type": "code",
   "execution_count": 99,
   "metadata": {},
   "outputs": [],
   "source": [
    "@qml.qnode(dev, interface=\"tf\")\n",
    "def createCircuit(disc_weights, gen_weights, res, real=False, real_data=None):\n",
    "    qml.Hadamard(wires=0)\n",
    "    discriminator(disc_weights, res)\n",
    "    if not real:\n",
    "        generator(gen_weights, res)\n",
    "        \n",
    "    if real:\n",
    "        # Encode real data into Quantum Circuit\n",
    "        for i in range(0, res):\n",
    "            qml.RY(real_data[i], wires=i+1+res)\n",
    "            \n",
    "    for i in range(res):\n",
    "        qml.CSWAP(wires=[0, i+1, i+1+res])\n",
    "    qml.Hadamard(wires=0)\n",
    "\n",
    "    return qml.expval(qml.PauliZ(0))"
   ]
  },
  {
   "cell_type": "markdown",
   "metadata": {},
   "source": [
    "# Cost Functions"
   ]
  },
  {
   "cell_type": "code",
   "execution_count": 100,
   "metadata": {},
   "outputs": [],
   "source": [
    "# def disc_cost(disc_weights, gen_weights, res):\n",
    "#     real_fidelity = genCircuit(disc_weights, gen_weights, res)\n",
    "#     gen_fidelity = genCircuit(disc_weights, gen_weights, res, real=False)\n",
    "#     print(real_fidelity, gen_fidelity)\n",
    "# #     return m.log(real_fidelity) + m.log(1-gen_fidelity)\n",
    "#     return tf.math.log(real_fidelity) + tf.math.log(1-gen_fidelity)\n",
    "\n",
    "# def gen_cost(disc_weights, gen_weights, res):\n",
    "#     gen_fidelity = genCircuit(disc_weights, gen_weights, res, real=False)\n",
    "# #     return m.log(gen_fidelity)\n",
    "#     return tf.math.log(gen_fidelity)\n",
    "\n",
    "def real_disc_cost(expectation):\n",
    "    if expectation <= 0.005: # They did in the paper\n",
    "        expectation = 0.005\n",
    "    return -tf.math.log(expectation)\n",
    "\n",
    "def fake_disc_cost(expectation):\n",
    "    if expectation <= 0.005:\n",
    "        expectation = 0.005\n",
    "    return -tf.math.log(1-expectation)\n",
    "    \n",
    "def gen_cost(expectation):\n",
    "    if expectation <= 0.005:\n",
    "        expectation = 0.005\n",
    "    return -tf.math.log(expectation) # Maybe incorrect?"
   ]
  },
  {
   "cell_type": "code",
   "execution_count": 101,
   "metadata": {},
   "outputs": [],
   "source": [
    "def parameter_shift_term(cost, i, params=None):\n",
    "    if params is None:\n",
    "        # disc_model (boolean) : which parameters are being shifted, generator's if False.\n",
    "        # real (boolean) : whether real data is being used\n",
    "        params = {\"disc_model\" : True, \"real\" : False, \"real_data\" : None}\n",
    "    if params[\"disc_model\"]:\n",
    "        shifted = disc_weights.numpy().copy()\n",
    "        shifted[i] += np.pi/2\n",
    "        exp = createCircuit(shifted, gen_weights, res, real=params[\"real\"], real_data=params[\"real_data\"])\n",
    "    else:\n",
    "        shifted = gen_weights.numpy().copy()\n",
    "        shifted[i] += np.pi/2\n",
    "        exp = createCircuit(disc_weights, shifted, res, real=False, real_data=None)\n",
    "    forward = cost(exp)  # forward evaluation\n",
    "    \n",
    "    if params[\"disc_model\"]:\n",
    "        shifted[i] -= np.pi\n",
    "        exp = createCircuit(shifted, gen_weights, res, real=params[\"real\"], real_data=params[\"real_data\"])\n",
    "    else:\n",
    "        shifted[i] -= np.pi/2\n",
    "        exp = createCircuit(disc_weights, shifted, res, real=False, real_data=None)\n",
    "    backward = cost(exp) # backward evaluation\n",
    "\n",
    "    return (0.5 * (forward.numpy() - backward.numpy()))"
   ]
  },
  {
   "cell_type": "code",
   "execution_count": 102,
   "metadata": {},
   "outputs": [],
   "source": [
    "def calc_gradient(cost, params):\n",
    "    grad = [0] * numWeights\n",
    "    for i in range(numWeights):\n",
    "        grad[i] = parameter_shift_term(cost, i, params=params)\n",
    "    return np.array(grad)"
   ]
  },
  {
   "cell_type": "code",
   "execution_count": 103,
   "metadata": {},
   "outputs": [
    {
     "name": "stdout",
     "output_type": "stream",
     "text": [
      "-0.0031244088817265468\n"
     ]
    }
   ],
   "source": [
    "params = {\"disc_model\" : True, \"real\" : True, \"real_data\" : encoded_data[0]}\n",
    "grad = parameter_shift_term(fake_disc_cost, 0, params)\n",
    "print(grad)"
   ]
  },
  {
   "cell_type": "code",
   "execution_count": 104,
   "metadata": {},
   "outputs": [
    {
     "name": "stdout",
     "output_type": "stream",
     "text": [
      "[-0.00312441 -0.03015656 -0.0861232  -0.04130516 -0.00251317 -0.02496583\n",
      "  0.01098278 -0.00386743  0.0046511  -0.04085846 -0.00212236]\n"
     ]
    }
   ],
   "source": [
    "grad = calc_gradient(fake_disc_cost, params)\n",
    "print(grad)"
   ]
  },
  {
   "cell_type": "code",
   "execution_count": 105,
   "metadata": {
    "scrolled": true
   },
   "outputs": [
    {
     "name": "stdout",
     "output_type": "stream",
     "text": [
      " 0: ──H──────────────────────────────────────────────────────────────────────────────────────────────╭C─────╭C─────╭C─────╭C─────H──┤ ⟨Z⟩ \n",
      " 1: ──RY(0.47)───╭IsingYY(0.015)──────────────────╭C─────────────────────────────────────╭RY(0.643)──├SWAP──│──────│──────│─────────┤     \n",
      " 2: ──RY(1.93)───╰IsingYY(0.015)──╭IsingYY(3.07)──╰RY(0.346)───────╭C────────────────────│───────────│──────├SWAP──│──────│─────────┤     \n",
      " 3: ──RY(0.619)───────────────────╰IsingYY(3.07)──╭IsingYY(0.198)──╰RY(2.5)───╭C─────────│───────────│──────│──────├SWAP──│─────────┤     \n",
      " 4: ──RY(1.43)────────────────────────────────────╰IsingYY(0.198)─────────────╰RY(1.47)──╰C──────────│──────│──────│──────├SWAP─────┤     \n",
      " 5: ──RY(3.12)───╭IsingYY(2.83)───────────────────╭C─────────────────────────────────────╭RY(0.858)──╰SWAP──│──────│──────│─────────┤     \n",
      " 6: ──RY(1.05)───╰IsingYY(2.83)───╭IsingYY(0.48)──╰RY(0.647)───────╭C────────────────────│──────────────────╰SWAP──│──────│─────────┤     \n",
      " 7: ──RY(2.68)────────────────────╰IsingYY(0.48)──╭IsingYY(2.6)────╰RY(2.57)──╭C─────────│─────────────────────────╰SWAP──│─────────┤     \n",
      " 8: ──RY(2.63)────────────────────────────────────╰IsingYY(2.6)───────────────╰RY(0.46)──╰C───────────────────────────────╰SWAP─────┤     \n",
      "\n"
     ]
    }
   ],
   "source": [
    "drawer = qml.draw(createCircuit)\n",
    "print(drawer(disc_weights, gen_weights, res, real=False))"
   ]
  },
  {
   "cell_type": "markdown",
   "metadata": {},
   "source": [
    "# Training Functions"
   ]
  },
  {
   "cell_type": "code",
   "execution_count": 106,
   "metadata": {},
   "outputs": [],
   "source": [
    "# Function that produces average measurements from trained generator\n",
    "@qml.qnode(dev)\n",
    "def generate_output(weights):\n",
    "    generator(weights, res)\n",
    "    return [qml.expval(qml.PauliZ(i+res+1)) for i in range(res)]"
   ]
  },
  {
   "cell_type": "code",
   "execution_count": 107,
   "metadata": {},
   "outputs": [],
   "source": [
    "@qml.qnode(dev, interface=\"tf\")\n",
    "def gen_loss():\n",
    "    generator(gen_weights, res)\n",
    "    return gen_cost(qml.expval(qml.PauliZ(0)))\n",
    "\n",
    "def train_step(real_data, hp=None):\n",
    "    global disc_weights, gen_weights\n",
    "    if hp is None:\n",
    "        # R (int) : Disc - Gen train count\n",
    "        hp = {\"R\" : len(encoded_data), \"I\" : len(encoded_data) // 10, \"batch_size\" : 1, \"learning_rate\" : 0.01}\n",
    "    # Discriminator on real data\n",
    "    for i in range(len(real_data)// hp[\"batch_size\"]): \n",
    "        average_grad = np.array([0] * numWeights)\n",
    "        for image in real_data[i*hp[\"batch_size\"]:(i+1)*hp[\"batch_size\"]]:\n",
    "            params = {\"disc_model\" : True, \"real\" : True, \"real_data\" : image}\n",
    "            gradient = calc_gradient(real_disc_cost, params) # Have to find the actual format for gradient to use tf.apply_gradients\n",
    "            average_grad = average_grad + gradient\n",
    "        average_grad /= hp[\"batch_size\"]\n",
    "        \n",
    "        # Apply gradient\n",
    "        disc_weights = disc_weights - hp[\"learning_rate\"]*average_grad\n",
    "    # Discriminator on fake data\n",
    "    for _ in range(hp[\"R\"]):\n",
    "        print(\"Discriminator\")\n",
    "        params = {\"disc_model\" : True, \"real\" : False, \"real_data\" : None}\n",
    "        gradient = calc_gradient(fake_disc_cost, params)\n",
    "        \n",
    "        # Apply gradient\n",
    "        disc_weights = disc_weights - hp[\"learning_rate\"]*gradient\n",
    "        \n",
    "    for _ in range(hp[\"I\"]):\n",
    "        print(\"Generator\")\n",
    "        params = {\"disc_model\" : False, \"real\" : False, \"real_data\" : None}\n",
    "        gradient = calc_gradient(gen_cost, params)\n",
    "        \n",
    "        gen_weights = gen_weights - 2.5*hp[\"learning_rate\"]*gradient\n",
    "        # They use 10 times less t\"raining steps for generator but a 2.5 times higher learning rate.\n",
    "        # Apply gradient\n",
    "    \n",
    "   "
   ]
  },
  {
   "cell_type": "code",
   "execution_count": 108,
   "metadata": {},
   "outputs": [],
   "source": [
    "def train(real_data, epochs=25, hp=None):\n",
    "    for i in range(epochs):\n",
    "        print(\"Epoch {} of {}\".format(i+1, epochs))\n",
    "        train_step(real_data, hp)\n",
    "        # Printing out loss/visualizing examples at certain training steps.\n",
    "        print(\"Cost: {}\".format(gen_cost(createCircuit(disc_weights, gen_weights, res, real=False))))\n",
    "        data = (generate_output(gen_weights, shots=num_shots) + 1) / 2\n",
    "        image = decode(dec, data.reshape(1,-1), scaler)\n",
    "        display_image(image, 1)"
   ]
  },
  {
   "cell_type": "code",
   "execution_count": 76,
   "metadata": {
    "scrolled": false
   },
   "outputs": [
    {
     "name": "stdout",
     "output_type": "stream",
     "text": [
      "Discriminator\n",
      "Discriminator\n",
      "Discriminator\n",
      "Discriminator\n"
     ]
    },
    {
     "ename": "KeyboardInterrupt",
     "evalue": "",
     "output_type": "error",
     "traceback": [
      "\u001b[1;31m---------------------------------------------------------------------------\u001b[0m",
      "\u001b[1;31mKeyboardInterrupt\u001b[0m                         Traceback (most recent call last)",
      "\u001b[1;32m~\\AppData\\Local\\Temp/ipykernel_228/1762512091.py\u001b[0m in \u001b[0;36m<module>\u001b[1;34m\u001b[0m\n\u001b[1;32m----> 1\u001b[1;33m \u001b[0mtrain_step\u001b[0m\u001b[1;33m(\u001b[0m\u001b[0mencoded_data\u001b[0m\u001b[1;33m[\u001b[0m\u001b[1;33m:\u001b[0m\u001b[1;36m10\u001b[0m\u001b[1;33m]\u001b[0m\u001b[1;33m,\u001b[0m \u001b[0mhp\u001b[0m\u001b[1;33m=\u001b[0m\u001b[1;33m{\u001b[0m\u001b[1;34m\"R\"\u001b[0m \u001b[1;33m:\u001b[0m \u001b[1;36m5\u001b[0m\u001b[1;33m,\u001b[0m \u001b[1;34m\"I\"\u001b[0m \u001b[1;33m:\u001b[0m \u001b[1;36m5\u001b[0m\u001b[1;33m,\u001b[0m \u001b[1;34m\"batch_size\"\u001b[0m \u001b[1;33m:\u001b[0m \u001b[1;36m5\u001b[0m\u001b[1;33m,\u001b[0m \u001b[1;34m\"learning_rate\"\u001b[0m \u001b[1;33m:\u001b[0m \u001b[1;36m0.01\u001b[0m\u001b[1;33m}\u001b[0m\u001b[1;33m)\u001b[0m\u001b[1;33m\u001b[0m\u001b[1;33m\u001b[0m\u001b[0m\n\u001b[0m",
      "\u001b[1;32m~\\AppData\\Local\\Temp/ipykernel_228/1609700370.py\u001b[0m in \u001b[0;36mtrain_step\u001b[1;34m(real_data, hp)\u001b[0m\n\u001b[0;32m     24\u001b[0m         \u001b[0mprint\u001b[0m\u001b[1;33m(\u001b[0m\u001b[1;34m\"Discriminator\"\u001b[0m\u001b[1;33m)\u001b[0m\u001b[1;33m\u001b[0m\u001b[1;33m\u001b[0m\u001b[0m\n\u001b[0;32m     25\u001b[0m         \u001b[0mparams\u001b[0m \u001b[1;33m=\u001b[0m \u001b[1;33m{\u001b[0m\u001b[1;34m\"disc_model\"\u001b[0m \u001b[1;33m:\u001b[0m \u001b[1;32mTrue\u001b[0m\u001b[1;33m,\u001b[0m \u001b[1;34m\"real\"\u001b[0m \u001b[1;33m:\u001b[0m \u001b[1;32mFalse\u001b[0m\u001b[1;33m,\u001b[0m \u001b[1;34m\"real_data\"\u001b[0m \u001b[1;33m:\u001b[0m \u001b[1;32mNone\u001b[0m\u001b[1;33m}\u001b[0m\u001b[1;33m\u001b[0m\u001b[1;33m\u001b[0m\u001b[0m\n\u001b[1;32m---> 26\u001b[1;33m         \u001b[0mgradient\u001b[0m \u001b[1;33m=\u001b[0m \u001b[0mcalc_gradient\u001b[0m\u001b[1;33m(\u001b[0m\u001b[0mfake_disc_cost\u001b[0m\u001b[1;33m,\u001b[0m \u001b[0mparams\u001b[0m\u001b[1;33m)\u001b[0m\u001b[1;33m\u001b[0m\u001b[1;33m\u001b[0m\u001b[0m\n\u001b[0m\u001b[0;32m     27\u001b[0m \u001b[1;33m\u001b[0m\u001b[0m\n\u001b[0;32m     28\u001b[0m         \u001b[1;31m# Apply gradient\u001b[0m\u001b[1;33m\u001b[0m\u001b[1;33m\u001b[0m\u001b[0m\n",
      "\u001b[1;32m~\\AppData\\Local\\Temp/ipykernel_228/2684867265.py\u001b[0m in \u001b[0;36mcalc_gradient\u001b[1;34m(cost, params)\u001b[0m\n\u001b[0;32m      2\u001b[0m     \u001b[0mgrad\u001b[0m \u001b[1;33m=\u001b[0m \u001b[1;33m[\u001b[0m\u001b[1;36m0\u001b[0m\u001b[1;33m]\u001b[0m \u001b[1;33m*\u001b[0m \u001b[0mnumWeights\u001b[0m\u001b[1;33m\u001b[0m\u001b[1;33m\u001b[0m\u001b[0m\n\u001b[0;32m      3\u001b[0m     \u001b[1;32mfor\u001b[0m \u001b[0mi\u001b[0m \u001b[1;32min\u001b[0m \u001b[0mrange\u001b[0m\u001b[1;33m(\u001b[0m\u001b[0mnumWeights\u001b[0m\u001b[1;33m)\u001b[0m\u001b[1;33m:\u001b[0m\u001b[1;33m\u001b[0m\u001b[1;33m\u001b[0m\u001b[0m\n\u001b[1;32m----> 4\u001b[1;33m         \u001b[0mgrad\u001b[0m\u001b[1;33m[\u001b[0m\u001b[0mi\u001b[0m\u001b[1;33m]\u001b[0m \u001b[1;33m=\u001b[0m \u001b[0mparameter_shift_term\u001b[0m\u001b[1;33m(\u001b[0m\u001b[0mcost\u001b[0m\u001b[1;33m,\u001b[0m \u001b[0mi\u001b[0m\u001b[1;33m,\u001b[0m \u001b[0mparams\u001b[0m\u001b[1;33m=\u001b[0m\u001b[0mparams\u001b[0m\u001b[1;33m)\u001b[0m\u001b[1;33m\u001b[0m\u001b[1;33m\u001b[0m\u001b[0m\n\u001b[0m\u001b[0;32m      5\u001b[0m     \u001b[1;32mreturn\u001b[0m \u001b[0mnp\u001b[0m\u001b[1;33m.\u001b[0m\u001b[0marray\u001b[0m\u001b[1;33m(\u001b[0m\u001b[0mgrad\u001b[0m\u001b[1;33m)\u001b[0m\u001b[1;33m\u001b[0m\u001b[1;33m\u001b[0m\u001b[0m\n",
      "\u001b[1;32m~\\AppData\\Local\\Temp/ipykernel_228/3927678432.py\u001b[0m in \u001b[0;36mparameter_shift_term\u001b[1;34m(cost, i, params)\u001b[0m\n\u001b[0;32m      7\u001b[0m         \u001b[0mshifted\u001b[0m \u001b[1;33m=\u001b[0m \u001b[0mdisc_weights\u001b[0m\u001b[1;33m.\u001b[0m\u001b[0mnumpy\u001b[0m\u001b[1;33m(\u001b[0m\u001b[1;33m)\u001b[0m\u001b[1;33m.\u001b[0m\u001b[0mcopy\u001b[0m\u001b[1;33m(\u001b[0m\u001b[1;33m)\u001b[0m\u001b[1;33m\u001b[0m\u001b[1;33m\u001b[0m\u001b[0m\n\u001b[0;32m      8\u001b[0m         \u001b[0mshifted\u001b[0m\u001b[1;33m[\u001b[0m\u001b[0mi\u001b[0m\u001b[1;33m]\u001b[0m \u001b[1;33m+=\u001b[0m \u001b[0mnp\u001b[0m\u001b[1;33m.\u001b[0m\u001b[0mpi\u001b[0m\u001b[1;33m/\u001b[0m\u001b[1;36m2\u001b[0m\u001b[1;33m\u001b[0m\u001b[1;33m\u001b[0m\u001b[0m\n\u001b[1;32m----> 9\u001b[1;33m         \u001b[0mexp\u001b[0m \u001b[1;33m=\u001b[0m \u001b[0mcreateCircuit\u001b[0m\u001b[1;33m(\u001b[0m\u001b[0mshifted\u001b[0m\u001b[1;33m,\u001b[0m \u001b[0mgen_weights\u001b[0m\u001b[1;33m,\u001b[0m \u001b[0mres\u001b[0m\u001b[1;33m,\u001b[0m \u001b[0mreal\u001b[0m\u001b[1;33m=\u001b[0m\u001b[0mparams\u001b[0m\u001b[1;33m[\u001b[0m\u001b[1;34m\"real\"\u001b[0m\u001b[1;33m]\u001b[0m\u001b[1;33m,\u001b[0m \u001b[0mreal_data\u001b[0m\u001b[1;33m=\u001b[0m\u001b[0mparams\u001b[0m\u001b[1;33m[\u001b[0m\u001b[1;34m\"real_data\"\u001b[0m\u001b[1;33m]\u001b[0m\u001b[1;33m)\u001b[0m\u001b[1;33m\u001b[0m\u001b[1;33m\u001b[0m\u001b[0m\n\u001b[0m\u001b[0;32m     10\u001b[0m     \u001b[1;32melse\u001b[0m\u001b[1;33m:\u001b[0m\u001b[1;33m\u001b[0m\u001b[1;33m\u001b[0m\u001b[0m\n\u001b[0;32m     11\u001b[0m         \u001b[0mshifted\u001b[0m \u001b[1;33m=\u001b[0m \u001b[0mgen_weights\u001b[0m\u001b[1;33m.\u001b[0m\u001b[0mnumpy\u001b[0m\u001b[1;33m(\u001b[0m\u001b[1;33m)\u001b[0m\u001b[1;33m.\u001b[0m\u001b[0mcopy\u001b[0m\u001b[1;33m(\u001b[0m\u001b[1;33m)\u001b[0m\u001b[1;33m\u001b[0m\u001b[1;33m\u001b[0m\u001b[0m\n",
      "\u001b[1;32m~\\Miniconda3\\envs\\qgan\\lib\\site-packages\\pennylane\\qnode.py\u001b[0m in \u001b[0;36m__call__\u001b[1;34m(self, *args, **kwargs)\u001b[0m\n\u001b[0;32m    558\u001b[0m         \u001b[0mself\u001b[0m\u001b[1;33m.\u001b[0m\u001b[0m_tape_cached\u001b[0m \u001b[1;33m=\u001b[0m \u001b[0musing_custom_cache\u001b[0m \u001b[1;32mand\u001b[0m \u001b[0mself\u001b[0m\u001b[1;33m.\u001b[0m\u001b[0mtape\u001b[0m\u001b[1;33m.\u001b[0m\u001b[0mhash\u001b[0m \u001b[1;32min\u001b[0m \u001b[0mcache\u001b[0m\u001b[1;33m\u001b[0m\u001b[1;33m\u001b[0m\u001b[0m\n\u001b[0;32m    559\u001b[0m \u001b[1;33m\u001b[0m\u001b[0m\n\u001b[1;32m--> 560\u001b[1;33m         res = qml.execute(\n\u001b[0m\u001b[0;32m    561\u001b[0m             \u001b[1;33m[\u001b[0m\u001b[0mself\u001b[0m\u001b[1;33m.\u001b[0m\u001b[0mtape\u001b[0m\u001b[1;33m]\u001b[0m\u001b[1;33m,\u001b[0m\u001b[1;33m\u001b[0m\u001b[1;33m\u001b[0m\u001b[0m\n\u001b[0;32m    562\u001b[0m             \u001b[0mdevice\u001b[0m\u001b[1;33m=\u001b[0m\u001b[0mself\u001b[0m\u001b[1;33m.\u001b[0m\u001b[0mdevice\u001b[0m\u001b[1;33m,\u001b[0m\u001b[1;33m\u001b[0m\u001b[1;33m\u001b[0m\u001b[0m\n",
      "\u001b[1;32m~\\Miniconda3\\envs\\qgan\\lib\\site-packages\\pennylane\\interfaces\\batch\\__init__.py\u001b[0m in \u001b[0;36mexecute\u001b[1;34m(tapes, device, gradient_fn, interface, mode, gradient_kwargs, cache, cachesize, max_diff, override_shots, expand_fn, max_expansion, device_batch_transform)\u001b[0m\n\u001b[0;32m    410\u001b[0m         ) from e\n\u001b[0;32m    411\u001b[0m \u001b[1;33m\u001b[0m\u001b[0m\n\u001b[1;32m--> 412\u001b[1;33m     res = _execute(\n\u001b[0m\u001b[0;32m    413\u001b[0m         \u001b[0mtapes\u001b[0m\u001b[1;33m,\u001b[0m \u001b[0mdevice\u001b[0m\u001b[1;33m,\u001b[0m \u001b[0mexecute_fn\u001b[0m\u001b[1;33m,\u001b[0m \u001b[0mgradient_fn\u001b[0m\u001b[1;33m,\u001b[0m \u001b[0mgradient_kwargs\u001b[0m\u001b[1;33m,\u001b[0m \u001b[0m_n\u001b[0m\u001b[1;33m=\u001b[0m\u001b[1;36m1\u001b[0m\u001b[1;33m,\u001b[0m \u001b[0mmax_diff\u001b[0m\u001b[1;33m=\u001b[0m\u001b[0mmax_diff\u001b[0m\u001b[1;33m,\u001b[0m \u001b[0mmode\u001b[0m\u001b[1;33m=\u001b[0m\u001b[0m_mode\u001b[0m\u001b[1;33m\u001b[0m\u001b[1;33m\u001b[0m\u001b[0m\n\u001b[0;32m    414\u001b[0m     )\n",
      "\u001b[1;32m~\\Miniconda3\\envs\\qgan\\lib\\site-packages\\pennylane\\interfaces\\batch\\tensorflow.py\u001b[0m in \u001b[0;36mexecute\u001b[1;34m(tapes, device, execute_fn, gradient_fn, gradient_kwargs, _n, max_diff, mode)\u001b[0m\n\u001b[0;32m     87\u001b[0m     \u001b[1;32mwith\u001b[0m \u001b[0mqml\u001b[0m\u001b[1;33m.\u001b[0m\u001b[0mtape\u001b[0m\u001b[1;33m.\u001b[0m\u001b[0mUnwrap\u001b[0m\u001b[1;33m(\u001b[0m\u001b[1;33m*\u001b[0m\u001b[0mtapes\u001b[0m\u001b[1;33m)\u001b[0m\u001b[1;33m:\u001b[0m\u001b[1;33m\u001b[0m\u001b[1;33m\u001b[0m\u001b[0m\n\u001b[0;32m     88\u001b[0m         \u001b[1;31m# Forward pass: execute the tapes\u001b[0m\u001b[1;33m\u001b[0m\u001b[1;33m\u001b[0m\u001b[0m\n\u001b[1;32m---> 89\u001b[1;33m         \u001b[0mres\u001b[0m\u001b[1;33m,\u001b[0m \u001b[0mjacs\u001b[0m \u001b[1;33m=\u001b[0m \u001b[0mexecute_fn\u001b[0m\u001b[1;33m(\u001b[0m\u001b[0mtapes\u001b[0m\u001b[1;33m,\u001b[0m \u001b[1;33m**\u001b[0m\u001b[0mgradient_kwargs\u001b[0m\u001b[1;33m)\u001b[0m\u001b[1;33m\u001b[0m\u001b[1;33m\u001b[0m\u001b[0m\n\u001b[0m\u001b[0;32m     90\u001b[0m \u001b[1;33m\u001b[0m\u001b[0m\n\u001b[0;32m     91\u001b[0m     \u001b[1;32mfor\u001b[0m \u001b[0mi\u001b[0m\u001b[1;33m,\u001b[0m \u001b[0mtape\u001b[0m \u001b[1;32min\u001b[0m \u001b[0menumerate\u001b[0m\u001b[1;33m(\u001b[0m\u001b[0mtapes\u001b[0m\u001b[1;33m)\u001b[0m\u001b[1;33m:\u001b[0m\u001b[1;33m\u001b[0m\u001b[1;33m\u001b[0m\u001b[0m\n",
      "\u001b[1;32m~\\Miniconda3\\envs\\qgan\\lib\\site-packages\\pennylane\\interfaces\\batch\\__init__.py\u001b[0m in \u001b[0;36mwrapper\u001b[1;34m(tapes, **kwargs)\u001b[0m\n\u001b[0;32m    171\u001b[0m         \u001b[1;32melse\u001b[0m\u001b[1;33m:\u001b[0m\u001b[1;33m\u001b[0m\u001b[1;33m\u001b[0m\u001b[0m\n\u001b[0;32m    172\u001b[0m             \u001b[1;31m# execute all unique tapes that do not exist in the cache\u001b[0m\u001b[1;33m\u001b[0m\u001b[1;33m\u001b[0m\u001b[0m\n\u001b[1;32m--> 173\u001b[1;33m             \u001b[0mres\u001b[0m \u001b[1;33m=\u001b[0m \u001b[0mfn\u001b[0m\u001b[1;33m(\u001b[0m\u001b[0mexecution_tapes\u001b[0m\u001b[1;33m.\u001b[0m\u001b[0mvalues\u001b[0m\u001b[1;33m(\u001b[0m\u001b[1;33m)\u001b[0m\u001b[1;33m,\u001b[0m \u001b[1;33m**\u001b[0m\u001b[0mkwargs\u001b[0m\u001b[1;33m)\u001b[0m\u001b[1;33m\u001b[0m\u001b[1;33m\u001b[0m\u001b[0m\n\u001b[0m\u001b[0;32m    174\u001b[0m \u001b[1;33m\u001b[0m\u001b[0m\n\u001b[0;32m    175\u001b[0m         \u001b[0mfinal_res\u001b[0m \u001b[1;33m=\u001b[0m \u001b[1;33m[\u001b[0m\u001b[1;33m]\u001b[0m\u001b[1;33m\u001b[0m\u001b[1;33m\u001b[0m\u001b[0m\n",
      "\u001b[1;32m~\\Miniconda3\\envs\\qgan\\lib\\site-packages\\pennylane\\interfaces\\batch\\__init__.py\u001b[0m in \u001b[0;36mfn\u001b[1;34m(tapes, **kwargs)\u001b[0m\n\u001b[0;32m    123\u001b[0m         \u001b[1;32mdef\u001b[0m \u001b[0mfn\u001b[0m\u001b[1;33m(\u001b[0m\u001b[0mtapes\u001b[0m\u001b[1;33m,\u001b[0m \u001b[1;33m**\u001b[0m\u001b[0mkwargs\u001b[0m\u001b[1;33m)\u001b[0m\u001b[1;33m:\u001b[0m  \u001b[1;31m# pylint: disable=function-redefined\u001b[0m\u001b[1;33m\u001b[0m\u001b[1;33m\u001b[0m\u001b[0m\n\u001b[0;32m    124\u001b[0m             \u001b[0mtapes\u001b[0m \u001b[1;33m=\u001b[0m \u001b[1;33m[\u001b[0m\u001b[0mexpand_fn\u001b[0m\u001b[1;33m(\u001b[0m\u001b[0mtape\u001b[0m\u001b[1;33m)\u001b[0m \u001b[1;32mfor\u001b[0m \u001b[0mtape\u001b[0m \u001b[1;32min\u001b[0m \u001b[0mtapes\u001b[0m\u001b[1;33m]\u001b[0m\u001b[1;33m\u001b[0m\u001b[1;33m\u001b[0m\u001b[0m\n\u001b[1;32m--> 125\u001b[1;33m             \u001b[1;32mreturn\u001b[0m \u001b[0moriginal_fn\u001b[0m\u001b[1;33m(\u001b[0m\u001b[0mtapes\u001b[0m\u001b[1;33m,\u001b[0m \u001b[1;33m**\u001b[0m\u001b[0mkwargs\u001b[0m\u001b[1;33m)\u001b[0m\u001b[1;33m\u001b[0m\u001b[1;33m\u001b[0m\u001b[0m\n\u001b[0m\u001b[0;32m    126\u001b[0m \u001b[1;33m\u001b[0m\u001b[0m\n\u001b[0;32m    127\u001b[0m     \u001b[1;33m@\u001b[0m\u001b[0mwraps\u001b[0m\u001b[1;33m(\u001b[0m\u001b[0mfn\u001b[0m\u001b[1;33m)\u001b[0m\u001b[1;33m\u001b[0m\u001b[1;33m\u001b[0m\u001b[0m\n",
      "\u001b[1;32m~\\Miniconda3\\envs\\qgan\\lib\\contextlib.py\u001b[0m in \u001b[0;36minner\u001b[1;34m(*args, **kwds)\u001b[0m\n\u001b[0;32m     77\u001b[0m         \u001b[1;32mdef\u001b[0m \u001b[0minner\u001b[0m\u001b[1;33m(\u001b[0m\u001b[1;33m*\u001b[0m\u001b[0margs\u001b[0m\u001b[1;33m,\u001b[0m \u001b[1;33m**\u001b[0m\u001b[0mkwds\u001b[0m\u001b[1;33m)\u001b[0m\u001b[1;33m:\u001b[0m\u001b[1;33m\u001b[0m\u001b[1;33m\u001b[0m\u001b[0m\n\u001b[0;32m     78\u001b[0m             \u001b[1;32mwith\u001b[0m \u001b[0mself\u001b[0m\u001b[1;33m.\u001b[0m\u001b[0m_recreate_cm\u001b[0m\u001b[1;33m(\u001b[0m\u001b[1;33m)\u001b[0m\u001b[1;33m:\u001b[0m\u001b[1;33m\u001b[0m\u001b[1;33m\u001b[0m\u001b[0m\n\u001b[1;32m---> 79\u001b[1;33m                 \u001b[1;32mreturn\u001b[0m \u001b[0mfunc\u001b[0m\u001b[1;33m(\u001b[0m\u001b[1;33m*\u001b[0m\u001b[0margs\u001b[0m\u001b[1;33m,\u001b[0m \u001b[1;33m**\u001b[0m\u001b[0mkwds\u001b[0m\u001b[1;33m)\u001b[0m\u001b[1;33m\u001b[0m\u001b[1;33m\u001b[0m\u001b[0m\n\u001b[0m\u001b[0;32m     80\u001b[0m         \u001b[1;32mreturn\u001b[0m \u001b[0minner\u001b[0m\u001b[1;33m\u001b[0m\u001b[1;33m\u001b[0m\u001b[0m\n\u001b[0;32m     81\u001b[0m \u001b[1;33m\u001b[0m\u001b[0m\n",
      "\u001b[1;32m~\\Miniconda3\\envs\\qgan\\lib\\site-packages\\pennylane\\_qubit_device.py\u001b[0m in \u001b[0;36mbatch_execute\u001b[1;34m(self, circuits)\u001b[0m\n\u001b[0;32m    287\u001b[0m             \u001b[0mself\u001b[0m\u001b[1;33m.\u001b[0m\u001b[0mreset\u001b[0m\u001b[1;33m(\u001b[0m\u001b[1;33m)\u001b[0m\u001b[1;33m\u001b[0m\u001b[1;33m\u001b[0m\u001b[0m\n\u001b[0;32m    288\u001b[0m \u001b[1;33m\u001b[0m\u001b[0m\n\u001b[1;32m--> 289\u001b[1;33m             \u001b[0mres\u001b[0m \u001b[1;33m=\u001b[0m \u001b[0mself\u001b[0m\u001b[1;33m.\u001b[0m\u001b[0mexecute\u001b[0m\u001b[1;33m(\u001b[0m\u001b[0mcircuit\u001b[0m\u001b[1;33m)\u001b[0m\u001b[1;33m\u001b[0m\u001b[1;33m\u001b[0m\u001b[0m\n\u001b[0m\u001b[0;32m    290\u001b[0m             \u001b[0mresults\u001b[0m\u001b[1;33m.\u001b[0m\u001b[0mappend\u001b[0m\u001b[1;33m(\u001b[0m\u001b[0mres\u001b[0m\u001b[1;33m)\u001b[0m\u001b[1;33m\u001b[0m\u001b[1;33m\u001b[0m\u001b[0m\n\u001b[0;32m    291\u001b[0m \u001b[1;33m\u001b[0m\u001b[0m\n",
      "\u001b[1;32m~\\Miniconda3\\envs\\qgan\\lib\\site-packages\\pennylane\\_qubit_device.py\u001b[0m in \u001b[0;36mexecute\u001b[1;34m(self, circuit, **kwargs)\u001b[0m\n\u001b[0;32m    236\u001b[0m \u001b[1;33m\u001b[0m\u001b[0m\n\u001b[0;32m    237\u001b[0m         \u001b[1;32melse\u001b[0m\u001b[1;33m:\u001b[0m\u001b[1;33m\u001b[0m\u001b[1;33m\u001b[0m\u001b[0m\n\u001b[1;32m--> 238\u001b[1;33m             \u001b[0mresults\u001b[0m \u001b[1;33m=\u001b[0m \u001b[0mself\u001b[0m\u001b[1;33m.\u001b[0m\u001b[0mstatistics\u001b[0m\u001b[1;33m(\u001b[0m\u001b[0mcircuit\u001b[0m\u001b[1;33m.\u001b[0m\u001b[0mobservables\u001b[0m\u001b[1;33m)\u001b[0m\u001b[1;33m\u001b[0m\u001b[1;33m\u001b[0m\u001b[0m\n\u001b[0m\u001b[0;32m    239\u001b[0m \u001b[1;33m\u001b[0m\u001b[0m\n\u001b[0;32m    240\u001b[0m         \u001b[1;32mif\u001b[0m \u001b[1;33m(\u001b[0m\u001b[0mcircuit\u001b[0m\u001b[1;33m.\u001b[0m\u001b[0mall_sampled\u001b[0m \u001b[1;32mor\u001b[0m \u001b[1;32mnot\u001b[0m \u001b[0mcircuit\u001b[0m\u001b[1;33m.\u001b[0m\u001b[0mis_sampled\u001b[0m\u001b[1;33m)\u001b[0m \u001b[1;32mand\u001b[0m \u001b[1;32mnot\u001b[0m \u001b[0mmultiple_sampled_jobs\u001b[0m\u001b[1;33m:\u001b[0m\u001b[1;33m\u001b[0m\u001b[1;33m\u001b[0m\u001b[0m\n",
      "\u001b[1;32m~\\Miniconda3\\envs\\qgan\\lib\\site-packages\\pennylane\\_qubit_device.py\u001b[0m in \u001b[0;36mstatistics\u001b[1;34m(self, observables, shot_range, bin_size)\u001b[0m\n\u001b[0;32m    403\u001b[0m             \u001b[1;31m# Pass instances directly\u001b[0m\u001b[1;33m\u001b[0m\u001b[1;33m\u001b[0m\u001b[0m\n\u001b[0;32m    404\u001b[0m             \u001b[1;32mif\u001b[0m \u001b[0mobs\u001b[0m\u001b[1;33m.\u001b[0m\u001b[0mreturn_type\u001b[0m \u001b[1;32mis\u001b[0m \u001b[0mExpectation\u001b[0m\u001b[1;33m:\u001b[0m\u001b[1;33m\u001b[0m\u001b[1;33m\u001b[0m\u001b[0m\n\u001b[1;32m--> 405\u001b[1;33m                 \u001b[0mresults\u001b[0m\u001b[1;33m.\u001b[0m\u001b[0mappend\u001b[0m\u001b[1;33m(\u001b[0m\u001b[0mself\u001b[0m\u001b[1;33m.\u001b[0m\u001b[0mexpval\u001b[0m\u001b[1;33m(\u001b[0m\u001b[0mobs\u001b[0m\u001b[1;33m,\u001b[0m \u001b[0mshot_range\u001b[0m\u001b[1;33m=\u001b[0m\u001b[0mshot_range\u001b[0m\u001b[1;33m,\u001b[0m \u001b[0mbin_size\u001b[0m\u001b[1;33m=\u001b[0m\u001b[0mbin_size\u001b[0m\u001b[1;33m)\u001b[0m\u001b[1;33m)\u001b[0m\u001b[1;33m\u001b[0m\u001b[1;33m\u001b[0m\u001b[0m\n\u001b[0m\u001b[0;32m    406\u001b[0m \u001b[1;33m\u001b[0m\u001b[0m\n\u001b[0;32m    407\u001b[0m             \u001b[1;32melif\u001b[0m \u001b[0mobs\u001b[0m\u001b[1;33m.\u001b[0m\u001b[0mreturn_type\u001b[0m \u001b[1;32mis\u001b[0m \u001b[0mVariance\u001b[0m\u001b[1;33m:\u001b[0m\u001b[1;33m\u001b[0m\u001b[1;33m\u001b[0m\u001b[0m\n",
      "\u001b[1;32m~\\Miniconda3\\envs\\qgan\\lib\\site-packages\\pennylane_cirq\\simulator_device.py\u001b[0m in \u001b[0;36mexpval\u001b[1;34m(self, observable, shot_range, bin_size)\u001b[0m\n\u001b[0;32m    252\u001b[0m                     \u001b[0mobs\u001b[0m \u001b[1;33m=\u001b[0m \u001b[0mcirq\u001b[0m\u001b[1;33m.\u001b[0m\u001b[0mPauliSum\u001b[0m\u001b[1;33m(\u001b[0m\u001b[1;33m)\u001b[0m \u001b[1;33m+\u001b[0m \u001b[0mself\u001b[0m\u001b[1;33m.\u001b[0m\u001b[0mto_paulistring\u001b[0m\u001b[1;33m(\u001b[0m\u001b[0mobservable\u001b[0m\u001b[1;33m)\u001b[0m\u001b[1;33m\u001b[0m\u001b[1;33m\u001b[0m\u001b[0m\n\u001b[0;32m    253\u001b[0m \u001b[1;33m\u001b[0m\u001b[0m\n\u001b[1;32m--> 254\u001b[1;33m             return self._simulator.simulate_expectation_values(\n\u001b[0m\u001b[0;32m    255\u001b[0m                 \u001b[0mprogram\u001b[0m\u001b[1;33m=\u001b[0m\u001b[0mcircuit\u001b[0m\u001b[1;33m,\u001b[0m\u001b[1;33m\u001b[0m\u001b[1;33m\u001b[0m\u001b[0m\n\u001b[0;32m    256\u001b[0m                 \u001b[0mobservables\u001b[0m\u001b[1;33m=\u001b[0m\u001b[0mobs\u001b[0m\u001b[1;33m,\u001b[0m\u001b[1;33m\u001b[0m\u001b[1;33m\u001b[0m\u001b[0m\n",
      "\u001b[1;32m~\\Miniconda3\\envs\\qgan\\lib\\site-packages\\cirq\\sim\\simulator.py\u001b[0m in \u001b[0;36msimulate_expectation_values\u001b[1;34m(self, program, observables, param_resolver, qubit_order, initial_state, permit_terminal_measurements)\u001b[0m\n\u001b[0;32m    287\u001b[0m             \u001b[1;34m'permit_terminal_measurements'\u001b[0m \u001b[1;32mis\u001b[0m \u001b[1;32mFalse\u001b[0m\u001b[1;33m.\u001b[0m\u001b[1;33m\u001b[0m\u001b[1;33m\u001b[0m\u001b[0m\n\u001b[0;32m    288\u001b[0m         \"\"\"\n\u001b[1;32m--> 289\u001b[1;33m         return self.simulate_expectation_values_sweep(\n\u001b[0m\u001b[0;32m    290\u001b[0m             \u001b[0mprogram\u001b[0m\u001b[1;33m,\u001b[0m\u001b[1;33m\u001b[0m\u001b[1;33m\u001b[0m\u001b[0m\n\u001b[0;32m    291\u001b[0m             \u001b[0mobservables\u001b[0m\u001b[1;33m,\u001b[0m\u001b[1;33m\u001b[0m\u001b[1;33m\u001b[0m\u001b[0m\n",
      "\u001b[1;32m~\\Miniconda3\\envs\\qgan\\lib\\site-packages\\cirq\\sim\\simulator.py\u001b[0m in \u001b[0;36msimulate_expectation_values_sweep\u001b[1;34m(self, program, observables, params, qubit_order, initial_state, permit_terminal_measurements)\u001b[0m\n\u001b[0;32m    309\u001b[0m         \u001b[0mPrefer\u001b[0m \u001b[0moverriding\u001b[0m\u001b[0;31m \u001b[0m\u001b[0;31m`\u001b[0m\u001b[0msimulate_expectation_values_sweep_iter\u001b[0m\u001b[0;31m`\u001b[0m\u001b[1;33m.\u001b[0m\u001b[1;33m\u001b[0m\u001b[1;33m\u001b[0m\u001b[0m\n\u001b[0;32m    310\u001b[0m         \"\"\"\n\u001b[1;32m--> 311\u001b[1;33m         return list(\n\u001b[0m\u001b[0;32m    312\u001b[0m             self.simulate_expectation_values_sweep_iter(\n\u001b[0;32m    313\u001b[0m                 \u001b[0mprogram\u001b[0m\u001b[1;33m,\u001b[0m\u001b[1;33m\u001b[0m\u001b[1;33m\u001b[0m\u001b[0m\n",
      "\u001b[1;32m~\\Miniconda3\\envs\\qgan\\lib\\site-packages\\cirq\\sim\\sparse_simulator.py\u001b[0m in \u001b[0;36msimulate_expectation_values_sweep_iter\u001b[1;34m(self, program, observables, params, qubit_order, initial_state, permit_terminal_measurements)\u001b[0m\n\u001b[0;32m    238\u001b[0m             \u001b[0mobservables\u001b[0m \u001b[1;33m=\u001b[0m \u001b[1;33m[\u001b[0m\u001b[0mobservables\u001b[0m\u001b[1;33m]\u001b[0m\u001b[1;33m\u001b[0m\u001b[1;33m\u001b[0m\u001b[0m\n\u001b[0;32m    239\u001b[0m         \u001b[0mpslist\u001b[0m \u001b[1;33m=\u001b[0m \u001b[1;33m[\u001b[0m\u001b[0mops\u001b[0m\u001b[1;33m.\u001b[0m\u001b[0mPauliSum\u001b[0m\u001b[1;33m.\u001b[0m\u001b[0mwrap\u001b[0m\u001b[1;33m(\u001b[0m\u001b[0mpslike\u001b[0m\u001b[1;33m)\u001b[0m \u001b[1;32mfor\u001b[0m \u001b[0mpslike\u001b[0m \u001b[1;32min\u001b[0m \u001b[0mobservables\u001b[0m\u001b[1;33m]\u001b[0m\u001b[1;33m\u001b[0m\u001b[1;33m\u001b[0m\u001b[0m\n\u001b[1;32m--> 240\u001b[1;33m         yield from (\n\u001b[0m\u001b[0;32m    241\u001b[0m             \u001b[1;33m[\u001b[0m\u001b[0mobs\u001b[0m\u001b[1;33m.\u001b[0m\u001b[0mexpectation_from_state_vector\u001b[0m\u001b[1;33m(\u001b[0m\u001b[0mresult\u001b[0m\u001b[1;33m.\u001b[0m\u001b[0mfinal_state_vector\u001b[0m\u001b[1;33m,\u001b[0m \u001b[0mqmap\u001b[0m\u001b[1;33m)\u001b[0m \u001b[1;32mfor\u001b[0m \u001b[0mobs\u001b[0m \u001b[1;32min\u001b[0m \u001b[0mpslist\u001b[0m\u001b[1;33m]\u001b[0m\u001b[1;33m\u001b[0m\u001b[1;33m\u001b[0m\u001b[0m\n\u001b[0;32m    242\u001b[0m             for result in self.simulate_sweep_iter(\n",
      "\u001b[1;32m~\\Miniconda3\\envs\\qgan\\lib\\site-packages\\cirq\\sim\\sparse_simulator.py\u001b[0m in \u001b[0;36m<genexpr>\u001b[1;34m(.0)\u001b[0m\n\u001b[0;32m    238\u001b[0m             \u001b[0mobservables\u001b[0m \u001b[1;33m=\u001b[0m \u001b[1;33m[\u001b[0m\u001b[0mobservables\u001b[0m\u001b[1;33m]\u001b[0m\u001b[1;33m\u001b[0m\u001b[1;33m\u001b[0m\u001b[0m\n\u001b[0;32m    239\u001b[0m         \u001b[0mpslist\u001b[0m \u001b[1;33m=\u001b[0m \u001b[1;33m[\u001b[0m\u001b[0mops\u001b[0m\u001b[1;33m.\u001b[0m\u001b[0mPauliSum\u001b[0m\u001b[1;33m.\u001b[0m\u001b[0mwrap\u001b[0m\u001b[1;33m(\u001b[0m\u001b[0mpslike\u001b[0m\u001b[1;33m)\u001b[0m \u001b[1;32mfor\u001b[0m \u001b[0mpslike\u001b[0m \u001b[1;32min\u001b[0m \u001b[0mobservables\u001b[0m\u001b[1;33m]\u001b[0m\u001b[1;33m\u001b[0m\u001b[1;33m\u001b[0m\u001b[0m\n\u001b[1;32m--> 240\u001b[1;33m         yield from (\n\u001b[0m\u001b[0;32m    241\u001b[0m             \u001b[1;33m[\u001b[0m\u001b[0mobs\u001b[0m\u001b[1;33m.\u001b[0m\u001b[0mexpectation_from_state_vector\u001b[0m\u001b[1;33m(\u001b[0m\u001b[0mresult\u001b[0m\u001b[1;33m.\u001b[0m\u001b[0mfinal_state_vector\u001b[0m\u001b[1;33m,\u001b[0m \u001b[0mqmap\u001b[0m\u001b[1;33m)\u001b[0m \u001b[1;32mfor\u001b[0m \u001b[0mobs\u001b[0m \u001b[1;32min\u001b[0m \u001b[0mpslist\u001b[0m\u001b[1;33m]\u001b[0m\u001b[1;33m\u001b[0m\u001b[1;33m\u001b[0m\u001b[0m\n\u001b[0;32m    242\u001b[0m             for result in self.simulate_sweep_iter(\n",
      "\u001b[1;32m~\\Miniconda3\\envs\\qgan\\lib\\site-packages\\cirq\\sim\\simulator.py\u001b[0m in \u001b[0;36msimulate_sweep_iter\u001b[1;34m(self, program, params, qubit_order, initial_state)\u001b[0m\n\u001b[0;32m    543\u001b[0m             )\n\u001b[0;32m    544\u001b[0m             \u001b[0mmeasurements\u001b[0m \u001b[1;33m=\u001b[0m \u001b[1;33m{\u001b[0m\u001b[1;33m}\u001b[0m  \u001b[1;31m# type: Dict[str, np.ndarray]\u001b[0m\u001b[1;33m\u001b[0m\u001b[1;33m\u001b[0m\u001b[0m\n\u001b[1;32m--> 545\u001b[1;33m             \u001b[1;32mfor\u001b[0m \u001b[0mstep_result\u001b[0m \u001b[1;32min\u001b[0m \u001b[0mall_step_results\u001b[0m\u001b[1;33m:\u001b[0m\u001b[1;33m\u001b[0m\u001b[1;33m\u001b[0m\u001b[0m\n\u001b[0m\u001b[0;32m    546\u001b[0m                 \u001b[1;32mfor\u001b[0m \u001b[0mk\u001b[0m\u001b[1;33m,\u001b[0m \u001b[0mv\u001b[0m \u001b[1;32min\u001b[0m \u001b[0mstep_result\u001b[0m\u001b[1;33m.\u001b[0m\u001b[0mmeasurements\u001b[0m\u001b[1;33m.\u001b[0m\u001b[0mitems\u001b[0m\u001b[1;33m(\u001b[0m\u001b[1;33m)\u001b[0m\u001b[1;33m:\u001b[0m\u001b[1;33m\u001b[0m\u001b[1;33m\u001b[0m\u001b[0m\n\u001b[0;32m    547\u001b[0m                     \u001b[0mmeasurements\u001b[0m\u001b[1;33m[\u001b[0m\u001b[0mk\u001b[0m\u001b[1;33m]\u001b[0m \u001b[1;33m=\u001b[0m \u001b[0mnp\u001b[0m\u001b[1;33m.\u001b[0m\u001b[0marray\u001b[0m\u001b[1;33m(\u001b[0m\u001b[0mv\u001b[0m\u001b[1;33m,\u001b[0m \u001b[0mdtype\u001b[0m\u001b[1;33m=\u001b[0m\u001b[0mnp\u001b[0m\u001b[1;33m.\u001b[0m\u001b[0muint8\u001b[0m\u001b[1;33m)\u001b[0m\u001b[1;33m\u001b[0m\u001b[1;33m\u001b[0m\u001b[0m\n",
      "\u001b[1;32m~\\Miniconda3\\envs\\qgan\\lib\\site-packages\\cirq\\sim\\simulator_base.py\u001b[0m in \u001b[0;36m_core_iterator\u001b[1;34m(self, circuit, sim_state, all_measurements_are_terminal)\u001b[0m\n\u001b[0;32m    223\u001b[0m                     \u001b[1;32mraise\u001b[0m \u001b[0mTypeError\u001b[0m\u001b[1;33m(\u001b[0m\u001b[1;34mf\"{self.__class__.__name__} doesn't support {op!r}\"\u001b[0m\u001b[1;33m)\u001b[0m\u001b[1;33m\u001b[0m\u001b[1;33m\u001b[0m\u001b[0m\n\u001b[0;32m    224\u001b[0m \u001b[1;33m\u001b[0m\u001b[0m\n\u001b[1;32m--> 225\u001b[1;33m             \u001b[0mstep_result\u001b[0m \u001b[1;33m=\u001b[0m \u001b[0mself\u001b[0m\u001b[1;33m.\u001b[0m\u001b[0m_create_step_result\u001b[0m\u001b[1;33m(\u001b[0m\u001b[0msim_state\u001b[0m\u001b[1;33m)\u001b[0m\u001b[1;33m\u001b[0m\u001b[1;33m\u001b[0m\u001b[0m\n\u001b[0m\u001b[0;32m    226\u001b[0m             \u001b[1;32myield\u001b[0m \u001b[0mstep_result\u001b[0m\u001b[1;33m\u001b[0m\u001b[1;33m\u001b[0m\u001b[0m\n\u001b[0;32m    227\u001b[0m             \u001b[0msim_state\u001b[0m \u001b[1;33m=\u001b[0m \u001b[0mstep_result\u001b[0m\u001b[1;33m.\u001b[0m\u001b[0m_sim_state\u001b[0m\u001b[1;33m\u001b[0m\u001b[1;33m\u001b[0m\u001b[0m\n",
      "\u001b[1;32m~\\Miniconda3\\envs\\qgan\\lib\\site-packages\\cirq\\sim\\sparse_simulator.py\u001b[0m in \u001b[0;36m_create_step_result\u001b[1;34m(self, sim_state)\u001b[0m\n\u001b[0;32m    212\u001b[0m         \u001b[0msim_state\u001b[0m\u001b[1;33m:\u001b[0m \u001b[1;34m'cirq.OperationTarget[cirq.ActOnStateVectorArgs]'\u001b[0m\u001b[1;33m,\u001b[0m\u001b[1;33m\u001b[0m\u001b[1;33m\u001b[0m\u001b[0m\n\u001b[0;32m    213\u001b[0m     ):\n\u001b[1;32m--> 214\u001b[1;33m         return SparseSimulatorStep(\n\u001b[0m\u001b[0;32m    215\u001b[0m             \u001b[0msim_state\u001b[0m\u001b[1;33m=\u001b[0m\u001b[0msim_state\u001b[0m\u001b[1;33m,\u001b[0m\u001b[1;33m\u001b[0m\u001b[1;33m\u001b[0m\u001b[0m\n\u001b[0;32m    216\u001b[0m             \u001b[0msimulator\u001b[0m\u001b[1;33m=\u001b[0m\u001b[0mself\u001b[0m\u001b[1;33m,\u001b[0m\u001b[1;33m\u001b[0m\u001b[1;33m\u001b[0m\u001b[0m\n",
      "\u001b[1;32m~\\Miniconda3\\envs\\qgan\\lib\\site-packages\\cirq\\sim\\sparse_simulator.py\u001b[0m in \u001b[0;36m__init__\u001b[1;34m(self, sim_state, simulator, dtype)\u001b[0m\n\u001b[0;32m    266\u001b[0m                 \u001b[0;31m`\u001b[0m\u001b[0mnumpy\u001b[0m\u001b[1;33m.\u001b[0m\u001b[0mcomplex64\u001b[0m\u001b[0;31m`\u001b[0m \u001b[1;32mor\u001b[0m\u001b[0;31m \u001b[0m\u001b[0;31m`\u001b[0m\u001b[0mnumpy\u001b[0m\u001b[1;33m.\u001b[0m\u001b[0mcomplex128\u001b[0m\u001b[0;31m`\u001b[0m\u001b[1;33m.\u001b[0m\u001b[1;33m\u001b[0m\u001b[1;33m\u001b[0m\u001b[0m\n\u001b[0;32m    267\u001b[0m         \"\"\"\n\u001b[1;32m--> 268\u001b[1;33m         \u001b[0mqubit_map\u001b[0m \u001b[1;33m=\u001b[0m \u001b[1;33m{\u001b[0m\u001b[0mq\u001b[0m\u001b[1;33m:\u001b[0m \u001b[0mi\u001b[0m \u001b[1;32mfor\u001b[0m \u001b[0mi\u001b[0m\u001b[1;33m,\u001b[0m \u001b[0mq\u001b[0m \u001b[1;32min\u001b[0m \u001b[0menumerate\u001b[0m\u001b[1;33m(\u001b[0m\u001b[0msim_state\u001b[0m\u001b[1;33m.\u001b[0m\u001b[0mqubits\u001b[0m\u001b[1;33m)\u001b[0m\u001b[1;33m}\u001b[0m\u001b[1;33m\u001b[0m\u001b[1;33m\u001b[0m\u001b[0m\n\u001b[0m\u001b[0;32m    269\u001b[0m         \u001b[0msuper\u001b[0m\u001b[1;33m(\u001b[0m\u001b[1;33m)\u001b[0m\u001b[1;33m.\u001b[0m\u001b[0m__init__\u001b[0m\u001b[1;33m(\u001b[0m\u001b[0msim_state\u001b[0m\u001b[1;33m=\u001b[0m\u001b[0msim_state\u001b[0m\u001b[1;33m,\u001b[0m \u001b[0mqubit_map\u001b[0m\u001b[1;33m=\u001b[0m\u001b[0mqubit_map\u001b[0m\u001b[1;33m)\u001b[0m\u001b[1;33m\u001b[0m\u001b[1;33m\u001b[0m\u001b[0m\n\u001b[0;32m    270\u001b[0m         \u001b[0mself\u001b[0m\u001b[1;33m.\u001b[0m\u001b[0m_dtype\u001b[0m \u001b[1;33m=\u001b[0m \u001b[0mdtype\u001b[0m\u001b[1;33m\u001b[0m\u001b[1;33m\u001b[0m\u001b[0m\n",
      "\u001b[1;32m~\\Miniconda3\\envs\\qgan\\lib\\site-packages\\cirq\\sim\\sparse_simulator.py\u001b[0m in \u001b[0;36m<dictcomp>\u001b[1;34m(.0)\u001b[0m\n\u001b[0;32m    266\u001b[0m                 \u001b[0;31m`\u001b[0m\u001b[0mnumpy\u001b[0m\u001b[1;33m.\u001b[0m\u001b[0mcomplex64\u001b[0m\u001b[0;31m`\u001b[0m \u001b[1;32mor\u001b[0m\u001b[0;31m \u001b[0m\u001b[0;31m`\u001b[0m\u001b[0mnumpy\u001b[0m\u001b[1;33m.\u001b[0m\u001b[0mcomplex128\u001b[0m\u001b[0;31m`\u001b[0m\u001b[1;33m.\u001b[0m\u001b[1;33m\u001b[0m\u001b[1;33m\u001b[0m\u001b[0m\n\u001b[0;32m    267\u001b[0m         \"\"\"\n\u001b[1;32m--> 268\u001b[1;33m         \u001b[0mqubit_map\u001b[0m \u001b[1;33m=\u001b[0m \u001b[1;33m{\u001b[0m\u001b[0mq\u001b[0m\u001b[1;33m:\u001b[0m \u001b[0mi\u001b[0m \u001b[1;32mfor\u001b[0m \u001b[0mi\u001b[0m\u001b[1;33m,\u001b[0m \u001b[0mq\u001b[0m \u001b[1;32min\u001b[0m \u001b[0menumerate\u001b[0m\u001b[1;33m(\u001b[0m\u001b[0msim_state\u001b[0m\u001b[1;33m.\u001b[0m\u001b[0mqubits\u001b[0m\u001b[1;33m)\u001b[0m\u001b[1;33m}\u001b[0m\u001b[1;33m\u001b[0m\u001b[1;33m\u001b[0m\u001b[0m\n\u001b[0m\u001b[0;32m    269\u001b[0m         \u001b[0msuper\u001b[0m\u001b[1;33m(\u001b[0m\u001b[1;33m)\u001b[0m\u001b[1;33m.\u001b[0m\u001b[0m__init__\u001b[0m\u001b[1;33m(\u001b[0m\u001b[0msim_state\u001b[0m\u001b[1;33m=\u001b[0m\u001b[0msim_state\u001b[0m\u001b[1;33m,\u001b[0m \u001b[0mqubit_map\u001b[0m\u001b[1;33m=\u001b[0m\u001b[0mqubit_map\u001b[0m\u001b[1;33m)\u001b[0m\u001b[1;33m\u001b[0m\u001b[1;33m\u001b[0m\u001b[0m\n\u001b[0;32m    270\u001b[0m         \u001b[0mself\u001b[0m\u001b[1;33m.\u001b[0m\u001b[0m_dtype\u001b[0m \u001b[1;33m=\u001b[0m \u001b[0mdtype\u001b[0m\u001b[1;33m\u001b[0m\u001b[1;33m\u001b[0m\u001b[0m\n",
      "\u001b[1;32m~\\Miniconda3\\envs\\qgan\\lib\\site-packages\\cirq\\ops\\raw_types.py\u001b[0m in \u001b[0;36m__hash__\u001b[1;34m(self)\u001b[0m\n\u001b[0;32m    100\u001b[0m         \u001b[1;32mreturn\u001b[0m \u001b[1;33m(\u001b[0m\u001b[0mtype\u001b[0m\u001b[1;33m(\u001b[0m\u001b[0mself\u001b[0m\u001b[1;33m)\u001b[0m\u001b[1;33m.\u001b[0m\u001b[0m__name__\u001b[0m\u001b[1;33m,\u001b[0m \u001b[0mrepr\u001b[0m\u001b[1;33m(\u001b[0m\u001b[0mtype\u001b[0m\u001b[1;33m(\u001b[0m\u001b[0mself\u001b[0m\u001b[1;33m)\u001b[0m\u001b[1;33m)\u001b[0m\u001b[1;33m,\u001b[0m \u001b[0mself\u001b[0m\u001b[1;33m.\u001b[0m\u001b[0m_comparison_key\u001b[0m\u001b[1;33m(\u001b[0m\u001b[1;33m)\u001b[0m\u001b[1;33m,\u001b[0m \u001b[0mself\u001b[0m\u001b[1;33m.\u001b[0m\u001b[0mdimension\u001b[0m\u001b[1;33m)\u001b[0m\u001b[1;33m\u001b[0m\u001b[1;33m\u001b[0m\u001b[0m\n\u001b[0;32m    101\u001b[0m \u001b[1;33m\u001b[0m\u001b[0m\n\u001b[1;32m--> 102\u001b[1;33m     \u001b[1;32mdef\u001b[0m \u001b[0m__hash__\u001b[0m\u001b[1;33m(\u001b[0m\u001b[0mself\u001b[0m\u001b[1;33m)\u001b[0m\u001b[1;33m:\u001b[0m\u001b[1;33m\u001b[0m\u001b[1;33m\u001b[0m\u001b[0m\n\u001b[0m\u001b[0;32m    103\u001b[0m         \u001b[1;32mreturn\u001b[0m \u001b[0mhash\u001b[0m\u001b[1;33m(\u001b[0m\u001b[1;33m(\u001b[0m\u001b[0mQid\u001b[0m\u001b[1;33m,\u001b[0m \u001b[0mself\u001b[0m\u001b[1;33m.\u001b[0m\u001b[0m_comparison_key\u001b[0m\u001b[1;33m(\u001b[0m\u001b[1;33m)\u001b[0m\u001b[1;33m)\u001b[0m\u001b[1;33m)\u001b[0m\u001b[1;33m\u001b[0m\u001b[1;33m\u001b[0m\u001b[0m\n\u001b[0;32m    104\u001b[0m \u001b[1;33m\u001b[0m\u001b[0m\n",
      "\u001b[1;31mKeyboardInterrupt\u001b[0m: "
     ]
    }
   ],
   "source": [
    "train_step(encoded_data, hp={\"R\" : 5, \"I\" : 5, \"batch_size\" : 5, \"learning_rate\" : 0.01})"
   ]
  },
  {
   "cell_type": "code",
   "execution_count": 66,
   "metadata": {},
   "outputs": [
    {
     "name": "stdout",
     "output_type": "stream",
     "text": [
      "tf.Tensor(3.57863410636018, shape=(), dtype=float64)\n"
     ]
    }
   ],
   "source": [
    "print(gen_cost(createCircuit(disc_weights, gen_weights, res, real=False)))"
   ]
  },
  {
   "cell_type": "code",
   "execution_count": 113,
   "metadata": {},
   "outputs": [
    {
     "name": "stdout",
     "output_type": "stream",
     "text": [
      "Epoch 1 of 25\n",
      "Discriminator\n",
      "Discriminator\n",
      "Discriminator\n",
      "Discriminator\n",
      "Discriminator\n",
      "Generator\n",
      "Generator\n",
      "Generator\n",
      "Generator\n",
      "Generator\n",
      "Cost: 1.7322099355739977\n"
     ]
    },
    {
     "data": {
      "image/png": "[encoded data removed]",
      "text/plain": [
       "<Figure size 720x720 with 1 Axes>"
      ]
     },
     "metadata": {},
     "output_type": "display_data"
    },
    {
     "name": "stdout",
     "output_type": "stream",
     "text": [
      "Epoch 2 of 25\n",
      "Discriminator\n",
      "Discriminator\n",
      "Discriminator\n",
      "Discriminator\n",
      "Discriminator\n",
      "Generator\n",
      "Generator\n",
      "Generator\n",
      "Generator\n",
      "Generator\n",
      "Cost: 1.6854265416225962\n"
     ]
    },
    {
     "data": {
      "image/png": "[encoded data removed]",
      "text/plain": [
       "<Figure size 720x720 with 1 Axes>"
      ]
     },
     "metadata": {},
     "output_type": "display_data"
    },
    {
     "name": "stdout",
     "output_type": "stream",
     "text": [
      "Epoch 3 of 25\n",
      "Discriminator\n",
      "Discriminator\n",
      "Discriminator\n",
      "Discriminator\n",
      "Discriminator\n",
      "Generator\n",
      "Generator\n",
      "Generator\n",
      "Generator\n",
      "Generator\n",
      "Cost: 1.6291384660253356\n"
     ]
    },
    {
     "data": {
      "image/png": "[encoded data removed]",
      "text/plain": [
       "<Figure size 720x720 with 1 Axes>"
      ]
     },
     "metadata": {},
     "output_type": "display_data"
    },
    {
     "name": "stdout",
     "output_type": "stream",
     "text": [
      "Epoch 4 of 25\n",
      "Discriminator\n",
      "Discriminator\n",
      "Discriminator\n",
      "Discriminator\n",
      "Discriminator\n",
      "Generator\n",
      "Generator\n",
      "Generator\n",
      "Generator\n",
      "Generator\n",
      "Cost: 1.561603400408758\n"
     ]
    },
    {
     "data": {
      "image/png": "[encoded data removed]",
      "text/plain": [
       "<Figure size 720x720 with 1 Axes>"
      ]
     },
     "metadata": {},
     "output_type": "display_data"
    },
    {
     "name": "stdout",
     "output_type": "stream",
     "text": [
      "Epoch 5 of 25\n",
      "Discriminator\n",
      "Discriminator\n",
      "Discriminator\n",
      "Discriminator\n",
      "Discriminator\n",
      "Generator\n",
      "Generator\n",
      "Generator\n",
      "Generator\n",
      "Generator\n",
      "Cost: 1.481954558924239\n"
     ]
    },
    {
     "data": {
      "image/png": "[encoded data removed]",
      "text/plain": [
       "<Figure size 720x720 with 1 Axes>"
      ]
     },
     "metadata": {},
     "output_type": "display_data"
    },
    {
     "name": "stdout",
     "output_type": "stream",
     "text": [
      "Epoch 6 of 25\n",
      "Discriminator\n",
      "Discriminator\n",
      "Discriminator\n",
      "Discriminator\n",
      "Discriminator\n",
      "Generator\n",
      "Generator\n",
      "Generator\n",
      "Generator\n",
      "Generator\n",
      "Cost: 1.3906766653537295\n"
     ]
    },
    {
     "data": {
      "image/png": "[encoded data removed]",
      "text/plain": [
       "<Figure size 720x720 with 1 Axes>"
      ]
     },
     "metadata": {},
     "output_type": "display_data"
    },
    {
     "name": "stdout",
     "output_type": "stream",
     "text": [
      "Epoch 7 of 25\n",
      "Discriminator\n",
      "Discriminator\n",
      "Discriminator\n",
      "Discriminator\n",
      "Discriminator\n",
      "Generator\n",
      "Generator\n",
      "Generator\n",
      "Generator\n",
      "Generator\n",
      "Cost: 1.2903066302335968\n"
     ]
    },
    {
     "data": {
      "image/png": "[encoded data removed]",
      "text/plain": [
       "<Figure size 720x720 with 1 Axes>"
      ]
     },
     "metadata": {},
     "output_type": "display_data"
    },
    {
     "name": "stdout",
     "output_type": "stream",
     "text": [
      "Epoch 8 of 25\n",
      "Discriminator\n",
      "Discriminator\n",
      "Discriminator\n",
      "Discriminator\n",
      "Discriminator\n",
      "Generator\n",
      "Generator\n",
      "Generator\n",
      "Generator\n",
      "Generator\n",
      "Cost: 1.1851371933590482\n"
     ]
    },
    {
     "data": {
      "image/png": "[encoded data removed]",
      "text/plain": [
       "<Figure size 720x720 with 1 Axes>"
      ]
     },
     "metadata": {},
     "output_type": "display_data"
    },
    {
     "name": "stdout",
     "output_type": "stream",
     "text": [
      "Epoch 9 of 25\n",
      "Discriminator\n",
      "Discriminator\n",
      "Discriminator\n",
      "Discriminator\n",
      "Discriminator\n",
      "Generator\n",
      "Generator\n",
      "Generator\n",
      "Generator\n",
      "Generator\n",
      "Cost: 1.0806521665548972\n"
     ]
    },
    {
     "data": {
      "image/png": "[encoded data removed]",
      "text/plain": [
       "<Figure size 720x720 with 1 Axes>"
      ]
     },
     "metadata": {},
     "output_type": "display_data"
    },
    {
     "name": "stdout",
     "output_type": "stream",
     "text": [
      "Epoch 10 of 25\n",
      "Discriminator\n",
      "Discriminator\n",
      "Discriminator\n",
      "Discriminator\n",
      "Discriminator\n",
      "Generator\n",
      "Generator\n",
      "Generator\n",
      "Generator\n",
      "Generator\n",
      "Cost: 0.9820661384990778\n"
     ]
    },
    {
     "data": {
      "image/png": "[encoded data removed]",
      "text/plain": [
       "<Figure size 720x720 with 1 Axes>"
      ]
     },
     "metadata": {},
     "output_type": "display_data"
    },
    {
     "name": "stdout",
     "output_type": "stream",
     "text": [
      "Epoch 11 of 25\n",
      "Discriminator\n",
      "Discriminator\n",
      "Discriminator\n",
      "Discriminator\n",
      "Discriminator\n",
      "Generator\n",
      "Generator\n",
      "Generator\n",
      "Generator\n",
      "Generator\n",
      "Cost: 0.8932742771154254\n"
     ]
    },
    {
     "data": {
      "image/png": "[encoded data removed]",
      "text/plain": [
       "<Figure size 720x720 with 1 Axes>"
      ]
     },
     "metadata": {},
     "output_type": "display_data"
    },
    {
     "name": "stdout",
     "output_type": "stream",
     "text": [
      "Epoch 12 of 25\n",
      "Discriminator\n",
      "Discriminator\n",
      "Discriminator\n",
      "Discriminator\n",
      "Discriminator\n",
      "Generator\n",
      "Generator\n",
      "Generator\n",
      "Generator\n",
      "Generator\n",
      "Cost: 0.8165700717012782\n"
     ]
    },
    {
     "data": {
      "image/png": "[encoded data removed]",
      "text/plain": [
       "<Figure size 720x720 with 1 Axes>"
      ]
     },
     "metadata": {},
     "output_type": "display_data"
    },
    {
     "name": "stdout",
     "output_type": "stream",
     "text": [
      "Epoch 13 of 25\n",
      "Discriminator\n",
      "Discriminator\n",
      "Discriminator\n",
      "Discriminator\n",
      "Discriminator\n",
      "Generator\n",
      "Generator\n",
      "Generator\n",
      "Generator\n",
      "Generator\n",
      "Cost: 0.7526177700963688\n"
     ]
    },
    {
     "data": {
      "image/png": "[encoded data removed]",
      "text/plain": [
       "<Figure size 720x720 with 1 Axes>"
      ]
     },
     "metadata": {},
     "output_type": "display_data"
    },
    {
     "name": "stdout",
     "output_type": "stream",
     "text": [
      "Epoch 14 of 25\n",
      "Discriminator\n",
      "Discriminator\n",
      "Discriminator\n",
      "Discriminator\n",
      "Discriminator\n",
      "Generator\n",
      "Generator\n",
      "Generator\n",
      "Generator\n",
      "Generator\n",
      "Cost: 0.7010504938757551\n"
     ]
    },
    {
     "data": {
      "image/png": "[encoded data removed]",
      "text/plain": [
       "<Figure size 720x720 with 1 Axes>"
      ]
     },
     "metadata": {},
     "output_type": "display_data"
    },
    {
     "name": "stdout",
     "output_type": "stream",
     "text": [
      "Epoch 15 of 25\n",
      "Discriminator\n",
      "Discriminator\n",
      "Discriminator\n",
      "Discriminator\n",
      "Discriminator\n",
      "Generator\n",
      "Generator\n",
      "Generator\n",
      "Generator\n",
      "Generator\n",
      "Cost: 0.6608644257007329\n"
     ]
    },
    {
     "data": {
      "image/png": "[encoded data removed]",
      "text/plain": [
       "<Figure size 720x720 with 1 Axes>"
      ]
     },
     "metadata": {},
     "output_type": "display_data"
    },
    {
     "name": "stdout",
     "output_type": "stream",
     "text": [
      "Epoch 16 of 25\n",
      "Discriminator\n",
      "Discriminator\n",
      "Discriminator\n",
      "Discriminator\n",
      "Discriminator\n",
      "Generator\n",
      "Generator\n",
      "Generator\n",
      "Generator\n",
      "Generator\n",
      "Cost: 0.6307738158230554\n"
     ]
    },
    {
     "data": {
      "image/png": "[encoded data removed]",
      "text/plain": [
       "<Figure size 720x720 with 1 Axes>"
      ]
     },
     "metadata": {},
     "output_type": "display_data"
    },
    {
     "name": "stdout",
     "output_type": "stream",
     "text": [
      "Epoch 17 of 25\n",
      "Discriminator\n",
      "Discriminator\n",
      "Discriminator\n",
      "Discriminator\n",
      "Discriminator\n",
      "Generator\n",
      "Generator\n",
      "Generator\n",
      "Generator\n",
      "Generator\n",
      "Cost: 0.609436407890453\n"
     ]
    },
    {
     "data": {
      "image/png": "[encoded data removed]",
      "text/plain": [
       "<Figure size 720x720 with 1 Axes>"
      ]
     },
     "metadata": {},
     "output_type": "display_data"
    },
    {
     "name": "stdout",
     "output_type": "stream",
     "text": [
      "Epoch 18 of 25\n",
      "Discriminator\n",
      "Discriminator\n",
      "Discriminator\n",
      "Discriminator\n",
      "Discriminator\n",
      "Generator\n",
      "Generator\n",
      "Generator\n",
      "Generator\n",
      "Generator\n",
      "Cost: 0.5955988927313614\n"
     ]
    },
    {
     "data": {
      "image/png": "[encoded data removed]",
      "text/plain": [
       "<Figure size 720x720 with 1 Axes>"
      ]
     },
     "metadata": {},
     "output_type": "display_data"
    },
    {
     "name": "stdout",
     "output_type": "stream",
     "text": [
      "Epoch 19 of 25\n",
      "Discriminator\n",
      "Discriminator\n",
      "Discriminator\n",
      "Discriminator\n",
      "Discriminator\n",
      "Generator\n",
      "Generator\n",
      "Generator\n",
      "Generator\n",
      "Generator\n",
      "Cost: 0.5881376190231055\n"
     ]
    },
    {
     "data": {
      "image/png": "[encoded data removed]",
      "text/plain": [
       "<Figure size 720x720 with 1 Axes>"
      ]
     },
     "metadata": {},
     "output_type": "display_data"
    },
    {
     "name": "stdout",
     "output_type": "stream",
     "text": [
      "Epoch 20 of 25\n",
      "Discriminator\n",
      "Discriminator\n",
      "Discriminator\n",
      "Discriminator\n",
      "Discriminator\n",
      "Generator\n",
      "Generator\n",
      "Generator\n",
      "Generator\n",
      "Generator\n",
      "Cost: 0.5860185670054603\n"
     ]
    },
    {
     "data": {
      "image/png": "[encoded data removed]",
      "text/plain": [
       "<Figure size 720x720 with 1 Axes>"
      ]
     },
     "metadata": {},
     "output_type": "display_data"
    },
    {
     "name": "stdout",
     "output_type": "stream",
     "text": [
      "Epoch 21 of 25\n",
      "Discriminator\n",
      "Discriminator\n",
      "Discriminator\n",
      "Discriminator\n",
      "Discriminator\n",
      "Generator\n",
      "Generator\n",
      "Generator\n",
      "Generator\n",
      "Generator\n",
      "Cost: 0.5883410225170337\n"
     ]
    },
    {
     "data": {
      "image/png": "[encoded data removed]",
      "text/plain": [
       "<Figure size 720x720 with 1 Axes>"
      ]
     },
     "metadata": {},
     "output_type": "display_data"
    },
    {
     "name": "stdout",
     "output_type": "stream",
     "text": [
      "Epoch 22 of 25\n",
      "Discriminator\n",
      "Discriminator\n",
      "Discriminator\n",
      "Discriminator\n",
      "Discriminator\n",
      "Generator\n",
      "Generator\n",
      "Generator\n",
      "Generator\n",
      "Generator\n",
      "Cost: 0.5943350055833129\n"
     ]
    },
    {
     "data": {
      "image/png": "[encoded data removed]",
      "text/plain": [
       "<Figure size 720x720 with 1 Axes>"
      ]
     },
     "metadata": {},
     "output_type": "display_data"
    },
    {
     "name": "stdout",
     "output_type": "stream",
     "text": [
      "Epoch 23 of 25\n",
      "Discriminator\n",
      "Discriminator\n",
      "Discriminator\n",
      "Discriminator\n",
      "Discriminator\n",
      "Generator\n",
      "Generator\n",
      "Generator\n",
      "Generator\n",
      "Generator\n",
      "Cost: 0.6033398374113345\n"
     ]
    },
    {
     "data": {
      "image/png": "[encoded data removed]",
      "text/plain": [
       "<Figure size 720x720 with 1 Axes>"
      ]
     },
     "metadata": {},
     "output_type": "display_data"
    },
    {
     "name": "stdout",
     "output_type": "stream",
     "text": [
      "Epoch 24 of 25\n",
      "Discriminator\n",
      "Discriminator\n",
      "Discriminator\n",
      "Discriminator\n",
      "Discriminator\n",
      "Generator\n",
      "Generator\n",
      "Generator\n",
      "Generator\n",
      "Generator\n",
      "Cost: 0.6147924330387092\n"
     ]
    },
    {
     "data": {
      "image/png": "[encoded data removed]",
      "text/plain": [
       "<Figure size 720x720 with 1 Axes>"
      ]
     },
     "metadata": {},
     "output_type": "display_data"
    },
    {
     "name": "stdout",
     "output_type": "stream",
     "text": [
      "Epoch 25 of 25\n",
      "Discriminator\n",
      "Discriminator\n",
      "Discriminator\n",
      "Discriminator\n",
      "Discriminator\n",
      "Generator\n",
      "Generator\n",
      "Generator\n",
      "Generator\n",
      "Generator\n",
      "Cost: 0.6282109371251425\n"
     ]
    },
    {
     "data": {
      "image/png": "[encoded data removed]",
      "text/plain": [
       "<Figure size 720x720 with 1 Axes>"
      ]
     },
     "metadata": {},
     "output_type": "display_data"
    }
   ],
   "source": [
    "train(encoded_data[:10], hp={\"R\" : 5, \"I\" : 5, \"batch_size\" : 5, \"learning_rate\" : 0.01})"
   ]
  },
  {
   "cell_type": "markdown",
   "metadata": {},
   "source": [
    "# Generate Output\n",
    "Use trained generator to generate MNIST images. "
   ]
  },
  {
   "cell_type": "code",
   "execution_count": 114,
   "metadata": {},
   "outputs": [
    {
     "name": "stdout",
     "output_type": "stream",
     "text": [
      "[0.8        0.7        0.6        0.63333333]\n"
     ]
    }
   ],
   "source": [
    "num_shots = 30\n",
    "data = (generate_output(gen_weights, shots=num_shots) + 1) / 2\n",
    "print(data)\n",
    "image = decode(dec, data.reshape(1,-1), scaler)"
   ]
  },
  {
   "cell_type": "code",
   "execution_count": 115,
   "metadata": {},
   "outputs": [
    {
     "data": {
      "image/png": "[encoded data removed]",
      "text/plain": [
       "<Figure size 720x720 with 1 Axes>"
      ]
     },
     "metadata": {},
     "output_type": "display_data"
    }
   ],
   "source": [
    "display_image(image, 1)"
   ]
  },
  {
   "cell_type": "code",
   "execution_count": null,
   "metadata": {},
   "outputs": [],
   "source": []
  }
 ],
 "metadata": {
  "kernelspec": {
   "display_name": "Python 3 (ipykernel)",
   "language": "python",
   "name": "python3"
  },
  "language_info": {
   "codemirror_mode": {
    "name": "ipython",
    "version": 3
   },
   "file_extension": ".py",
   "mimetype": "text/x-python",
   "name": "python",
   "nbconvert_exporter": "python",
   "pygments_lexer": "ipython3",
   "version": "3.9.7"
  }
 },
 "nbformat": 4,
 "nbformat_minor": 4
}
