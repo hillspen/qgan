{
 "cells": [
  {
   "cell_type": "markdown",
   "metadata": {},
   "source": [
    "# QGAN\n",
    "Quantum Generative Adversarial Network capable of generating novel MNIST images. Created by QMIND's Disruptive Technology team consisting of Cameron Estabrooks, Jacob Ewaniuk, Adam Grace, Spencer Hill, and Joshua Otten. "
   ]
  },
  {
   "cell_type": "code",
   "execution_count": 1,
   "metadata": {},
   "outputs": [],
   "source": [
    "# Imports\n",
    "import tensorflow as tf\n",
    "from tensorflow import keras\n",
    "from matplotlib import pyplot as plt\n",
    "\n",
    "from pennylane import numpy as np\n",
    "from numpy import pi\n",
    "from numpy import linalg as la\n",
    "\n",
    "import pennylane as qml\n",
    "import cirq\n",
    "import math as m\n",
    "import numpy as np\n",
    "from tqdm import tqdm # library for showing progress bars\n",
    "\n",
    "from sklearn.preprocessing import MinMaxScaler\n",
    "\n",
    "res = 4\n",
    "numQubits = 2 * res + 1\n",
    "numWeights = 3 * res - 1\n",
    "dev = qml.device('cirq.simulator', wires=numQubits)"
   ]
  },
  {
   "cell_type": "markdown",
   "metadata": {},
   "source": [
    "# Data Loading and Preparation\n",
    "Load MNIST data, normalize it, and create new arrays with only the 3 and 9 digits"
   ]
  },
  {
   "cell_type": "code",
   "execution_count": 2,
   "metadata": {},
   "outputs": [],
   "source": [
    "# Utility function to display images \n",
    "def display_image(X_data, image_num, Y_labels=None):\n",
    "    plt.figure(figsize=(10,10))\n",
    "    for i in range(image_num):\n",
    "        plt.subplot(5,5,i+1)\n",
    "        plt.xticks([])\n",
    "        plt.yticks([])\n",
    "        plt.grid(False)\n",
    "        plt.imshow(X_data[i], cmap='Greys')\n",
    "        # The CIFAR labels happen to be arrays, \n",
    "        # which is why you need the extra index\n",
    "        if Y_labels is not None:\n",
    "            plt.xlabel(Y_labels[i])\n",
    "    plt.show()"
   ]
  },
  {
   "cell_type": "code",
   "execution_count": 3,
   "metadata": {},
   "outputs": [
    {
     "data": {
      "image/png": "[encoded data removed]",
      "text/plain": [
       "<Figure size 720x720 with 25 Axes>"
      ]
     },
     "metadata": {},
     "output_type": "display_data"
    }
   ],
   "source": [
    "# Prepare and Load Data\n",
    "(X_train, Y_train), (X_test, Y_test) = tf.keras.datasets.mnist.load_data()\n",
    "full_X = np.concatenate((X_train, X_test))\n",
    "full_Y = np.concatenate((Y_train, Y_test))\n",
    "full_X = full_X / 255\n",
    "other_X = full_X[:10000] # Paper only uses first 10000 images for training\n",
    "other_Y = full_Y[:10000]\n",
    "# Select only 3s and 8s\n",
    "X = []\n",
    "Y = []\n",
    "for i in range(len(other_X)):\n",
    "    if other_Y[i] == 3 or other_Y[i] == 8:\n",
    "        X.append(other_X[i])\n",
    "        Y.append(other_Y[i])\n",
    "X = np.array(X)\n",
    "Y = np.array(Y)\n",
    "\n",
    "# Display select images\n",
    "display_image(X, 25, Y)"
   ]
  },
  {
   "cell_type": "markdown",
   "metadata": {},
   "source": [
    "# Image Encoding\n",
    "Define functions to encode and decode MNSIST images. Methods available include a trained Variational Autoencoder and the Principle Component Analysis (PCA) algorithm."
   ]
  },
  {
   "cell_type": "code",
   "execution_count": 4,
   "metadata": {},
   "outputs": [
    {
     "name": "stdout",
     "output_type": "stream",
     "text": [
      "Model: \"model\"\n",
      "_________________________________________________________________\n",
      " Layer (type)                Output Shape              Param #   \n",
      "=================================================================\n",
      " input_1 (InputLayer)        [(None, 784)]             0         \n",
      "                                                                 \n",
      " dense (Dense)               (None, 256)               200960    \n",
      "                                                                 \n",
      " dense_1 (Dense)             (None, 64)                16448     \n",
      "                                                                 \n",
      " dense_2 (Dense)             (None, 4)                 260       \n",
      "                                                                 \n",
      " dense_3 (Dense)             (None, 64)                320       \n",
      "                                                                 \n",
      " dense_4 (Dense)             (None, 256)               16640     \n",
      "                                                                 \n",
      " dense_5 (Dense)             (None, 784)               201488    \n",
      "                                                                 \n",
      "=================================================================\n",
      "Total params: 436,116\n",
      "Trainable params: 436,116\n",
      "Non-trainable params: 0\n",
      "_________________________________________________________________\n",
      "None\n",
      "Model: \"model\"\n",
      "_________________________________________________________________\n",
      " Layer (type)                Output Shape              Param #   \n",
      "=================================================================\n",
      " Encoder Input (InputLayer)  [(None, 784)]             0         \n",
      "                                                                 \n",
      " dense (Dense)               (None, 256)               200960    \n",
      "                                                                 \n",
      " dense_1 (Dense)             (None, 64)                16448     \n",
      "                                                                 \n",
      " dense_2 (Dense)             (None, 4)                 260       \n",
      "                                                                 \n",
      "=================================================================\n",
      "Total params: 217,668\n",
      "Trainable params: 217,668\n",
      "Non-trainable params: 0\n",
      "_________________________________________________________________\n",
      "None\n",
      "Model: \"model_1\"\n",
      "_________________________________________________________________\n",
      " Layer (type)                Output Shape              Param #   \n",
      "=================================================================\n",
      " Decoder Input (InputLayer)  [(None, 4)]               0         \n",
      "                                                                 \n",
      " input_1 (InputLayer)        multiple                  0         \n",
      "                                                                 \n",
      " dense_3 (Dense)             (None, 64)                320       \n",
      "                                                                 \n",
      " dense_4 (Dense)             (None, 256)               16640     \n",
      "                                                                 \n",
      " dense_5 (Dense)             (None, 784)               201488    \n",
      "                                                                 \n",
      "=================================================================\n",
      "Total params: 218,448\n",
      "Trainable params: 218,448\n",
      "Non-trainable params: 0\n",
      "_________________________________________________________________\n",
      "None\n"
     ]
    }
   ],
   "source": [
    "# Load the trained autoencoder\n",
    "def load_autoencoder():\n",
    "    model = keras.models.load_model('mnist_enc/mnist_enc/')\n",
    "    print(model.summary())\n",
    "    layer = model.get_layer('dense_2')\n",
    "    bottom_input = keras.layers.Input(model.input_shape[1:], name=\"Encoder Input\")\n",
    "    bottom_output = bottom_input\n",
    "#     bottom_output = keras.layers.Input(model.input_shape[1:])\n",
    "    top_input = keras.layers.Input(layer.output_shape[1:], name=\"Decoder Input\")\n",
    "    top_output = top_input\n",
    "\n",
    "    bottom = True\n",
    "    for layer in model.layers:\n",
    "        if bottom and layer.name != 'input_1':\n",
    "            bottom_output = layer(bottom_output)\n",
    "        else:\n",
    "            top_output = layer(top_output)\n",
    "        if layer.name == 'dense_2':\n",
    "            bottom = False\n",
    "\n",
    "    enc_model = keras.Model(bottom_input, bottom_output)\n",
    "    dec_model = keras.Model(top_input, top_output)\n",
    "    return enc_model, dec_model\n",
    "\n",
    "enc, dec = load_autoencoder()\n",
    "print(enc.summary())\n",
    "print(dec.summary())"
   ]
  },
  {
   "cell_type": "code",
   "execution_count": 5,
   "metadata": {},
   "outputs": [],
   "source": [
    "# Encodes MNIST data into rotations. Return encoded data and the MinMaxScaler used to \n",
    "# normalize it (so it can be used to decode the compressed data)\n",
    "def encode(encoder, data):\n",
    "    encoded = encoder.predict(data.reshape(-1, 784))\n",
    "    scaler = MinMaxScaler()\n",
    "    scaler.fit(encoded)\n",
    "    scaled_encoded = scaler.transform(encoded)\n",
    "    qubitized_data = 2*np.arcsin(np.sqrt(scaled_encoded)) # Should play around with\n",
    "    return qubitized_data, scaler\n",
    "\n",
    "# Decodes compressed data\n",
    "def decode(decoder, data, scaler):\n",
    "    unscaled = scaler.inverse_transform(np.sin(data / 2) ** 2)\n",
    "    return decoder.predict(unscaled).reshape(-1,28,28)"
   ]
  },
  {
   "cell_type": "code",
   "execution_count": 6,
   "metadata": {},
   "outputs": [],
   "source": [
    "encoded_data, scaler = encode(enc, X)"
   ]
  },
  {
   "cell_type": "code",
   "execution_count": 11,
   "metadata": {},
   "outputs": [
    {
     "name": "stdout",
     "output_type": "stream",
     "text": [
      "[0.88842404 1.1144376  1.5042537  1.1585926 ]\n"
     ]
    },
    {
     "data": {
      "image/png": "[encoded data removed]",
      "text/plain": [
       "<Figure size 720x720 with 25 Axes>"
      ]
     },
     "metadata": {},
     "output_type": "display_data"
    }
   ],
   "source": [
    "print(encoded_data[1])\n",
    "test = decode(dec, encoded_data, scaler)\n",
    "display_image(test, 25)"
   ]
  },
  {
   "cell_type": "code",
   "execution_count": 12,
   "metadata": {},
   "outputs": [
    {
     "data": {
      "image/png": "[encoded data removed]",
      "text/plain": [
       "<Figure size 720x720 with 25 Axes>"
      ]
     },
     "metadata": {},
     "output_type": "display_data"
    }
   ],
   "source": [
    "@qml.qnode(dev, interface=\"tf\")\n",
    "def test_circ(res, data):\n",
    "    for i in range(0, res):\n",
    "        qml.RY(data[i], wires=i)\n",
    "    return [qml.expval(qml.PauliZ(i)) for i in range(4)]\n",
    "\n",
    "test_data = [test_circ(res, encoded_data[i]) for i in range(25)]\n",
    "test_img = decode(dec, encoded_data, scaler)\n",
    "display_image(test_img, 25)"
   ]
  },
  {
   "cell_type": "markdown",
   "metadata": {},
   "source": [
    "## Initialize weights"
   ]
  },
  {
   "cell_type": "code",
   "execution_count": 7,
   "metadata": {},
   "outputs": [
    {
     "name": "stdout",
     "output_type": "stream",
     "text": [
      "<tf.Variable 'Variable:0' shape=(11,) dtype=float64, numpy=\n",
      "array([0.84068502, 2.61145853, 0.45294196, 0.04034096, 0.60686194,\n",
      "       0.03941928, 1.88742296, 1.87686331, 1.4227404 , 0.09531981,\n",
      "       0.42337895])>\n",
      "<tf.Variable 'Variable:0' shape=(11,) dtype=float64, numpy=\n",
      "array([2.18585844, 2.46194266, 2.56305906, 0.46570659, 0.81863403,\n",
      "       2.13974452, 2.06548175, 2.27287801, 2.07606807, 2.01759679,\n",
      "       1.25793971])>\n"
     ]
    }
   ],
   "source": [
    "disc_weights = tf.Variable(np.pi * np.random.uniform(size=(numWeights,)))\n",
    "gen_weights = tf.Variable(np.pi * np.random.uniform(size=(numWeights,)))\n",
    "\n",
    "print(disc_weights)\n",
    "print(gen_weights)"
   ]
  },
  {
   "cell_type": "markdown",
   "metadata": {},
   "source": [
    "# Generator and Discriminator Models\n"
   ]
  },
  {
   "cell_type": "code",
   "execution_count": 8,
   "metadata": {},
   "outputs": [],
   "source": [
    "def generator(thetas, res):\n",
    "    for i in range(res):\n",
    "        qml.RY(thetas[i], wires=i+1+res)\n",
    "\n",
    "    for i in range(res-1):\n",
    "        qml.IsingYY(thetas[i+res], wires=[i+1+res, i+2+res])\n",
    "    \n",
    "    for i in range(res):\n",
    "        if (i+2)%res == 0:\n",
    "            qml.CRY(thetas[i+2*res-1], wires=[i+1+res, 2*res])\n",
    "        else:\n",
    "            qml.CRY(thetas[i+2*res-1], wires=[i+1+res, ((i+2)%res)+res])"
   ]
  },
  {
   "cell_type": "code",
   "execution_count": 9,
   "metadata": {},
   "outputs": [],
   "source": [
    "def discriminator(thetas, res):\n",
    "    for i in range(res):\n",
    "        qml.RY(thetas[i], wires=i+1)\n",
    "    \n",
    "    for i in range(res-1):\n",
    "        qml.IsingYY(thetas[i+res], wires=[i+1, i+2])\n",
    "    \n",
    "    for i in range(res):\n",
    "        if (i+2)%res == 0:\n",
    "            qml.CRY(thetas[i+2*res-1], wires=[i+1, res])\n",
    "        else:\n",
    "            qml.CRY(thetas[i+2*res-1], wires=[i+1, (i+2)%res])"
   ]
  },
  {
   "cell_type": "markdown",
   "metadata": {},
   "source": [
    "# Full QGAN Circuit"
   ]
  },
  {
   "cell_type": "code",
   "execution_count": 10,
   "metadata": {},
   "outputs": [],
   "source": [
    "@qml.qnode(dev, interface=\"tf\")\n",
    "def createCircuit(disc_weights, gen_weights, res, real=False, real_data=None):\n",
    "    qml.Hadamard(wires=0)\n",
    "    discriminator(disc_weights, res)\n",
    "    if not real:\n",
    "        generator(gen_weights, res)\n",
    "        \n",
    "    if real:\n",
    "        # Encode real data into Quantum Circuit\n",
    "        for i in range(0, res):\n",
    "            qml.RY(real_data[i], wires=i+1+res)\n",
    "            \n",
    "    for i in range(res):\n",
    "        qml.CSWAP(wires=[0, i+1, i+1+res])\n",
    "    qml.Hadamard(wires=0)\n",
    "\n",
    "    return qml.expval(qml.PauliZ(0))"
   ]
  },
  {
   "cell_type": "markdown",
   "metadata": {},
   "source": [
    "# Cost Functions"
   ]
  },
  {
   "cell_type": "code",
   "execution_count": 11,
   "metadata": {},
   "outputs": [],
   "source": [
    "# def disc_cost(disc_weights, gen_weights, res):\n",
    "#     real_fidelity = genCircuit(disc_weights, gen_weights, res)\n",
    "#     gen_fidelity = genCircuit(disc_weights, gen_weights, res, real=False)\n",
    "#     print(real_fidelity, gen_fidelity)\n",
    "# #     return m.log(real_fidelity) + m.log(1-gen_fidelity)\n",
    "#     return tf.math.log(real_fidelity) + tf.math.log(1-gen_fidelity)\n",
    "\n",
    "# def gen_cost(disc_weights, gen_weights, res):\n",
    "#     gen_fidelity = genCircuit(disc_weights, gen_weights, res, real=False)\n",
    "# #     return m.log(gen_fidelity)\n",
    "#     return tf.math.log(gen_fidelity)\n",
    "\n",
    "def real_disc_cost(expectation):\n",
    "    if expectation <= 0.005: # They did in the paper\n",
    "        expectation = 0.005\n",
    "    return -tf.math.log(expectation)\n",
    "\n",
    "def fake_disc_cost(expectation):\n",
    "    if expectation <= 0.005:\n",
    "        expectation = 0.005\n",
    "    return -tf.math.log(1-expectation)\n",
    "    \n",
    "def gen_cost(expectation):\n",
    "    if expectation <= 0.005:\n",
    "        expectation = 0.005\n",
    "    return -tf.math.log(expectation) # Maybe incorrect?"
   ]
  },
  {
   "cell_type": "code",
   "execution_count": 12,
   "metadata": {},
   "outputs": [],
   "source": [
    "def parameter_shift_term(cost, i, params=None):\n",
    "    if params is None:\n",
    "        # disc_model (boolean) : which parameters are being shifted, generator's if False.\n",
    "        # real (boolean) : whether real data is being used\n",
    "        params = {\"disc_model\" : True, \"real\" : False, \"real_data\" : None}\n",
    "    if params[\"disc_model\"]:\n",
    "        shifted = disc_weights.numpy().copy()\n",
    "        shifted[i] += np.pi/2\n",
    "        exp = createCircuit(shifted, gen_weights, res, real=params[\"real\"], real_data=params[\"real_data\"])\n",
    "    else:\n",
    "        shifted = gen_weights.numpy().copy()\n",
    "        shifted[i] += np.pi/2\n",
    "        exp = createCircuit(disc_weights, shifted, res, real=False, real_data=None)\n",
    "    forward = cost(exp)  # forward evaluation\n",
    "    \n",
    "    if params[\"disc_model\"]:\n",
    "        shifted[i] -= np.pi\n",
    "        exp = createCircuit(shifted, gen_weights, res, real=params[\"real\"], real_data=params[\"real_data\"])\n",
    "    else:\n",
    "        shifted[i] -= np.pi/2\n",
    "        exp = createCircuit(disc_weights, shifted, res, real=False, real_data=None)\n",
    "    backward = cost(exp) # backward evaluation\n",
    "\n",
    "    return (0.5 * (forward.numpy() - backward.numpy()))"
   ]
  },
  {
   "cell_type": "code",
   "execution_count": 13,
   "metadata": {},
   "outputs": [],
   "source": [
    "def calc_gradient(cost, params):\n",
    "    grad = [0] * numWeights\n",
    "    for i in range(numWeights):\n",
    "        grad[i] = parameter_shift_term(cost, i, params=params)\n",
    "    return np.array(grad)"
   ]
  },
  {
   "cell_type": "code",
   "execution_count": 14,
   "metadata": {},
   "outputs": [
    {
     "name": "stdout",
     "output_type": "stream",
     "text": [
      "-0.04421918300282121\n"
     ]
    }
   ],
   "source": [
    "params = {\"disc_model\" : True, \"real\" : True, \"real_data\" : encoded_data[0]}\n",
    "grad = parameter_shift_term(fake_disc_cost, 0, params)\n",
    "print(grad)"
   ]
  },
  {
   "cell_type": "code",
   "execution_count": 15,
   "metadata": {},
   "outputs": [
    {
     "name": "stdout",
     "output_type": "stream",
     "text": [
      "[-0.04421918 -0.10214318 -0.00517794  0.01947957 -0.01980082 -0.03650784\n",
      " -0.07084756 -0.02572021 -0.01574248  0.01294511 -0.00386693]\n"
     ]
    }
   ],
   "source": [
    "grad = calc_gradient(fake_disc_cost, params)\n",
    "print(grad)"
   ]
  },
  {
   "cell_type": "code",
   "execution_count": 16,
   "metadata": {
    "scrolled": true
   },
   "outputs": [
    {
     "name": "stdout",
     "output_type": "stream",
     "text": [
      " 0: ──H──────────────────────────────────────────────────────────────────────────────────────────────────╭C─────╭C─────╭C─────╭C─────H──┤ ⟨Z⟩ \n",
      " 1: ──RY(0.841)───╭IsingYY(0.607)────────────────────╭C──────────────────────────────────────╭RY(0.423)──├SWAP──│──────│──────│─────────┤     \n",
      " 2: ──RY(2.61)────╰IsingYY(0.607)──╭IsingYY(0.0394)──╰RY(1.88)───────╭C──────────────────────│───────────│──────├SWAP──│──────│─────────┤     \n",
      " 3: ──RY(0.453)────────────────────╰IsingYY(0.0394)──╭IsingYY(1.89)──╰RY(1.42)──╭C───────────│───────────│──────│──────├SWAP──│─────────┤     \n",
      " 4: ──RY(0.0403)─────────────────────────────────────╰IsingYY(1.89)─────────────╰RY(0.0953)──╰C──────────│──────│──────│──────├SWAP─────┤     \n",
      " 5: ──RY(2.19)────╭IsingYY(0.819)────────────────────╭C──────────────────────────────────────╭RY(1.26)───╰SWAP──│──────│──────│─────────┤     \n",
      " 6: ──RY(2.46)────╰IsingYY(0.819)──╭IsingYY(2.14)────╰RY(2.27)───────╭C──────────────────────│──────────────────╰SWAP──│──────│─────────┤     \n",
      " 7: ──RY(2.56)─────────────────────╰IsingYY(2.14)────╭IsingYY(2.07)──╰RY(2.08)──╭C───────────│─────────────────────────╰SWAP──│─────────┤     \n",
      " 8: ──RY(0.466)──────────────────────────────────────╰IsingYY(2.07)─────────────╰RY(2.02)────╰C───────────────────────────────╰SWAP─────┤     \n",
      "\n"
     ]
    }
   ],
   "source": [
    "drawer = qml.draw(createCircuit)\n",
    "print(drawer(disc_weights, gen_weights, res, real=False))"
   ]
  },
  {
   "cell_type": "markdown",
   "metadata": {},
   "source": [
    "# Training Functions"
   ]
  },
  {
   "cell_type": "code",
   "execution_count": 17,
   "metadata": {},
   "outputs": [],
   "source": [
    "# Function that produces average measurements from trained generator\n",
    "@qml.qnode(dev)\n",
    "def generate_output(weights):\n",
    "    generator(weights, res)\n",
    "    return [qml.expval(qml.PauliZ(i+res+1)) for i in range(res)]"
   ]
  },
  {
   "cell_type": "code",
   "execution_count": 18,
   "metadata": {},
   "outputs": [],
   "source": [
    "@qml.qnode(dev, interface=\"tf\")\n",
    "def gen_loss():\n",
    "    generator(gen_weights, res)\n",
    "    return gen_cost(qml.expval(qml.PauliZ(0)))\n",
    "\n",
    "def train_step(real_data, hp=None):\n",
    "    global disc_weights, gen_weights\n",
    "    if hp is None:\n",
    "        # R (int) : Disc - Gen train count\n",
    "        hp = {\"R\" : len(encoded_data), \"I\" : len(encoded_data) // 10, \"batch_size\" : 1, \"learning_rate\" : 0.01}\n",
    "    # Discriminator on real data\n",
    "    print(\"Discriminator on real\")\n",
    "    for i in tqdm(range(len(real_data)// hp[\"batch_size\"])): \n",
    "        average_grad = np.array([0] * numWeights, dtype=\"float64\")\n",
    "        for image in real_data[i*hp[\"batch_size\"]:(i+1)*hp[\"batch_size\"]]:\n",
    "            params = {\"disc_model\" : True, \"real\" : True, \"real_data\" : image}\n",
    "            gradient = calc_gradient(real_disc_cost, params) # Have to find the actual format for gradient to use tf.apply_gradients\n",
    "            average_grad = average_grad + gradient\n",
    "        average_grad /= hp[\"batch_size\"]\n",
    "        \n",
    "        # Apply gradient\n",
    "        disc_weights = disc_weights - hp[\"learning_rate\"]*average_grad\n",
    "    # Discriminator on fake data\n",
    "    print(\"Discriminator on fake\")\n",
    "    for _ in tqdm(range(hp[\"R\"])):\n",
    "        params = {\"disc_model\" : True, \"real\" : False, \"real_data\" : None}\n",
    "        gradient = calc_gradient(fake_disc_cost, params)\n",
    "        # Apply gradient\n",
    "        disc_weights = disc_weights - hp[\"learning_rate\"]*gradient\n",
    "        \n",
    "    print(\"Generator\")\n",
    "    for _ in tqdm(range(hp[\"I\"])):\n",
    "        params = {\"disc_model\" : False, \"real\" : False, \"real_data\" : None}\n",
    "        gradient = calc_gradient(gen_cost, params)\n",
    "        \n",
    "        gen_weights = gen_weights - 2.5*hp[\"learning_rate\"]*gradient\n",
    "        # They use 10 times less t\"raining steps for generator but a 2.5 times higher learning rate.\n",
    "        # Apply gradient\n",
    "    \n",
    "   "
   ]
  },
  {
   "cell_type": "code",
   "execution_count": 19,
   "metadata": {},
   "outputs": [],
   "source": [
    "def train(real_data, epochs=25, hp=None, reset=True, num_shots=30):\n",
    "    global disc_weights, gen_weights\n",
    "    if reset:\n",
    "        disc_weights = tf.Variable(np.pi * np.random.uniform(size=(numWeights,)))\n",
    "        gen_weights = tf.Variable(np.pi * np.random.uniform(size=(numWeights,)))\n",
    "        v_gen = 0\n",
    "        v_disc = 0\n",
    "    \n",
    "    for i in range(epochs):\n",
    "        print(\"Epoch {} of {}\".format(i+1, epochs))\n",
    "        train_step(real_data, hp)\n",
    "        # Printing out loss/visualizing examples at certain training steps.\n",
    "        print(\"Cost: {}\".format(gen_cost(createCircuit(disc_weights, gen_weights, res, real=False))))\n",
    "        data = (generate_output(gen_weights, shots=num_shots) + 1) / 2\n",
    "        image = decode(dec, data.reshape(1,-1), scaler)\n",
    "        display_image(image, 1)"
   ]
  },
  {
   "cell_type": "code",
   "execution_count": null,
   "metadata": {
    "scrolled": false
   },
   "outputs": [],
   "source": [
    "train_step(encoded_data, hp={\"R\" : 10, \"I\" : 1, \"batch_size\" : 5, \"learning_rate\" : 0.01})"
   ]
  },
  {
   "cell_type": "code",
   "execution_count": 52,
   "metadata": {},
   "outputs": [
    {
     "name": "stdout",
     "output_type": "stream",
     "text": [
      "tf.Tensor(2.350158937389288, shape=(), dtype=float64)\n",
      "1976\n"
     ]
    }
   ],
   "source": [
    "print(gen_cost(createCircuit(disc_weights, gen_weights, res, real=False)))"
   ]
  },
  {
   "cell_type": "code",
   "execution_count": null,
   "metadata": {},
   "outputs": [
    {
     "name": "stdout",
     "output_type": "stream",
     "text": [
      "Epoch 1 of 25\n",
      "Discriminator on real\n"
     ]
    },
    {
     "name": "stderr",
     "output_type": "stream",
     "text": [
      "100%|██████████████████████████████████████████████████████████████████████████████████| 20/20 [00:25<00:00,  1.28s/it]\n"
     ]
    },
    {
     "name": "stdout",
     "output_type": "stream",
     "text": [
      "Discriminator on fake\n"
     ]
    },
    {
     "name": "stderr",
     "output_type": "stream",
     "text": [
      "100%|████████████████████████████████████████████████████████████████████████████████| 100/100 [00:41<00:00,  2.41it/s]\n"
     ]
    },
    {
     "name": "stdout",
     "output_type": "stream",
     "text": [
      "Generator\n"
     ]
    },
    {
     "name": "stderr",
     "output_type": "stream",
     "text": [
      "100%|██████████████████████████████████████████████████████████████████████████████████| 10/10 [00:04<00:00,  2.46it/s]"
     ]
    },
    {
     "name": "stdout",
     "output_type": "stream",
     "text": [
      "Cost: 2.0309919653544104\n"
     ]
    },
    {
     "name": "stderr",
     "output_type": "stream",
     "text": [
      "\n"
     ]
    },
    {
     "data": {
      "image/png": "[encoded data removed]",
      "text/plain": [
       "<Figure size 720x720 with 1 Axes>"
      ]
     },
     "metadata": {},
     "output_type": "display_data"
    },
    {
     "name": "stdout",
     "output_type": "stream",
     "text": [
      "Epoch 2 of 25\n",
      "Discriminator on real\n"
     ]
    },
    {
     "name": "stderr",
     "output_type": "stream",
     "text": [
      "100%|██████████████████████████████████████████████████████████████████████████████████| 20/20 [00:27<00:00,  1.37s/it]\n"
     ]
    },
    {
     "name": "stdout",
     "output_type": "stream",
     "text": [
      "Discriminator on fake\n"
     ]
    },
    {
     "name": "stderr",
     "output_type": "stream",
     "text": [
      "  1%|▊                                                                                 | 1/100 [00:00<00:38,  2.56it/s]"
     ]
    }
   ],
   "source": [
    "train(encoded_data[:100], hp={\"R\" : 100, \"I\" : 10, \"batch_size\" : 5, \"learning_rate\" : 0.01})"
   ]
  },
  {
   "cell_type": "markdown",
   "metadata": {},
   "source": [
    "# Generate Output\n",
    "Use trained generator to generate MNIST images. "
   ]
  },
  {
   "cell_type": "code",
   "execution_count": 86,
   "metadata": {},
   "outputs": [
    {
     "name": "stdout",
     "output_type": "stream",
     "text": [
      "[0.53333333 0.36666667 0.6        0.5       ]\n"
     ]
    }
   ],
   "source": [
    "num_shots = 30\n",
    "data = (generate_output(gen_weights, shots=num_shots) + 1) / 2\n",
    "print(data)\n",
    "image = decode(dec, data.reshape(1,-1), scaler)"
   ]
  },
  {
   "cell_type": "code",
   "execution_count": 87,
   "metadata": {},
   "outputs": [
    {
     "data": {
      "image/png": "[encoded data removed]",
      "text/plain": [
       "<Figure size 720x720 with 1 Axes>"
      ]
     },
     "metadata": {},
     "output_type": "display_data"
    }
   ],
   "source": [
    "display_image(image, 1)"
   ]
  },
  {
   "cell_type": "code",
   "execution_count": 100,
   "metadata": {},
   "outputs": [
    {
     "data": {
      "image/png": "[encoded data removed]",
      "text/plain": [
       "<Figure size 720x720 with 25 Axes>"
      ]
     },
     "metadata": {},
     "output_type": "display_data"
    }
   ],
   "source": [
    "images = []\n",
    "outputs = []\n",
    "for i in range(25):\n",
    "    outputs.append((generate_output(gen_weights, shots=10) + 1) / 2)\n",
    "images = [decode(dec, x.reshape(1, -1), scaler).reshape((28, 28)) for x in outputs]\n",
    "display_image(images, 25)"
   ]
  },
  {
   "cell_type": "markdown",
   "metadata": {},
   "source": [
    "# Evalutation"
   ]
  },
  {
   "cell_type": "code",
   "execution_count": 1,
   "metadata": {},
   "outputs": [
    {
     "name": "stdout",
     "output_type": "stream",
     "text": [
      "0.15049827134518493\n"
     ]
    }
   ],
   "source": [
    "# --------- Can use for quantum or classical data -----------\n",
    "# Takes two probability distributions (two arrays where all the numbers in each array sum to one)\n",
    "def hellinger_distance(pDistribution, qDistribution):\n",
    "    hDistance = 0\n",
    "    for pVal,qVal in zip(pDistribution,qDistribution):\n",
    "        hDistance += (pVal**0.5 - qVal**0.5)**2\n",
    "    hDistance = (1/(2**0.5))*(hDistance**0.5) \n",
    "    return hDistance\n",
    "\n",
    "# Testing the function with basic example (it works)\n",
    "print(hellinger_distance([0.36, 0.48, 0.16], [0.3333333, 0.3333333, 0.3333333]))\n"
   ]
  },
  {
   "cell_type": "code",
   "execution_count": null,
   "metadata": {},
   "outputs": [],
   "source": []
  }
 ],
 "metadata": {
  "kernelspec": {
   "display_name": "Python 3 (ipykernel)",
   "language": "python",
   "name": "python3"
  },
  "language_info": {
   "codemirror_mode": {
    "name": "ipython",
    "version": 3
   },
   "file_extension": ".py",
   "mimetype": "text/x-python",
   "name": "python",
   "nbconvert_exporter": "python",
   "pygments_lexer": "ipython3",
   "version": "3.9.1"
  }
 },
 "nbformat": 4,
 "nbformat_minor": 4
}
